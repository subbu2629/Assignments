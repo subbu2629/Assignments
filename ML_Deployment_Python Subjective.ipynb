{
 "cells": [
  {
   "cell_type": "markdown",
   "metadata": {},
   "source": [
    "Q1. Write a Python program to get the string from the given string where\n",
    "all the occurrence of its first char has been changed to '$,' except first\n",
    "char itself?"
   ]
  },
  {
   "cell_type": "code",
   "execution_count": 8,
   "metadata": {},
   "outputs": [
    {
     "name": "stdout",
     "output_type": "stream",
     "text": [
      "Please enter string value:propriter\n",
      "pro$riter\n"
     ]
    }
   ],
   "source": [
    "given_string=input(\"Please enter string value:\")\n",
    "fstchar=given_string[0] # storing first character in a variable\n",
    "inpstring=given_string[1:] \n",
    "for char in inpstring:\n",
    "    if char in inpstring and char==fstchar:\n",
    "        print(fstchar+inpstring.replace(char,'$'))"
   ]
  },
  {
   "cell_type": "raw",
   "metadata": {},
   "source": [
    "# Q2. Write a Python program to get the single string from the two given strings, and separated by the space and swap the first two characters of each string?"
   ]
  },
  {
   "cell_type": "code",
   "execution_count": 12,
   "metadata": {},
   "outputs": [
    {
     "name": "stdout",
     "output_type": "stream",
     "text": [
      "Enter first string:XYZ\n",
      "Enter second string:PQR\n",
      "Resultant String is: PQZ XYR\n"
     ]
    }
   ],
   "source": [
    "fststr=input(\"Enter first string:\")\n",
    "scndstr=input(\"Enter second string:\")\n",
    "\n",
    "result= fststr.replace(fststr[0:2],scndstr[0:2])+\" \"+scndstr.replace(scndstr[0:2],fststr[0:2])\n",
    "print(\"Resultant String is: \" + result)\n"
   ]
  },
  {
   "cell_type": "raw",
   "metadata": {},
   "source": [
    "# Q3.Write the Python program to add 'ing' at the end of the given string (length of the string should be at least 3). If given string already ends with 'ing,' then add 'ly' instead. If string length of the given string is less than 3, leave it unchanged?"
   ]
  },
  {
   "cell_type": "code",
   "execution_count": 43,
   "metadata": {},
   "outputs": [
    {
     "name": "stdout",
     "output_type": "stream",
     "text": [
      "Enter the string to answer Q3:doing\n",
      "Modified string is :doingly\n"
     ]
    }
   ],
   "source": [
    "instring=input(\"Enter the string to answer Q3:\")\n",
    "# print(instring[-3:])\n",
    "\n",
    "if(len(instring)>=3):\n",
    "    if(str(instring[-3:])==\"ing\"):\n",
    "        print(\"Modified string is :\"+ instring+ \"ly\")\n",
    "    elif(str(instring[-3:])!=\"ing\"):\n",
    "        print(\"Modified string is :\"+ instring+ \"ing\")\n",
    "        \n",
    "else:\n",
    "    print(\"there is no change to the string :\" + instring)\n",
    "    \n",
    "#     elif(len(instring)>=3 and str(instring[-3:])==\"ing\"):\n",
    "#         print(instring+ \"ly\")\n",
    "#     else\n",
    "    "
   ]
  },
  {
   "cell_type": "raw",
   "metadata": {},
   "source": [
    "Q4. Write the Python program to find the first appearance of the substring 'not' and 'poor' from the given string, if 'not' follows the 'poor',replace the whole 'not'...' poor' substring with 'good'.Return the resulting string."
   ]
  },
  {
   "cell_type": "code",
   "execution_count": 24,
   "metadata": {},
   "outputs": [
    {
     "name": "stdout",
     "output_type": "stream",
     "text": [
      "The lyrics is good!\n",
      "The lyrics is poor!\n"
     ]
    }
   ],
   "source": [
    "def not_poor(string4):\n",
    "    snot = string4.find('not')\n",
    "    spoor = string4.find('poor')\n",
    "    if spoor > snot and snot>0 and spoor>0:\n",
    "        string4 = string4.replace(string4[snot:(spoor+4)], 'good')\n",
    "        return string4\n",
    "    else:\n",
    "        return string4\n",
    "print(not_poor('The lyrics is not that poor!'))\n",
    "print(not_poor('The lyrics is poor!'))"
   ]
  },
  {
   "cell_type": "markdown",
   "metadata": {},
   "source": [
    "Q5. Write the Python program to remove the characters which have odd index values of a given string"
   ]
  },
  {
   "cell_type": "code",
   "execution_count": 5,
   "metadata": {},
   "outputs": [
    {
     "name": "stdout",
     "output_type": "stream",
     "text": [
      "Enter the string:Python\n",
      "String without odd index values is :Pto\n"
     ]
    }
   ],
   "source": [
    "inputstring=input(\"Enter the string:\")\n",
    "outputstring=\"\"\n",
    "for i in range(len(inputstring)):\n",
    "    if(i%2==0):\n",
    "        outputstring=outputstring+inputstring[i]\n",
    "print(\"String without odd index values is :\" + outputstring)"
   ]
  },
  {
   "cell_type": "markdown",
   "metadata": {},
   "source": [
    "06. Write the Python function to get a string made of 4 copies of the last two characters of the specified string (length must\n",
    "be at least 2)."
   ]
  },
  {
   "cell_type": "code",
   "execution_count": 9,
   "metadata": {},
   "outputs": [],
   "source": [
    "def fourcopies(inpstr):\n",
    "    if(len(inpstr)>=2):\n",
    "        outstr=inpstr[-2:]\n",
    "        return outstr*4\n",
    "    else:\n",
    "        print(\"Please enter string not a character\")"
   ]
  },
  {
   "cell_type": "code",
   "execution_count": 10,
   "metadata": {},
   "outputs": [
    {
     "name": "stdout",
     "output_type": "stream",
     "text": [
      "Enter input stringPython\n",
      "4 copies of the last two characters of given string : onononon\n"
     ]
    }
   ],
   "source": [
    "print(\"4 copies of the last two characters of given string : \"+ fourcopies(input(\"Enter input string :\")))"
   ]
  },
  {
   "cell_type": "markdown",
   "metadata": {},
   "source": [
    "Q7. Write the python function to get a string made of its first three\n",
    "characters of a specified string. If the length of the string is less than 3\n",
    "then return the original string."
   ]
  },
  {
   "cell_type": "code",
   "execution_count": 11,
   "metadata": {},
   "outputs": [],
   "source": [
    "def substring(ipstring):\n",
    "    if(len(ipstring)>=3):\n",
    "        return ipstring[0:3]\n",
    "    else:\n",
    "        return ipstring"
   ]
  },
  {
   "cell_type": "code",
   "execution_count": 12,
   "metadata": {},
   "outputs": [
    {
     "name": "stdout",
     "output_type": "stream",
     "text": [
      "Enter inputstring:Learning\n",
      "Lea\n"
     ]
    }
   ],
   "source": [
    "print(substring(input(\"Enter inputstring:\")))"
   ]
  },
  {
   "cell_type": "markdown",
   "metadata": {},
   "source": [
    "Q8. Write the python program to print the following floating numbers up\n",
    "to 2 decimal places?"
   ]
  },
  {
   "cell_type": "code",
   "execution_count": 15,
   "metadata": {},
   "outputs": [],
   "source": [
    "def twodec(inpval):\n",
    "    print(\"Floating point number up to two decimals is:\"+\"{:.2f}\".format(inpval))"
   ]
  },
  {
   "cell_type": "code",
   "execution_count": 16,
   "metadata": {},
   "outputs": [
    {
     "name": "stdout",
     "output_type": "stream",
     "text": [
      "Floating point number up to two decimals is:123.46\n"
     ]
    }
   ],
   "source": [
    "twodec(123.46487)"
   ]
  },
  {
   "cell_type": "markdown",
   "metadata": {},
   "source": [
    "Q9. Write the Python program to format a number with a percentage?"
   ]
  },
  {
   "cell_type": "code",
   "execution_count": 17,
   "metadata": {},
   "outputs": [],
   "source": [
    "def percentage(per):\n",
    "    print(\"Percentage of the given number is:\"+\"{:.2%}\".format(per))"
   ]
  },
  {
   "cell_type": "code",
   "execution_count": 18,
   "metadata": {},
   "outputs": [
    {
     "name": "stdout",
     "output_type": "stream",
     "text": [
      "Percentage of the given number is:25.00%\n"
     ]
    }
   ],
   "source": [
    "percentage(0.25)"
   ]
  },
  {
   "cell_type": "markdown",
   "metadata": {},
   "source": [
    "Q10. Write the Python program to count occurrences of a substring in a\n",
    "String?\n"
   ]
  },
  {
   "cell_type": "code",
   "execution_count": 8,
   "metadata": {},
   "outputs": [],
   "source": [
    "def occsubstring(mainstring,substring):\n",
    "    print(mainstring.count(substring))"
   ]
  },
  {
   "cell_type": "code",
   "execution_count": 9,
   "metadata": {},
   "outputs": [
    {
     "name": "stdout",
     "output_type": "stream",
     "text": [
      "Enter main stringThey are looking at the quality of the output\n",
      "Enter sub stringthe\n",
      "2\n"
     ]
    }
   ],
   "source": [
    "occsubstring(input(\"Enter main string:\"),input(\"Enter sub string:\"))"
   ]
  },
  {
   "cell_type": "markdown",
   "metadata": {},
   "source": [
    "Q11. Write the Python program to count repeated characters in a string."
   ]
  },
  {
   "cell_type": "code",
   "execution_count": 4,
   "metadata": {},
   "outputs": [],
   "source": [
    "def cntrepchar(string11):\n",
    "    for i in string11:\n",
    "        count=string11.count(i)\n",
    "        if count>1:\n",
    "            print(i,count)"
   ]
  },
  {
   "cell_type": "code",
   "execution_count": 7,
   "metadata": {},
   "outputs": [
    {
     "name": "stdout",
     "output_type": "stream",
     "text": [
      "l 4\n",
      "k 4\n",
      "d 3\n",
      "j 5\n",
      "f 3\n",
      "k 4\n",
      "l 4\n",
      "d 3\n",
      "j 5\n",
      "f 3\n",
      "l 4\n",
      "a 2\n",
      "l 4\n",
      "k 4\n",
      "j 5\n",
      "k 4\n",
      "f 3\n",
      "j 5\n",
      "d 3\n",
      "a 2\n",
      "j 5\n"
     ]
    }
   ],
   "source": [
    "cntrepchar(\"lkdjfkldjflalkjkfjdaj\")"
   ]
  },
  {
   "cell_type": "markdown",
   "metadata": {},
   "source": [
    "Q12. Write the Python program to print the square and cube symbol in\n",
    "the area of a rectangle and volume of a cylinder?"
   ]
  },
  {
   "cell_type": "code",
   "execution_count": 11,
   "metadata": {},
   "outputs": [],
   "source": [
    "def sqrcubsymbols(area,volume,decimals):\n",
    "    print(\"The area of the rectangle is {0:.{1}f}cm\\u00b2\".format(area, decimals))\n",
    "    print(\"The volume of the cylinder is {0:.{1}f}cm\\u00b3\".format(volume, decimals))"
   ]
  },
  {
   "cell_type": "code",
   "execution_count": 16,
   "metadata": {},
   "outputs": [
    {
     "name": "stdout",
     "output_type": "stream",
     "text": [
      "Enter area of rectange:67.9832\n",
      "Enter volume of cylinder :765.9382\n",
      "Enter decimals :2\n",
      "The area of the rectangle is 67.98cm²\n",
      "The volume of the cylinder is 765.94cm³\n"
     ]
    }
   ],
   "source": [
    "sqrcubsymbols(float(input(\"Enter area of rectange:\")), float(input(\"Enter volume of cylinder :\")), int(input(\"Enter decimals :\")))"
   ]
  },
  {
   "cell_type": "markdown",
   "metadata": {},
   "source": [
    "Q13. Write the Python program to check if a string contains all letters of\n",
    "the alphabet?"
   ]
  },
  {
   "cell_type": "code",
   "execution_count": 34,
   "metadata": {},
   "outputs": [],
   "source": [
    "import string\n",
    "def allalphabets(string):\n",
    "    alphabet = \"abcdefghijklmnopqrstuvwxyz\"\n",
    "    for char in alphabet:\n",
    "        if char not in string.lower():\n",
    "            return False\n",
    "    return True"
   ]
  },
  {
   "cell_type": "code",
   "execution_count": 36,
   "metadata": {},
   "outputs": [
    {
     "data": {
      "text/plain": [
       "False"
      ]
     },
     "execution_count": 36,
     "metadata": {},
     "output_type": "execute_result"
    }
   ],
   "source": [
    "allalphabets(\"abcdefghijklmnopqrstvwxyz\") #inputted all alphabets without letter \"U\" to check the output"
   ]
  },
  {
   "cell_type": "markdown",
   "metadata": {},
   "source": [
    "Q14. Write the Python program to find the second most repeated word\n",
    "in a given string?"
   ]
  },
  {
   "cell_type": "code",
   "execution_count": 30,
   "metadata": {},
   "outputs": [],
   "source": [
    "from collections import Counter\n",
    "def secondLargest(input): \n",
    "    words=input.split()\n",
    "    dict = Counter(words) \n",
    "    value = sorted(dict.values(), reverse=True)\n",
    "    secondLarge = value[1] \n",
    "    print(secondLarge)\n",
    "    for (key, val) in dict.items(): \n",
    "        if val == secondLarge: \n",
    "            print(key) \n",
    "            return"
   ]
  },
  {
   "cell_type": "code",
   "execution_count": 31,
   "metadata": {},
   "outputs": [
    {
     "name": "stdout",
     "output_type": "stream",
     "text": [
      "2\n",
      "quarreling\n"
     ]
    }
   ],
   "source": [
    "if __name__ == \"__main__\": \n",
    "    input = \"They are quarreling among themselves and they have been doing quarreling because they promised to quarrel sometime back\"\n",
    "    secondLargest(input) "
   ]
  },
  {
   "cell_type": "markdown",
   "metadata": {},
   "source": [
    "Q15. Write the Python program to find the minimum window in the given\n",
    "string, which will contains all the characters of another given\n",
    "strings?"
   ]
  },
  {
   "cell_type": "code",
   "execution_count": 40,
   "metadata": {},
   "outputs": [
    {
     "name": "stdout",
     "output_type": "stream",
     "text": [
      "Original Strings:\n",
      " PRWSOERIUSFK \n",
      " OSU\n",
      "Minimum window:\n",
      "OERIUS\n"
     ]
    }
   ],
   "source": [
    "import collections\n",
    "def min_window(str1, str2):\n",
    "    result_char, missing_char = collections.Counter(str2), len(str2)\n",
    "    i = p = q = 0\n",
    "    for j, c in enumerate(str1, 1):\n",
    "        missing_char -= result_char[c] > 0\n",
    "        result_char[c] -= 1\n",
    "        if not missing_char:\n",
    "            while i < q and result_char[str1[i]] < 0:\n",
    "                result_char[str1[i]] += 1\n",
    "                i += 1\n",
    "            if not q or j - i <= q - p:\n",
    "                p, q = i, j\n",
    "    return str1[p:q]\n",
    "           \n",
    "str1 = \"PRWSOERIUSFK\"\n",
    "str2 = \"OSU\"\n",
    "print(\"Original Strings:\\n\",str1,\"\\n\",str2)\n",
    "print(\"Minimum window is:\")\n",
    "print(min_window(str1,str2))"
   ]
  },
  {
   "cell_type": "markdown",
   "metadata": {},
   "source": [
    "Q16. Write the Python program to find smallest window that contains all\n",
    "characters of the given string?"
   ]
  },
  {
   "cell_type": "code",
   "execution_count": 41,
   "metadata": {},
   "outputs": [
    {
     "name": "stdout",
     "output_type": "stream",
     "text": [
      "Original Strings:\n",
      " asdaewsqgtwwsa\n",
      "\n",
      "Smallest window that contains all characters of the said string:\n",
      "daewsqgt\n"
     ]
    }
   ],
   "source": [
    "from collections import defaultdict   \n",
    "\n",
    "def find_sub_string(str): \n",
    "    str_len = len(str) \n",
    "      \n",
    "    # Count all distinct characters. \n",
    "    dist_count_char = len(set([x for x in str])) \n",
    "  \n",
    "    ctr, start_pos, start_pos_index, min_len = 0, 0, -1, 9999999999\n",
    "    curr_count = defaultdict(lambda: 0) \n",
    "    for i in range(str_len): \n",
    "        curr_count[str[i]] += 1\n",
    " \n",
    "        if curr_count[str[i]] == 1: \n",
    "            ctr += 1\n",
    "  \n",
    "        if ctr == dist_count_char: \n",
    "            while curr_count[str[start_pos]] > 1: \n",
    "                if curr_count[str[start_pos]] > 1: \n",
    "                    curr_count[str[start_pos]] -= 1\n",
    "                start_pos += 1\n",
    "  \n",
    "            len_window = i - start_pos + 1\n",
    "            if min_len > len_window: \n",
    "                min_len = len_window \n",
    "                start_pos_index = start_pos \n",
    "    return str[start_pos_index: start_pos_index + min_len] \n",
    "      \n",
    "str1 = \"asdaewsqgtwwsa\"\n",
    "print(\"Original Strings:\\n\",str1)\n",
    "print(\"\\nSmallest window that contains all characters of the said string:\")\n",
    "print(find_sub_string(str1)) "
   ]
  },
  {
   "cell_type": "markdown",
   "metadata": {},
   "source": [
    "Q17. Write the Python program to count number of substrings from a\n",
    "given string of lowercase alphabets with exactly k distinct (given)\n",
    "characters?\n"
   ]
  },
  {
   "cell_type": "code",
   "execution_count": 5,
   "metadata": {},
   "outputs": [
    {
     "name": "stdout",
     "output_type": "stream",
     "text": [
      "Input a string (lowercase alphabets):they\n",
      "Input k: 4\n",
      "Number of substrings with exactly 4 distinct characters : 1\n"
     ]
    }
   ],
   "source": [
    "def count_k_dist(inpstr17, k): \n",
    "    str_len = len(inpstr17) \n",
    "    result = 0\n",
    "    ctr = [0] * 27\n",
    "    for i in range(0, str_len): \n",
    "        dist_ctr = 0\n",
    "        ctr = [0] * 27\n",
    "        for j in range(i, str_len): \n",
    "            if(ctr[ord(inpstr17[j]) - 97] == 0): \n",
    "                dist_ctr += 1\n",
    "            ctr[ord(inpstr17[j]) - 97] += 1\n",
    "            if(dist_ctr == k): \n",
    "                result += 1\n",
    "            if(dist_ctr > k): \n",
    "                break\n",
    "\n",
    "    return result \n",
    "\n",
    "inpstr17 = input(\"Input a string (lowercase alphabets):\")\n",
    "k = int(input(\"Input k: \"))\n",
    "print(\"Number of substrings with exactly\", k, \"distinct characters : \", end = \"\") \n",
    "print(count_k_dist(inpstr17, k))"
   ]
  },
  {
   "cell_type": "markdown",
   "metadata": {},
   "source": [
    "Q18. Write the Python program to count number of non-empty\n",
    "substrings of the given string?\n"
   ]
  },
  {
   "cell_type": "code",
   "execution_count": 8,
   "metadata": {},
   "outputs": [],
   "source": [
    "def NonEmptySubstrcnt(inpstr18): \n",
    "    n = len(inpstr18); \n",
    "    return int(n * (n + 1) / 2); \n"
   ]
  },
  {
   "cell_type": "code",
   "execution_count": 11,
   "metadata": {},
   "outputs": [
    {
     "name": "stdout",
     "output_type": "stream",
     "text": [
      "Enter the inpustring :lkdsajfklsdjf lkajsdfkjds lksdfk\n",
      "Non Emptry strings in the given string is :528\n"
     ]
    }
   ],
   "source": [
    "print (\"Non Emptry strings in the given string is :\" + str(NonEmptySubstrcnt(input(\"Enter the inpustring :\")))); "
   ]
  },
  {
   "cell_type": "markdown",
   "metadata": {},
   "source": [
    "Q19. Write the Python program to count number of substrings with same\n",
    "first and last characters of the given string?\n"
   ]
  },
  {
   "cell_type": "code",
   "execution_count": 230,
   "metadata": {},
   "outputs": [],
   "source": [
    "def sameflchar(inpstr19):\n",
    "    words=inpstr19.split(\" \")\n",
    "    cnt=0\n",
    "    print(words)\n",
    "    if(len(words)==1):\n",
    "        return len(words[0])\n",
    "    else:\n",
    "        for word in words:\n",
    "            if(word[0]==word[-1]):\n",
    "                cnt=cnt+1\n",
    "        return cnt"
   ]
  },
  {
   "cell_type": "code",
   "execution_count": 232,
   "metadata": {},
   "outputs": [
    {
     "name": "stdout",
     "output_type": "stream",
     "text": [
      "['abc', 'aba', 'bab', 'cac', 'abac']\n"
     ]
    },
    {
     "data": {
      "text/plain": [
       "3"
      ]
     },
     "execution_count": 232,
     "metadata": {},
     "output_type": "execute_result"
    }
   ],
   "source": [
    "sameflchar(\"abc aba bab cac abac\")"
   ]
  },
  {
   "cell_type": "markdown",
   "metadata": {},
   "source": [
    "Q20. Write the Python program to count the number of strings where the\n",
    "string length is 2 or more, and first and last character are same\n",
    "from a given list of strings.\n"
   ]
  },
  {
   "cell_type": "code",
   "execution_count": 241,
   "metadata": {},
   "outputs": [
    {
     "name": "stdout",
     "output_type": "stream",
     "text": [
      "Number of strings for which first & last characters are matched is :2\n"
     ]
    }
   ],
   "source": [
    "def firstlastmatch(words):\n",
    "    ct = 0\n",
    "    for word in words:\n",
    "        if len(word) > 2 and word[0] == word[-1]:\n",
    "            ct += 1\n",
    "    return ct\n",
    "\n",
    "print(\"Number of strings for which first & last characters are matched is :\"+ str(firstlastmatch(['dshk', 'adsa', 'bjadnfB', '34323'])))"
   ]
  },
  {
   "cell_type": "markdown",
   "metadata": {},
   "source": [
    "Q21. Write the Python program to get a list, sorted in increasing order by\n",
    "the last element in each tuple from the given list of non-empty\n",
    "tuples?\n"
   ]
  },
  {
   "cell_type": "code",
   "execution_count": 244,
   "metadata": {},
   "outputs": [
    {
     "name": "stdout",
     "output_type": "stream",
     "text": [
      "[(2, 1), (2, 2), (1, 2), (2, 3), (4, 4), (2, 6)]\n"
     ]
    }
   ],
   "source": [
    "def last(n): return n[-1]\n",
    "\n",
    "def sort_list_last(tuples):\n",
    "      return sorted(tuples, key=last)\n",
    "\n",
    "print(sort_list_last([(2, 2),(2, 6),(1, 2), (4, 4), (2, 3), (2, 1)]))"
   ]
  },
  {
   "cell_type": "markdown",
   "metadata": {},
   "source": [
    "Q22. Write the Python program to remove duplicates from a list?"
   ]
  },
  {
   "cell_type": "code",
   "execution_count": 157,
   "metadata": {},
   "outputs": [],
   "source": [
    "def removedup(duplist):\n",
    "    withoutdup=[]\n",
    "    for x in duplist:\n",
    "        if x not in withoutdup:\n",
    "            withoutdup.append(x)       \n",
    "    return (withoutdup)"
   ]
  },
  {
   "cell_type": "code",
   "execution_count": 158,
   "metadata": {},
   "outputs": [
    {
     "data": {
      "text/plain": [
       "[1, 2, 3, 4, 6, 7, 83, 84, 9, 5]"
      ]
     },
     "execution_count": 158,
     "metadata": {},
     "output_type": "execute_result"
    }
   ],
   "source": [
    "removedup([1,2,3,4,6,7,83,3,84,9,5,9,5])"
   ]
  },
  {
   "cell_type": "markdown",
   "metadata": {},
   "source": [
    "Q23. Write the Python program to find the list of words that are longer\n",
    "than n from a given list of words?"
   ]
  },
  {
   "cell_type": "code",
   "execution_count": 110,
   "metadata": {},
   "outputs": [],
   "source": [
    "def wordlrgerthann(str,n):\n",
    "    wordlen= []\n",
    "    words=str.split(\" \")\n",
    "    for x in words:\n",
    "        if len(x) > n:\n",
    "            wordlen.append(x)\n",
    "    return wordlen\n"
   ]
  },
  {
   "cell_type": "code",
   "execution_count": 112,
   "metadata": {},
   "outputs": [
    {
     "data": {
      "text/plain": [
       "['beeautiful', 'learning', 'journey']"
      ]
     },
     "execution_count": 112,
     "metadata": {},
     "output_type": "execute_result"
    }
   ],
   "source": [
    "wordlrgerthann(\"This is the beeautiful learning journey\",4)"
   ]
  },
  {
   "cell_type": "markdown",
   "metadata": {},
   "source": [
    "Q24. Write the Python program to print a specified list after removing the\n",
    "0th, 4th, and 5th elements?\n"
   ]
  },
  {
   "cell_type": "code",
   "execution_count": 80,
   "metadata": {},
   "outputs": [],
   "source": [
    "def removespecelements(inplist):\n",
    "    print([x for (i,x) in enumerate(inplist) if i not in (0,4,5)])\n",
    "    "
   ]
  },
  {
   "cell_type": "code",
   "execution_count": 83,
   "metadata": {},
   "outputs": [
    {
     "name": "stdout",
     "output_type": "stream",
     "text": [
      "[2, 3, 98.5]\n"
     ]
    }
   ],
   "source": [
    "removespecelements([1,2,3,98.5,943,78])"
   ]
  },
  {
   "cell_type": "markdown",
   "metadata": {},
   "source": [
    "Q25. Write the Python program to generate all permutations of a list in\n",
    "Python?\n"
   ]
  },
  {
   "cell_type": "code",
   "execution_count": 69,
   "metadata": {},
   "outputs": [],
   "source": [
    "import itertools\n",
    "\n",
    "def permutationz(inp):\n",
    "    return (list(itertools.permutations(inp)))"
   ]
  },
  {
   "cell_type": "code",
   "execution_count": 71,
   "metadata": {},
   "outputs": [
    {
     "data": {
      "text/plain": [
       "[(2, 6, 9), (2, 9, 6), (6, 2, 9), (6, 9, 2), (9, 2, 6), (9, 6, 2)]"
      ]
     },
     "execution_count": 71,
     "metadata": {},
     "output_type": "execute_result"
    }
   ],
   "source": [
    "permutationz([2,6,9])"
   ]
  },
  {
   "cell_type": "markdown",
   "metadata": {},
   "source": [
    "Q26. Write the Python program to convert a pair of values into a sorted\n",
    "unique array?"
   ]
  },
  {
   "cell_type": "code",
   "execution_count": 248,
   "metadata": {},
   "outputs": [],
   "source": [
    "def sorteduniquearray(inp26):\n",
    "    return print(\"Sorted Unique Data:\",sorted(set().union(*inp26)))"
   ]
  },
  {
   "cell_type": "code",
   "execution_count": 249,
   "metadata": {},
   "outputs": [
    {
     "name": "stdout",
     "output_type": "stream",
     "text": [
      "Sorted Unique Data: [1, 2, 3, 4, 5, 6, 7, 8, 9, 10]\n"
     ]
    }
   ],
   "source": [
    "sorteduniquearray([(1, 2), (3, 4), (1, 2), (5, 6), (7, 8), (1, 2), (3, 4), (3, 4),\n",
    "(7, 8), (9, 10)])"
   ]
  },
  {
   "cell_type": "markdown",
   "metadata": {},
   "source": [
    "Q27. Write the Python class to convert an integer to a roman numeral?"
   ]
  },
  {
   "cell_type": "code",
   "execution_count": 59,
   "metadata": {},
   "outputs": [
    {
     "name": "stdout",
     "output_type": "stream",
     "text": [
      "MMMCCXCVIII\n",
      "MMMCCCXXIV\n"
     ]
    }
   ],
   "source": [
    "class inttoroman:\n",
    "     def int_to_Roman(self, num):\n",
    "            val = [1000, 900, 500, 400,100, 90, 50, 40,10, 9, 5, 4,1]\n",
    "            sym = [\"M\", \"CM\", \"D\", \"CD\",\"C\", \"XC\", \"L\", \"XL\", \"X\", \"IX\", \"V\", \"IV\", \"I\"]\n",
    "            romannum = ''\n",
    "            i = 0\n",
    "            while num > 0:\n",
    "                for _ in range(num // val[i]):\n",
    "                    romannum += sym[i]\n",
    "                    num -= val[i]\n",
    "                i += 1\n",
    "            return romannum\n",
    "print(inttoroman().int_to_Roman(3298))\n",
    "print(inttoroman().int_to_Roman(3324))\n"
   ]
  },
  {
   "cell_type": "markdown",
   "metadata": {},
   "source": [
    "Q28 Write the Python class to convert a Roman numeral to an integer?"
   ]
  },
  {
   "cell_type": "code",
   "execution_count": 61,
   "metadata": {},
   "outputs": [
    {
     "name": "stdout",
     "output_type": "stream",
     "text": [
      "3986\n",
      "4000\n",
      "100\n"
     ]
    }
   ],
   "source": [
    "class romantoint:\n",
    "    def roman_to_int(self, s):\n",
    "        roman_val = {'I': 1, 'V': 5, 'X': 10, 'L': 50, 'C': 100, 'D': 500, 'M': 1000}\n",
    "        int_val = 0\n",
    "        for i in range(len(s)):\n",
    "            if i > 0 and roman_val[s[i]] > roman_val[s[i - 1]]:\n",
    "                int_val += roman_val[s[i]] - 2 * roman_val[s[i - 1]]\n",
    "            else:\n",
    "                int_val += roman_val[s[i]]\n",
    "        return int_val\n",
    "\n",
    "print(romantoint().roman_to_int('MMMCMLXXXVI'))\n",
    "print(romantoint().roman_to_int('MMMM'))\n",
    "print(romantoint().roman_to_int('C'))"
   ]
  },
  {
   "cell_type": "markdown",
   "metadata": {},
   "source": [
    "Q29. Write the Python class to find the validity of the string of the parentheses, '(', ')', '{', '}', '[' and '] and the brackets must be closed in the correct order, example - \"()\" and \"()[]{}\" are valid but \"[)\", \"({[)]\" and \"{{{\" are invalid."
   ]
  },
  {
   "cell_type": "code",
   "execution_count": 3,
   "metadata": {},
   "outputs": [
    {
     "name": "stdout",
     "output_type": "stream",
     "text": [
      "True\n",
      "False\n",
      "True\n"
     ]
    }
   ],
   "source": [
    "class parenthses:\n",
    "   def is_valid_parenthese(self, inpstr29):\n",
    "        stack, pchar = [], {\"(\": \")\", \"{\": \"}\", \"[\": \"]\"}\n",
    "        for parenthese in inpstr29:\n",
    "            if parenthese in pchar:\n",
    "                stack.append(parenthese)\n",
    "            elif len(stack) == 0 or pchar[stack.pop()] != parenthese:\n",
    "                return False\n",
    "        return len(stack) == 0\n",
    "\n",
    "print(parenthses().is_valid_parenthese(\"(){}[]\"))\n",
    "print(parenthses().is_valid_parenthese(\"()[{)}\"))\n",
    "print(parenthses().is_valid_parenthese(\"()\"))"
   ]
  },
  {
   "cell_type": "markdown",
   "metadata": {},
   "source": [
    "Q30. Write the Python class to get all possible unique subsets from a set of distinct integers?"
   ]
  },
  {
   "cell_type": "code",
   "execution_count": 67,
   "metadata": {},
   "outputs": [
    {
     "name": "stdout",
     "output_type": "stream",
     "text": [
      "[[], [6], [5], [5, 6], [4], [4, 6], [4, 5], [4, 5, 6]]\n"
     ]
    }
   ],
   "source": [
    "class uniquesubsets:\n",
    "    def emptyset(self,inpset):\n",
    "        return self.subsetofintegers([],sorted(inpset))\n",
    "    def subsetofintegers(self,crnt,inpset):\n",
    "         if inpset:\n",
    "            return self.subsetofintegers(crnt, inpset[1:]) + self.subsetofintegers(crnt + [inpset[0]], inpset[1:])\n",
    "         return [crnt]\n",
    "        \n",
    "print(uniquesubsets().emptyset([4,5,6]))    "
   ]
  },
  {
   "cell_type": "markdown",
   "metadata": {},
   "source": [
    "Q31. Write the Python class to find a pair of elements (indices of the two numbers) from a given array whose sum equals the specific target number?"
   ]
  },
  {
   "cell_type": "code",
   "execution_count": 16,
   "metadata": {},
   "outputs": [
    {
     "name": "stdout",
     "output_type": "stream",
     "text": [
      "index1=0, index2=1\n"
     ]
    }
   ],
   "source": [
    "class question31:\n",
    "   def Sumoftwonums(self, nums, target):\n",
    "        result = {}\n",
    "        for i, num in enumerate(nums):\n",
    "            if target - num in result:\n",
    "                return (result[target - num], i )\n",
    "            result[num] = i\n",
    "print(\"index1=%d, index2=%d\" % question31().Sumoftwonums((0,50,20,10,40,50,60,70),50))"
   ]
  },
  {
   "cell_type": "markdown",
   "metadata": {},
   "source": [
    "Q32. Write the Python class to find the three elements that sum to zero from the set of n real numbers?\n"
   ]
  },
  {
   "cell_type": "code",
   "execution_count": 1,
   "metadata": {},
   "outputs": [],
   "source": [
    "class question32:\n",
    "    def findTriplets(arr, n): \n",
    "        found = False\n",
    "        for i in range(n - 1): \n",
    "            s = set() \n",
    "            for j in range(i + 1, n): \n",
    "                x = -(arr[i] + arr[j]) \n",
    "                if x in s: \n",
    "                    print(x, arr[i], arr[j]) \n",
    "                    found = True\n",
    "                else: \n",
    "                    s.add(arr[j]) \n",
    "        if found == False:\n",
    "            print(\"No Triplet Found\")\n",
    "arr = [0, -1, 2, -3, 1] \n",
    "n = len(arr)\n"
   ]
  },
  {
   "cell_type": "code",
   "execution_count": 2,
   "metadata": {},
   "outputs": [
    {
     "ename": "TypeError",
     "evalue": "findTriplets() takes 2 positional arguments but 3 were given",
     "output_type": "error",
     "traceback": [
      "\u001b[1;31m---------------------------------------------------------------------------\u001b[0m",
      "\u001b[1;31mTypeError\u001b[0m                                 Traceback (most recent call last)",
      "\u001b[1;32m<ipython-input-2-dcdf3374cf45>\u001b[0m in \u001b[0;36m<module>\u001b[1;34m\u001b[0m\n\u001b[1;32m----> 1\u001b[1;33m \u001b[0mquestion32\u001b[0m\u001b[1;33m(\u001b[0m\u001b[1;33m)\u001b[0m\u001b[1;33m.\u001b[0m\u001b[0mfindTriplets\u001b[0m\u001b[1;33m(\u001b[0m\u001b[0marr\u001b[0m\u001b[1;33m,\u001b[0m \u001b[0mn\u001b[0m\u001b[1;33m)\u001b[0m\u001b[1;33m\u001b[0m\u001b[1;33m\u001b[0m\u001b[0m\n\u001b[0m",
      "\u001b[1;31mTypeError\u001b[0m: findTriplets() takes 2 positional arguments but 3 were given"
     ]
    }
   ],
   "source": [
    "question32().findTriplets(arr, n)"
   ]
  },
  {
   "cell_type": "markdown",
   "metadata": {},
   "source": [
    "Q33. Write the Python class to implement pow(x, n)?\n"
   ]
  },
  {
   "cell_type": "code",
   "execution_count": 3,
   "metadata": {},
   "outputs": [
    {
     "name": "stdout",
     "output_type": "stream",
     "text": [
      "0.125\n",
      "243\n",
      "1\n"
     ]
    }
   ],
   "source": [
    "class py_solution:\n",
    "   def pow(self, x, n):\n",
    "        if x==0 or x==1 or n==1:\n",
    "            return x \n",
    "\n",
    "        if x==-1:\n",
    "            if n%2 ==0:\n",
    "                return 1\n",
    "            else:\n",
    "                return -1\n",
    "        if n==0:\n",
    "            return 1\n",
    "        if n<0:\n",
    "            return 1/self.pow(x,-n)\n",
    "        val = self.pow(x,n//2)\n",
    "        if n%2 ==0:\n",
    "            return val*val\n",
    "        return val*val*x\n",
    "\n",
    "print(py_solution().pow(2, -3));\n",
    "print(py_solution().pow(3, 5));\n",
    "print(py_solution().pow(100, 0));"
   ]
  },
  {
   "cell_type": "markdown",
   "metadata": {},
   "source": [
    "Q34. Write the Python class which has two methods get_String and print_String. get_String accept the string from the user and \n",
    "print_String print the string in upper case.\n"
   ]
  },
  {
   "cell_type": "code",
   "execution_count": 9,
   "metadata": {},
   "outputs": [],
   "source": [
    "class uppercaseconversion():\n",
    "    def __init__(self):\n",
    "        self.str1=''\n",
    "    def getstring(self):\n",
    "        self.str1=input()\n",
    "    def printstring(self):\n",
    "        print(self.str1.upper())"
   ]
  },
  {
   "cell_type": "code",
   "execution_count": 10,
   "metadata": {},
   "outputs": [
    {
     "name": "stdout",
     "output_type": "stream",
     "text": [
      "this is for testing\n",
      "THIS IS FOR TESTING\n"
     ]
    }
   ],
   "source": [
    "str1=uppercaseconversion()\n",
    "str1.getstring()\n",
    "str1.printstring()"
   ]
  },
  {
   "cell_type": "markdown",
   "metadata": {},
   "source": [
    "Q35. Write the Python class named Rectangle constructed by a length and width and the method which will compute the area of the\n",
    "rectangle?"
   ]
  },
  {
   "cell_type": "code",
   "execution_count": 20,
   "metadata": {},
   "outputs": [
    {
     "name": "stdout",
     "output_type": "stream",
     "text": [
      "120\n"
     ]
    }
   ],
   "source": [
    "class Rectangle():\n",
    "    def __init__(self, l, w):\n",
    "        self.length = l\n",
    "        self.width  = w\n",
    "\n",
    "    def rectangle_area(self):\n",
    "        return self.length*self.width\n",
    "\n",
    "newRectangle = Rectangle(12, 10)\n",
    "print(newRectangle.rectangle_area())"
   ]
  },
  {
   "cell_type": "markdown",
   "metadata": {},
   "source": [
    "Q36. Write the Python class named Circle constructed by the radius and two methods which will compute the area and perimeter of\n",
    "the circle?"
   ]
  },
  {
   "cell_type": "code",
   "execution_count": 21,
   "metadata": {},
   "outputs": [
    {
     "name": "stdout",
     "output_type": "stream",
     "text": [
      "enter radius of circle12\n",
      "452.16\n",
      "75.36\n"
     ]
    }
   ],
   "source": [
    "class Circle():\n",
    "    def __init__(self, r):\n",
    "        self.radius = r\n",
    "        \n",
    "    def area(self):\n",
    "        return self.radius**2*3.14\n",
    "    \n",
    "    def perimeter(self):\n",
    "        return 2*3.14*self.radius\n",
    "\n",
    "newCircle = Circle(int(input(\"enter radius of circle\")))\n",
    "print(newCircle.area())\n",
    "print(newCircle.perimeter())\n"
   ]
  },
  {
   "cell_type": "markdown",
   "metadata": {},
   "source": [
    "Q37. Write the Python program to get the class name of an instance in Python?"
   ]
  },
  {
   "cell_type": "code",
   "execution_count": 22,
   "metadata": {},
   "outputs": [
    {
     "name": "stdout",
     "output_type": "stream",
     "text": [
      "cycle\n"
     ]
    }
   ],
   "source": [
    "import itertools\n",
    "x = itertools.cycle('ABCD')\n",
    "print(type(x).__name__)"
   ]
  },
  {
   "cell_type": "markdown",
   "metadata": {},
   "source": [
    "Q38. Write the Python program to count the number of students of individual class?"
   ]
  },
  {
   "cell_type": "code",
   "execution_count": 24,
   "metadata": {},
   "outputs": [
    {
     "name": "stdout",
     "output_type": "stream",
     "text": [
      "Counter({'VI': 3, 'V': 2, 'VII': 1})\n"
     ]
    }
   ],
   "source": [
    "from collections import Counter\n",
    "\n",
    "classes = ( ('V', 1), ('VI', 1), ('V', 2), ('VI', 2), ('VI', 3), ('VII', 1),) \n",
    "students = Counter(class_name for class_name, no_students in classes) \n",
    "print(students)"
   ]
  },
  {
   "cell_type": "markdown",
   "metadata": {},
   "source": [
    "Q39. Write the Python program to create an instance of an OrderedDict using the given dictionary and sort dictionary during the\n",
    "creation and print members of the dictionary in reverse order?"
   ]
  },
  {
   "cell_type": "code",
   "execution_count": 25,
   "metadata": {},
   "outputs": [
    {
     "name": "stdout",
     "output_type": "stream",
     "text": [
      "Afghanistan 93\n",
      "Albania 355\n",
      "Algeria 213\n",
      "Andorra 376\n",
      "Angola 244\n",
      "\n",
      "In reverse order:\n",
      "Angola 244\n",
      "Andorra 376\n",
      "Algeria 213\n",
      "Albania 355\n",
      "Afghanistan 93\n"
     ]
    }
   ],
   "source": [
    "from collections import OrderedDict\n",
    "dict = {'Afghanistan': 93, 'Albania': 355, 'Algeria': 213, 'Andorra': 376, 'Angola': 244}\n",
    "new_dict = OrderedDict(dict.items())\n",
    "for key in new_dict:\n",
    "    print (key, new_dict[key])\n",
    "\n",
    "print(\"\\nIn reverse order:\")\n",
    "for key in reversed(new_dict):\n",
    "    print (key, new_dict[key])"
   ]
  },
  {
   "cell_type": "markdown",
   "metadata": {},
   "source": [
    "Q40. Write the Python program to compare two unordered lists (not sets)?"
   ]
  },
  {
   "cell_type": "code",
   "execution_count": 27,
   "metadata": {},
   "outputs": [
    {
     "name": "stdout",
     "output_type": "stream",
     "text": [
      "False\n"
     ]
    }
   ],
   "source": [
    "from collections import Counter\n",
    "def comparelists(a, b):\n",
    "    return Counter(a) == Counter(b)\n",
    "l1 = [20, 10, 30, 10, 20, 30]\n",
    "l2 = [30, 20, 10, 30, 20, 50]\n",
    "print(comparelists(l1, l2))"
   ]
  },
  {
   "cell_type": "markdown",
   "metadata": {},
   "source": [
    "Q41. Write the Python program to get an array buffer information?"
   ]
  },
  {
   "cell_type": "code",
   "execution_count": 32,
   "metadata": {},
   "outputs": [
    {
     "name": "stdout",
     "output_type": "stream",
     "text": [
      "Array buffer start address in memory and number of elements.\n",
      "(2460867066016, 2)\n"
     ]
    }
   ],
   "source": [
    "from array import array\n",
    "a = array(\"L\", (1,2))\n",
    "print(\"Array buffer start address in memory and number of elements.\")\n",
    "print(a.buffer_info())"
   ]
  },
  {
   "cell_type": "markdown",
   "metadata": {},
   "source": [
    "Q42. Write the Python program to convert an array to an array of machine values and return the bytes representation?"
   ]
  },
  {
   "cell_type": "code",
   "execution_count": 33,
   "metadata": {},
   "outputs": [
    {
     "name": "stdout",
     "output_type": "stream",
     "text": [
      "b'\\x08\\x00\\x00\\x00\\t\\x00\\x00\\x00'\n"
     ]
    }
   ],
   "source": [
    "from array import array\n",
    "a=array(\"L\",(8,9))\n",
    "print(a.tobytes())"
   ]
  },
  {
   "cell_type": "markdown",
   "metadata": {},
   "source": [
    "Q43. Write the Python program to read a string and interpreting the string as an array of machine values?\n"
   ]
  },
  {
   "cell_type": "code",
   "execution_count": 35,
   "metadata": {},
   "outputs": [
    {
     "name": "stdout",
     "output_type": "stream",
     "text": [
      "array1: array('L', [3, 0, 5, 8])\n",
      "Bytes: b'03000000000000000500000008000000'\n",
      "array2: array('L', [3, 0, 5, 8])\n"
     ]
    }
   ],
   "source": [
    "from array import array\n",
    "import binascii\n",
    "array1 = array('L', [3, 0, 5, 8])\n",
    "print('array1:', array1)\n",
    "as_bytes = array1.tobytes()\n",
    "print('Bytes:', binascii.hexlify(as_bytes))\n",
    "array2 = array('L')\n",
    "array2.frombytes(as_bytes)\n",
    "print('array2:', array2)"
   ]
  },
  {
   "cell_type": "markdown",
   "metadata": {},
   "source": [
    "Q44. Write the Python program to push three items into the heap and return the smallest item from the heap. Also, return and pop the smallest item from the heap?"
   ]
  },
  {
   "cell_type": "code",
   "execution_count": 36,
   "metadata": {},
   "outputs": [
    {
     "name": "stdout",
     "output_type": "stream",
     "text": [
      "Items in the heap:\n",
      "('V', 1)\n",
      "('V', 3)\n",
      "('V', 2)\n",
      "----------------------\n",
      "The smallest item in the heap:\n",
      "('V', 1)\n",
      "----------------------\n",
      "Pop the smallest item in the heap:\n",
      "('V', 2)\n",
      "('V', 3)\n"
     ]
    }
   ],
   "source": [
    "import heapq \n",
    "heap = [] \n",
    "heapq.heappush(heap, ('V', 3)) \n",
    "heapq.heappush(heap, ('V', 2)) \n",
    "heapq.heappush(heap, ('V', 1))\n",
    "print(\"Items in the heap:\") \n",
    "for a in heap: \n",
    "    print(a)\n",
    "print(\"----------------------\")\n",
    "print(\"The smallest item in the heap:\") \n",
    "print(heap[0])\n",
    "print(\"----------------------\")\n",
    "print(\"Pop the smallest item in the heap:\")\n",
    "heapq.heappop(heap) \n",
    "for a in heap: \n",
    "    print(a)"
   ]
  },
  {
   "cell_type": "markdown",
   "metadata": {},
   "source": [
    "Q45. Write the Python program to locate the left insertion point for a specified value in sorted order?"
   ]
  },
  {
   "cell_type": "code",
   "execution_count": 37,
   "metadata": {},
   "outputs": [
    {
     "name": "stdout",
     "output_type": "stream",
     "text": [
      "4\n",
      "2\n"
     ]
    }
   ],
   "source": [
    "import bisect \n",
    "def index(a, x): \n",
    "    i = bisect.bisect_left(a, x) \n",
    "    return i\n",
    "a= [1,2,4,5]\n",
    "print(index(a, 6)) \n",
    "print(index(a, 3))"
   ]
  },
  {
   "cell_type": "markdown",
   "metadata": {},
   "source": [
    "Q46. Write the Python program to create the FIFO queue?"
   ]
  },
  {
   "cell_type": "code",
   "execution_count": 38,
   "metadata": {},
   "outputs": [
    {
     "name": "stdout",
     "output_type": "stream",
     "text": [
      "3 2 1 0 \n"
     ]
    }
   ],
   "source": [
    "import queue\n",
    "q = queue.LifoQueue()\n",
    "for x in range(4):\n",
    "    q.put(str(x))\n",
    "while not q.empty():\n",
    "    print(q.get(), end=\" \")\n",
    "print()"
   ]
  },
  {
   "cell_type": "markdown",
   "metadata": {},
   "source": [
    "Q47. Write the Python program to calculate the harmonic sum of n-1.  Note: The harmonic sum is the sum of reciprocals of the positive Integers?"
   ]
  },
  {
   "cell_type": "code",
   "execution_count": 39,
   "metadata": {},
   "outputs": [
    {
     "name": "stdout",
     "output_type": "stream",
     "text": [
      "2.4499999999999997\n",
      "2.7178571428571425\n"
     ]
    }
   ],
   "source": [
    "def harmonicsum(n):\n",
    "  if n < 2:\n",
    "    return 1\n",
    "  else:\n",
    "    return 1 / n + (harmonicsum(n - 1))\n",
    "    \n",
    "print(harmonicsum(6))\n",
    "print(harmonicsum(8))"
   ]
  },
  {
   "cell_type": "markdown",
   "metadata": {},
   "source": [
    "Q48. Write the NumPy program to create a 2d array with 6 on the border and 0 inside?"
   ]
  },
  {
   "cell_type": "code",
   "execution_count": 40,
   "metadata": {},
   "outputs": [
    {
     "name": "stdout",
     "output_type": "stream",
     "text": [
      "Original array:\n",
      "[[1. 1. 1. 1. 1.]\n",
      " [1. 1. 1. 1. 1.]\n",
      " [1. 1. 1. 1. 1.]\n",
      " [1. 1. 1. 1. 1.]\n",
      " [1. 1. 1. 1. 1.]]\n",
      "1 on the border and 0 inside in the array\n",
      "[[1. 1. 1. 1. 1.]\n",
      " [1. 0. 0. 0. 1.]\n",
      " [1. 0. 0. 0. 1.]\n",
      " [1. 0. 0. 0. 1.]\n",
      " [1. 1. 1. 1. 1.]]\n"
     ]
    }
   ],
   "source": [
    "import numpy as np\n",
    "x = np.ones((5,5))\n",
    "print(\"Original array:\")\n",
    "print(x)\n",
    "print(\"1 on the border and 0 inside in the array\")\n",
    "x[1:-1,1:-1] = 0\n",
    "print(x)"
   ]
  },
  {
   "cell_type": "markdown",
   "metadata": {},
   "source": [
    "Q49. Write the NumPy program to create a 8x8 matrix and fill it with the checkerboard pattern?"
   ]
  },
  {
   "cell_type": "code",
   "execution_count": 41,
   "metadata": {},
   "outputs": [
    {
     "name": "stdout",
     "output_type": "stream",
     "text": [
      "Checkerboard pattern:\n",
      "[[0 1 0 1 0 1 0 1]\n",
      " [1 0 1 0 1 0 1 0]\n",
      " [0 1 0 1 0 1 0 1]\n",
      " [1 0 1 0 1 0 1 0]\n",
      " [0 1 0 1 0 1 0 1]\n",
      " [1 0 1 0 1 0 1 0]\n",
      " [0 1 0 1 0 1 0 1]\n",
      " [1 0 1 0 1 0 1 0]]\n"
     ]
    }
   ],
   "source": [
    "import numpy as np\n",
    "x = np.ones((3,3))\n",
    "print(\"Checkerboard pattern:\")\n",
    "x = np.zeros((8,8),dtype=int)\n",
    "x[1::2,::2] = 1\n",
    "x[::2,1::2] = 1\n",
    "print(x)"
   ]
  },
  {
   "cell_type": "markdown",
   "metadata": {},
   "source": [
    "Q50. Write the NumPy program to create an empty and a full array."
   ]
  },
  {
   "cell_type": "code",
   "execution_count": 44,
   "metadata": {},
   "outputs": [
    {
     "name": "stdout",
     "output_type": "stream",
     "text": [
      "[[0. 0. 0. 0.]\n",
      " [0. 0. 0. 0.]\n",
      " [0. 0. 0. 0.]]\n",
      "[[6 6 6]\n",
      " [6 6 6]\n",
      " [6 6 6]]\n"
     ]
    }
   ],
   "source": [
    "import numpy as np\n",
    "x = np.empty((3,4))\n",
    "print(x)\n",
    "y = np.full((3,3),6)\n",
    "print(y)"
   ]
  },
  {
   "cell_type": "markdown",
   "metadata": {},
   "source": [
    "Q51. Write the NumPy program to convert the values of Centigrade degrees into the Fahrenheit degrees and the centigrade values are stored in the NumPy array."
   ]
  },
  {
   "cell_type": "code",
   "execution_count": 1,
   "metadata": {},
   "outputs": [
    {
     "name": "stdout",
     "output_type": "stream",
     "text": [
      "Values in Fahrenheit degrees:\n",
      "[ 0.   12.   45.21 34.   99.91]\n",
      "Values in Centigrade degrees:\n",
      "[-17.77777778 -11.11111111   7.33888889   1.11111111  37.72777778]\n"
     ]
    }
   ],
   "source": [
    "import numpy as np \n",
    "fvalues = [0, 12, 45.21, 34, 99.91] \n",
    "F = np.array(fvalues)\n",
    "print(\"Values in Fahrenheit degrees:\") \n",
    "print(F)\n",
    "print(\"Values in Centigrade degrees:\") \n",
    "print(5*F/9 - 5*32/9)"
   ]
  },
  {
   "cell_type": "markdown",
   "metadata": {},
   "source": [
    "Q52. Write the NumPy program to find the real and imaginary parts of an array of complex numbers?"
   ]
  },
  {
   "cell_type": "code",
   "execution_count": 2,
   "metadata": {},
   "outputs": [
    {
     "name": "stdout",
     "output_type": "stream",
     "text": [
      "Original array:x  [1.+0.j]\n",
      "Original array:y  [0.70710678+0.70710678j]\n",
      "Real part of the array:\n",
      "[1.]\n",
      "[0.70710678]\n",
      "Imaginary part of the array:\n",
      "[0.]\n",
      "[0.70710678]\n"
     ]
    }
   ],
   "source": [
    "import numpy as np \n",
    "x = np.sqrt([1+0j]) \n",
    "y = np.sqrt([0+1j]) \n",
    "print(\"Original array:x \",x) \n",
    "print(\"Original array:y \",y)\n",
    "print(\"Real part of the array:\") \n",
    "print(x.real) \n",
    "print(y.real)\n",
    "print(\"Imaginary part of the array:\") \n",
    "print(x.imag) \n",
    "print(y.imag)"
   ]
  },
  {
   "cell_type": "markdown",
   "metadata": {},
   "source": [
    "Q53. Write the NumPy program to test whether each element of a 1-D array is also present in the second array?"
   ]
  },
  {
   "cell_type": "code",
   "execution_count": 3,
   "metadata": {},
   "outputs": [
    {
     "name": "stdout",
     "output_type": "stream",
     "text": [
      "Array1:  [ 0 10 20 40 60]\n",
      "Array2:  [0, 40]\n",
      "Compare each element of array1 and array2\n",
      "[ True False False  True False]\n"
     ]
    }
   ],
   "source": [
    "import numpy as np \n",
    "array1 = np.array([0, 10, 20, 40, 60]) \n",
    "print(\"Array1: \",array1) \n",
    "array2 = [0, 40] \n",
    "print(\"Array2: \",array2)\n",
    "print(\"Compare each element of array1 and array2\") \n",
    "print(np.in1d(array1, array2))"
   ]
  },
  {
   "cell_type": "markdown",
   "metadata": {},
   "source": [
    "Q54. Write the NumPy program to find common values between two arrays?"
   ]
  },
  {
   "cell_type": "code",
   "execution_count": 4,
   "metadata": {},
   "outputs": [
    {
     "name": "stdout",
     "output_type": "stream",
     "text": [
      "Array1:  [ 0 10 20 40 60]\n",
      "Array2:  [10, 30, 40]\n",
      "common values betweeen array1 and array2\n",
      "[10 40]\n"
     ]
    }
   ],
   "source": [
    "import numpy as np \n",
    "array1 = np.array([0, 10, 20, 40, 60]) \n",
    "print(\"Array1: \",array1) \n",
    "array2 = [10,30,40] \n",
    "print(\"Array2: \",array2)\n",
    "print(\"common values betweeen array1 and array2\")\n",
    "print(np.intersect1d(array1,array2))"
   ]
  },
  {
   "cell_type": "markdown",
   "metadata": {},
   "source": [
    "Q55. Write the NumPy program to get the unique elements of an array?"
   ]
  },
  {
   "cell_type": "code",
   "execution_count": 7,
   "metadata": {},
   "outputs": [
    {
     "name": "stdout",
     "output_type": "stream",
     "text": [
      "[  0  10  20  40  60  70 120]\n",
      "[1 2 3]\n"
     ]
    }
   ],
   "source": [
    "import numpy as np \n",
    "array1 = np.array([0, 10, 20, 40, 60, 10, 70, 60, 0, 120]) \n",
    "array2=np.array([[1, 1], [2, 3]])\n",
    "print(np.unique(array1))\n",
    "print(np.unique(array2))"
   ]
  },
  {
   "cell_type": "markdown",
   "metadata": {},
   "source": [
    "Q56. Write the NumPy program to find the set exclusive-or of two arrays. Set exclusive-or will return the sorted, unique values that are in only one (not both) of the input arrays?"
   ]
  },
  {
   "cell_type": "code",
   "execution_count": 9,
   "metadata": {},
   "outputs": [
    {
     "name": "stdout",
     "output_type": "stream",
     "text": [
      "Array1:  [ 0 10 20 40 60 80]\n",
      "Array2:  [10 30 40 50 70]\n",
      "Unique values that are in only one of the input arrays:\n",
      "[ 0 20 30 50 60 70 80]\n"
     ]
    }
   ],
   "source": [
    "import numpy as np \n",
    "array1 = np.array([0, 10, 20, 40, 60, 80]) \n",
    "print(\"Array1: \",array1) \n",
    "array2 = np.array([10, 30, 40, 50, 70]) \n",
    "print(\"Array2: \",array2)\n",
    "print(\"Unique values that are in only one of the input arrays:\")\n",
    "print(np.setxor1d(array1,array2))"
   ]
  },
  {
   "cell_type": "markdown",
   "metadata": {},
   "source": [
    "Q57. Write the NumPy program to test if all elements in an array evaluate to True ?"
   ]
  },
  {
   "cell_type": "code",
   "execution_count": 10,
   "metadata": {},
   "outputs": [
    {
     "name": "stdout",
     "output_type": "stream",
     "text": [
      "False\n",
      "True\n",
      "False\n",
      "True\n"
     ]
    }
   ],
   "source": [
    "import numpy as np \n",
    "print(np.all([[True,False],[True,True]])) \n",
    "print(np.all([[True,True],[True,True]])) \n",
    "print(np.all([10, 20, 0, -50])) \n",
    "print(np.all([10, 20, -50]))"
   ]
  },
  {
   "cell_type": "markdown",
   "metadata": {},
   "source": [
    "Q58 Write the NumPy program to test whether any array element along the given axis evaluates to True?"
   ]
  },
  {
   "cell_type": "code",
   "execution_count": null,
   "metadata": {},
   "outputs": [],
   "source": [
    "import numpy as np\n",
    "print(np.any([[False,False],[False,False]]))\n",
    "print(np.any([[True,True],[True,True]]))\n",
    "print(np.any([10, 20, 0, -50]))\n",
    "print(np.any([10, 20, -50]))"
   ]
  },
  {
   "cell_type": "markdown",
   "metadata": {},
   "source": [
    "Q59. Write the NumPy program to construct an array by repeating?"
   ]
  },
  {
   "cell_type": "code",
   "execution_count": 11,
   "metadata": {},
   "outputs": [
    {
     "name": "stdout",
     "output_type": "stream",
     "text": [
      "Original array\n",
      "[1, 2, 3, 4]\n",
      "Repeating 2 times\n",
      "[1 2 3 4 1 2 3 4]\n",
      "Repeating 3 times\n",
      "[1 2 3 4 1 2 3 4 1 2 3 4]\n"
     ]
    }
   ],
   "source": [
    "import numpy as np \n",
    "a = [1, 2, 3, 4]\n",
    "print(\"Original array\") \n",
    "print(a)\n",
    "print(\"Repeating 2 times\") \n",
    "x = np.tile(a, 2) \n",
    "print(x)\n",
    "print(\"Repeating 3 times\") \n",
    "x = np.tile(a, 3) \n",
    "print(x)"
   ]
  },
  {
   "cell_type": "markdown",
   "metadata": {},
   "source": [
    "Q60. Write the NumPy program to find the indices of the maximum and minimum values with the given axis of an array?"
   ]
  },
  {
   "cell_type": "code",
   "execution_count": 12,
   "metadata": {},
   "outputs": [
    {
     "name": "stdout",
     "output_type": "stream",
     "text": [
      "Original array:  [ 8  0  3 18  9  6]\n",
      "Maximum Value:  3\n",
      "Minimum Value:  1\n"
     ]
    }
   ],
   "source": [
    "import numpy as np\n",
    "x = np.array([8, 0, 3, 18, 9, 6])\n",
    "print(\"Original array: \",x)\n",
    "print(\"Maximum Value: \",np.argmax(x))\n",
    "print(\"Minimum Value: \",np.argmin(x))"
   ]
  },
  {
   "cell_type": "markdown",
   "metadata": {},
   "source": [
    "Q61. Write the NumPy program compare two arrays using numpy?"
   ]
  },
  {
   "cell_type": "code",
   "execution_count": 14,
   "metadata": {},
   "outputs": [
    {
     "name": "stdout",
     "output_type": "stream",
     "text": [
      "Array a:  [1 2]\n",
      "Array b:  [4 5]\n",
      "a > b\n",
      "[False False]\n",
      "a >= b\n",
      "[False False]\n",
      "a < b\n",
      "[ True  True]\n",
      "a <= b\n",
      "[ True  True]\n"
     ]
    }
   ],
   "source": [
    "import numpy as np\n",
    "a = np.array([1, 2])\n",
    "b = np.array([4, 5])\n",
    "print(\"Array a: \",a)\n",
    "print(\"Array b: \",b)\n",
    "print(\"a > b\")\n",
    "print(np.greater(a, b))\n",
    "print(\"a >= b\")\n",
    "print(np.greater_equal(a, b))\n",
    "print(\"a < b\")\n",
    "print(np.less(a, b))\n",
    "print(\"a <= b\")\n",
    "print(np.less_equal(a, b))"
   ]
  },
  {
   "cell_type": "markdown",
   "metadata": {},
   "source": [
    "Q62. Write the NumPy program to sort an along the first, last axis of an array?"
   ]
  },
  {
   "cell_type": "code",
   "execution_count": 15,
   "metadata": {},
   "outputs": [
    {
     "name": "stdout",
     "output_type": "stream",
     "text": [
      "Original array: \n",
      "[[4 6]\n",
      " [2 1]]\n",
      "sort along x axis\n",
      "[[2 1]\n",
      " [4 6]]\n",
      "sort along y axis\n",
      "[[4 6]\n",
      " [1 2]]\n"
     ]
    }
   ],
   "source": [
    "import numpy as np \n",
    "a = np.array([[4, 6],[2, 1]]) \n",
    "print(\"Original array: \") \n",
    "print(a)\n",
    "print(\"sort along x axis\")\n",
    "print(np.sort(a, axis=0))\n",
    "print(\"sort along y axis\")\n",
    "print(np.sort(a, axis=1))\n"
   ]
  },
  {
   "cell_type": "markdown",
   "metadata": {},
   "source": [
    "Q63. Write the NumPy program to sort pairs of first name and last name return their indices (first by last name, then by first name)."
   ]
  },
  {
   "cell_type": "code",
   "execution_count": 18,
   "metadata": {},
   "outputs": [
    {
     "name": "stdout",
     "output_type": "stream",
     "text": [
      "[1 3 2 4 0]\n"
     ]
    }
   ],
   "source": [
    "import numpy as np \n",
    "first_names = ('Margery', 'Betsey', 'Shelley', 'Lanell', 'Genesis') \n",
    "last_names = ('Woolum', 'Battle', 'Plotner', 'Brien', 'Stahl')\n",
    "print(np.lexsort((first_names,last_names)))\n"
   ]
  },
  {
   "cell_type": "markdown",
   "metadata": {},
   "source": [
    "Q64. Write the NumPy program to get the values and indices of the elements that are bigger than 10 in the given array?"
   ]
  },
  {
   "cell_type": "code",
   "execution_count": 19,
   "metadata": {},
   "outputs": [
    {
     "name": "stdout",
     "output_type": "stream",
     "text": [
      "Original array: \n",
      "[[ 0 10 20]\n",
      " [20 30 40]]\n",
      "Values bigger than 10 = [20 20 30 40]\n",
      "Their indices are  (array([0, 1, 1, 1], dtype=int64), array([2, 0, 1, 2], dtype=int64))\n"
     ]
    }
   ],
   "source": [
    "import numpy as np \n",
    "x = np.array([[0, 10, 20], [20, 30, 40]])\n",
    "print(\"Original array: \") \n",
    "print(x) \n",
    "print(\"Values bigger than 10 =\", x[x>10]) \n",
    "print(\"Their indices are \", np.nonzero(x > 10))"
   ]
  },
  {
   "cell_type": "markdown",
   "metadata": {},
   "source": [
    "Q65. Write the NumPy program to find the memory size of a NumPy array?"
   ]
  },
  {
   "cell_type": "code",
   "execution_count": 21,
   "metadata": {},
   "outputs": [
    {
     "name": "stdout",
     "output_type": "stream",
     "text": [
      "128 bytes\n"
     ]
    }
   ],
   "source": [
    "import numpy as np \n",
    "a = np.ones((4,4))\n",
    "print(\"%d bytes\" % (a.size * a.itemsize))\n"
   ]
  },
  {
   "cell_type": "markdown",
   "metadata": {},
   "source": [
    "Q66. Write the NumPy program to create an array of ones and an array of zeros?"
   ]
  },
  {
   "cell_type": "code",
   "execution_count": 26,
   "metadata": {},
   "outputs": [
    {
     "name": "stdout",
     "output_type": "stream",
     "text": [
      "Create an array of zeros\n",
      "Default type is float\n",
      "[[0. 0.]]\n",
      "Type changes to int\n",
      "[[0 0]]\n",
      "Create an array of ones\n",
      "Default type is float\n",
      "[[1. 1.]]\n",
      "Type changes to int\n",
      "[[1 1]]\n"
     ]
    }
   ],
   "source": [
    "import numpy as np\n",
    "print(\"Create an array of zeros\")\n",
    "x = np.zeros((1,2))\n",
    "print(\"Default type is float\")\n",
    "print(x)\n",
    "print(\"Type changes to int\")\n",
    "x = np.zeros((1,2), dtype = np.int)\n",
    "print(x)\n",
    "print(\"Create an array of ones\")\n",
    "y= np.ones((1,2)) \n",
    "print(\"Default type is float\")\n",
    "print(y)\n",
    "print(\"Type changes to int\")\n",
    "y = np.ones((1,2), dtype = np.int)\n",
    "print(y)"
   ]
  },
  {
   "cell_type": "markdown",
   "metadata": {},
   "source": [
    "Q67. Write the NumPy program to change the dimension of an array?"
   ]
  },
  {
   "cell_type": "code",
   "execution_count": 27,
   "metadata": {},
   "outputs": [
    {
     "name": "stdout",
     "output_type": "stream",
     "text": [
      "6 rows and 0 columns\n",
      "(6,)\n",
      "(3, 3) -> 3 rows and 3 columns \n",
      "[[1 2 3]\n",
      " [4 5 6]\n",
      " [7 8 9]]\n",
      "Change array shape to (3, 3) -> 3 rows and 3 columns \n",
      "[[1 2 3]\n",
      " [4 5 6]\n",
      " [7 8 9]]\n"
     ]
    }
   ],
   "source": [
    "import numpy as np\n",
    "x = np.array([1, 2, 3, 4, 5, 6])\n",
    "print(\"6 rows and 0 columns\")\n",
    "print(x.shape)\n",
    "\n",
    "y = np.array([[1, 2, 3],[4, 5, 6],[7,8,9]])\n",
    "print(\"(3, 3) -> 3 rows and 3 columns \")\n",
    "print(y)\n",
    "\n",
    "x = np.array([1,2,3,4,5,6,7,8,9])\n",
    "print(\"Change array shape to (3, 3) -> 3 rows and 3 columns \")\n",
    "x.shape = (3, 3)\n",
    "print(x)"
   ]
  },
  {
   "cell_type": "markdown",
   "metadata": {},
   "source": [
    "Q68. Write the NumPy program to create a new shape to an array without changing its data ?"
   ]
  },
  {
   "cell_type": "code",
   "execution_count": 28,
   "metadata": {},
   "outputs": [
    {
     "name": "stdout",
     "output_type": "stream",
     "text": [
      "Reshape 3x2:\n",
      "[[1 2]\n",
      " [3 4]\n",
      " [5 6]]\n",
      "Reshape 2x3:\n",
      "[[1 2 3]\n",
      " [4 5 6]]\n"
     ]
    }
   ],
   "source": [
    "import numpy as np \n",
    "x = np.array([1, 2, 3, 4, 5, 6]) \n",
    "print(\"Reshape 3x2:\") \n",
    "print(np.reshape(x,(3,2))) \n",
    "print(\"Reshape 2x3:\") \n",
    "print(np.reshape(x,(2,3)))"
   ]
  },
  {
   "cell_type": "markdown",
   "metadata": {},
   "source": [
    "Q69. Write the NumPy program to create a new array of 3*5, filled with 2?"
   ]
  },
  {
   "cell_type": "code",
   "execution_count": 32,
   "metadata": {},
   "outputs": [
    {
     "name": "stdout",
     "output_type": "stream",
     "text": [
      "[[2 2 2 2 2]\n",
      " [2 2 2 2 2]\n",
      " [2 2 2 2 2]]\n"
     ]
    }
   ],
   "source": [
    "import numpy as np \n",
    "x = np.full((3, 5), 2, dtype=np.uint)\n",
    "print(x)"
   ]
  },
  {
   "cell_type": "markdown",
   "metadata": {},
   "source": [
    "Q70. Write the NumPy program to create a 3-D array with ones on a diagonal and zeros elsewhere?"
   ]
  },
  {
   "cell_type": "code",
   "execution_count": 33,
   "metadata": {},
   "outputs": [
    {
     "name": "stdout",
     "output_type": "stream",
     "text": [
      "[[1. 0. 0.]\n",
      " [0. 1. 0.]\n",
      " [0. 0. 1.]]\n"
     ]
    }
   ],
   "source": [
    "import numpy as np \n",
    "x = np.eye(3) \n",
    "print(x)"
   ]
  },
  {
   "cell_type": "markdown",
   "metadata": {},
   "source": [
    "Q71. Write the NumPy program to split an array of 14 elements into the 3 arrays and each of which has 2, 4, and 8 elements in original order?"
   ]
  },
  {
   "cell_type": "code",
   "execution_count": 34,
   "metadata": {},
   "outputs": [
    {
     "name": "stdout",
     "output_type": "stream",
     "text": [
      "Original array: [ 1  2  3  4  5  6  7  8  9 10 11 12 13 14]\n",
      "After splitting:\n",
      "[array([1, 2]), array([3, 4, 5, 6]), array([ 7,  8,  9, 10, 11, 12, 13, 14])]\n"
     ]
    }
   ],
   "source": [
    "import numpy as np \n",
    "x = np.arange(1, 15)\n",
    "print(\"Before splitting:\",x)\n",
    "print(\"After splitting:\") \n",
    "print(np.split(x, [2, 6]))"
   ]
  },
  {
   "cell_type": "markdown",
   "metadata": {},
   "source": [
    "Q72. Write the NumPy program to split of an array of shape 4x4 it into two arrays along the second axis ?"
   ]
  },
  {
   "cell_type": "code",
   "execution_count": 37,
   "metadata": {},
   "outputs": [
    {
     "name": "stdout",
     "output_type": "stream",
     "text": [
      "Before splitting horizontally: [[ 0  1  2  3]\n",
      " [ 4  5  6  7]\n",
      " [ 8  9 10 11]\n",
      " [12 13 14 15]]\n",
      "After splitting horizontally:\n",
      "[array([[ 0,  1],\n",
      "       [ 4,  5],\n",
      "       [ 8,  9],\n",
      "       [12, 13]]), array([[ 2,  3],\n",
      "       [ 6,  7],\n",
      "       [10, 11],\n",
      "       [14, 15]]), array([], shape=(4, 0), dtype=int32)]\n"
     ]
    }
   ],
   "source": [
    "import numpy as np \n",
    "x = np.arange(16).reshape((4, 4)) \n",
    "print(\"Before splitting horizontally:\",x)\n",
    "print(\"After splitting horizontally:\") \n",
    "print(np.hsplit(x, [2, 6]))"
   ]
  },
  {
   "cell_type": "markdown",
   "metadata": {},
   "source": [
    "Q73. Write the NumPy program to create a 5x5 matrix with row values ranging from 0 to 4?"
   ]
  },
  {
   "cell_type": "code",
   "execution_count": 38,
   "metadata": {},
   "outputs": [
    {
     "name": "stdout",
     "output_type": "stream",
     "text": [
      "Original array:\n",
      "[[0. 0. 0. 0. 0.]\n",
      " [0. 0. 0. 0. 0.]\n",
      " [0. 0. 0. 0. 0.]\n",
      " [0. 0. 0. 0. 0.]\n",
      " [0. 0. 0. 0. 0.]]\n",
      "Row values ranging from 0 to 4.\n",
      "[[0. 1. 2. 3. 4.]\n",
      " [0. 1. 2. 3. 4.]\n",
      " [0. 1. 2. 3. 4.]\n",
      " [0. 1. 2. 3. 4.]\n",
      " [0. 1. 2. 3. 4.]]\n"
     ]
    }
   ],
   "source": [
    "import numpy as np \n",
    "x = np.zeros((5,5))\n",
    "print(\"Original array:\") \n",
    "print(x)\n",
    "print(\"Row values ranging from 0 to 4.\") \n",
    "print(x+np.arange(5))"
   ]
  },
  {
   "cell_type": "markdown",
   "metadata": {},
   "source": [
    "Q74. Write the NumPy program to create an array of zeros and three column types (integer, float, character)?"
   ]
  },
  {
   "cell_type": "code",
   "execution_count": 43,
   "metadata": {},
   "outputs": [
    {
     "name": "stdout",
     "output_type": "stream",
     "text": [
      "[(1, 2., b'Albert Einstein') (2, 2., b'Edmond Halley')\n",
      " (3, 3., b'Gertrude B. Elion')]\n"
     ]
    }
   ],
   "source": [
    "import numpy as np \n",
    "x = np.zeros((3,), dtype=('i4,f4,a40')) \n",
    "new_data = [(1, 2., \"Albert Einstein\"), (2, 2., \"Edmond Halley\"), (3, 3., \"Gertrude B. Elion\")]\n",
    "x[:] = new_data \n",
    "print(x)"
   ]
  },
  {
   "cell_type": "markdown",
   "metadata": {},
   "source": [
    "Q75. Write the NumPy program to remove the negative values in the numpy array with 0?"
   ]
  },
  {
   "cell_type": "code",
   "execution_count": 45,
   "metadata": {},
   "outputs": [
    {
     "name": "stdout",
     "output_type": "stream",
     "text": [
      "Original array:\n",
      "[-1 -4  0  2  3  4  5 -6]\n",
      "replacing negative values with zeros\n",
      "[0 0 0 2 3 4 5 0]\n"
     ]
    }
   ],
   "source": [
    "import numpy as np \n",
    "x = np.array([-1, -4, 0, 2, 3, 4, 5, -6])\n",
    "print(\"Original array:\") \n",
    "print(x)\n",
    "print(\"replacing negative values with zeros\")\n",
    "x[ < 0] = 0 \n",
    "print(x)"
   ]
  },
  {
   "cell_type": "markdown",
   "metadata": {},
   "source": [
    "Q76. Write the NumPy program to compute the histogram of a set of data?"
   ]
  },
  {
   "cell_type": "code",
   "execution_count": 50,
   "metadata": {},
   "outputs": [
    {
     "data": {
      "image/png": "[encoded data removed]",
      "text/plain": [
       "<Figure size 432x288 with 1 Axes>"
      ]
     },
     "metadata": {
      "needs_background": "light"
     },
     "output_type": "display_data"
    }
   ],
   "source": [
    "import numpy as np \n",
    "import matplotlib.pyplot as plt\n",
    "plt.hist([1, 2, 1],bins=[0, 1, 2, 3, 5]) \n",
    "plt.show()"
   ]
  },
  {
   "cell_type": "markdown",
   "metadata": {},
   "source": [
    "Q77. Write the NumPy program to compute the line graph of a set of data?"
   ]
  },
  {
   "cell_type": "code",
   "execution_count": 48,
   "metadata": {},
   "outputs": [
    {
     "name": "stderr",
     "output_type": "stream",
     "text": [
      "C:\\Users\\subba\\Anaconda3\\lib\\site-packages\\matplotlib\\figure.py:445: UserWarning: Matplotlib is currently using module://ipykernel.pylab.backend_inline, which is a non-GUI backend, so cannot show the figure.\n",
      "  % get_backend())\n"
     ]
    },
    {
     "data": {
      "image/png": "[encoded data removed]",
      "text/plain": [
       "<Figure size 432x288 with 1 Axes>"
      ]
     },
     "metadata": {
      "needs_background": "light"
     },
     "output_type": "display_data"
    }
   ],
   "source": [
    "import numpy as np \n",
    "import matplotlib.pyplot as plt \n",
    "arr = np.random.randint(1, 50, 10) \n",
    "y, x = np.histogram(arr, bins=np.arange(51)) \n",
    "fig, ax = plt.subplots() \n",
    "ax.plot(x[:-1], y) \n",
    "fig.show()"
   ]
  },
  {
   "cell_type": "markdown",
   "metadata": {},
   "source": [
    "Q78. Write the NumPy program to extracts all the elements from second row from given (4x4) array?"
   ]
  },
  {
   "cell_type": "code",
   "execution_count": 55,
   "metadata": {},
   "outputs": [
    {
     "name": "stdout",
     "output_type": "stream",
     "text": [
      "Original array:\n",
      "[[ 0  1  2  3]\n",
      " [ 4  5  6  7]\n",
      " [ 8  9 10 11]\n",
      " [12 13 14 15]]\n",
      "\n",
      "Extracted data: Second row\n",
      "[4 5 6 7]\n"
     ]
    }
   ],
   "source": [
    "import numpy as np \n",
    "arra_data = np.arange(0,16).reshape((4, 4))\n",
    "print(\"Original array:\") \n",
    "print(arra_data)\n",
    "print(\"\\nExtracted data: Second row\") \n",
    "print(arra_data[1,:])"
   ]
  },
  {
   "cell_type": "markdown",
   "metadata": {},
   "source": [
    "Q79. Write the NumPy program to extract first element of the second row and fourth element of fourth row from a given (4x4) array?"
   ]
  },
  {
   "cell_type": "code",
   "execution_count": 56,
   "metadata": {},
   "outputs": [
    {
     "name": "stdout",
     "output_type": "stream",
     "text": [
      "Original array:\n",
      "[[ 0  1  2  3]\n",
      " [ 4  5  6  7]\n",
      " [ 8  9 10 11]\n",
      " [12 13 14 15]]\n",
      "\n",
      "Extracted data: First element of the second row and fourth element of fourth row \n",
      "[ 4 15]\n"
     ]
    }
   ],
   "source": [
    "import numpy as np \n",
    "arra_data = np.arange(0,16).reshape((4, 4))\n",
    "print(\"Original array:\") \n",
    "print(arra_data)\n",
    "print(\"\\nExtracted data: First element of the second row and fourth element of fourth row \") \n",
    "print(arra_data[[1,3], [0,3]])"
   ]
  },
  {
   "cell_type": "markdown",
   "metadata": {},
   "source": [
    "Q80. Write the NumPy program to add two arrays A and B of sizes (3,3) and (,3)?"
   ]
  },
  {
   "cell_type": "code",
   "execution_count": 58,
   "metadata": {},
   "outputs": [
    {
     "name": "stdout",
     "output_type": "stream",
     "text": [
      "Original array:\n",
      "Array-1\n",
      "[[1. 1. 1.]\n",
      " [1. 1. 1.]\n",
      " [1. 1. 1.]]\n",
      "Array-2\n",
      "[0 1 2]\n",
      "A + B:\n",
      "[[1. 2. 3.]\n",
      " [1. 2. 3.]\n",
      " [1. 2. 3.]]\n"
     ]
    }
   ],
   "source": [
    "import numpy as np \n",
    "A = np.ones((3,3)) \n",
    "B = np.arange(3)\n",
    "print(\"Original array:\")\n",
    "print(\"Array-1\") \n",
    "print(A)\n",
    "print(\"Array-2\") \n",
    "print(B)\n",
    "print(\"A + B:\") \n",
    "print(A + B)"
   ]
  },
  {
   "cell_type": "markdown",
   "metadata": {},
   "source": [
    "Q81. Write the NumPy program to copy data from a given array to another array?"
   ]
  },
  {
   "cell_type": "code",
   "execution_count": 59,
   "metadata": {},
   "outputs": [
    {
     "name": "stdout",
     "output_type": "stream",
     "text": [
      "Original array:\n",
      "[24 27 30 29 18 14]\n",
      "\n",
      "Copy of the said array:\n",
      "[24 27 30 29 18 14]\n"
     ]
    }
   ],
   "source": [
    "import numpy as np \n",
    "x = np.array([24, 27, 30, 29, 18, 14])\n",
    "print(\"Original array:\") \n",
    "print(x) \n",
    "y = np.empty_like (x) \n",
    "y[:] = x\n",
    "print(\"\\nCopy of the said array:\") \n",
    "print(y)"
   ]
  },
  {
   "cell_type": "markdown",
   "metadata": {},
   "source": [
    "Q82. Write the NumPy program to calculate the sum of all columns of the 2D numpy array?"
   ]
  },
  {
   "cell_type": "code",
   "execution_count": 61,
   "metadata": {},
   "outputs": [
    {
     "name": "stdout",
     "output_type": "stream",
     "text": [
      "Original array:\n",
      "[[ 0  1  2  3  4  5  6  7  8]\n",
      " [ 9 10 11 12 13 14 15 16 17]\n",
      " [18 19 20 21 22 23 24 25 26]\n",
      " [27 28 29 30 31 32 33 34 35]]\n",
      "\n",
      "Sum of all columns:\n",
      "[54 58 62 66 70 74 78 82 86]\n"
     ]
    }
   ],
   "source": [
    "import numpy as np \n",
    "num = np.arange(36) \n",
    "print(\"Original array:\") \n",
    "print(np.reshape(num, [4, 9]))\n",
    "print(\"\\nSum of all columns:\") \n",
    "print(np.reshape(num, [4, 9]).sum(axis=0) )"
   ]
  },
  {
   "cell_type": "markdown",
   "metadata": {},
   "source": [
    "Q83. Write the NumPy program to calculate averages without NaNs along the given array?"
   ]
  },
  {
   "cell_type": "code",
   "execution_count": 62,
   "metadata": {},
   "outputs": [
    {
     "name": "stdout",
     "output_type": "stream",
     "text": [
      "Original array:\n",
      "[[10. 20. 30.]\n",
      " [40. 50. nan]\n",
      " [nan  6. nan]\n",
      " [nan nan nan]]\n",
      "Averages without NaNs along the said array:\n",
      "[20. 45.  6. nan]\n"
     ]
    }
   ],
   "source": [
    "import numpy as np \n",
    "arr1 = np.array([[10, 20 ,30], [40, 50, np.nan], [np.nan, 6, np.nan], [np.nan, np.nan, np.nan]])\n",
    "print(\"Original array:\")\n",
    "print(arr1) \n",
    "temp = np.ma.masked_array(arr1,np.isnan(arr1)) \n",
    "print(\"Averages without NaNs along the said array:\") \n",
    "print(np.mean(temp, axis=1).filled(np.nan))"
   ]
  },
  {
   "cell_type": "markdown",
   "metadata": {},
   "source": [
    "Q84. Create two arrays of six elements. Write the NumPy program to count the number of instances of a value occurring in one array on the condition of another array."
   ]
  },
  {
   "cell_type": "code",
   "execution_count": 63,
   "metadata": {},
   "outputs": [
    {
     "name": "stdout",
     "output_type": "stream",
     "text": [
      "Original arrays:\n",
      "[ 10 -10  10 -10 -10  10]\n",
      "[0.85 0.45 0.9  0.8  0.12 0.6 ]\n",
      "\n",
      "Number of instances of a value occurring in one aray on the condition of another array:\n",
      "3\n"
     ]
    }
   ],
   "source": [
    "import numpy as np \n",
    "x = np.array([10,-10,10,-10,-10,10]) \n",
    "y = np.array([.85,.45,.9,.8,.12,.6]) \n",
    "print(\"Original arrays:\") \n",
    "print(x) \n",
    "print(y) \n",
    "print(\"\\nNumber of instances of a value occurring in one aray on the condition of another array:\")\n",
    "print(np.sum((x == 10) & (y > .5)) )"
   ]
  },
  {
   "cell_type": "markdown",
   "metadata": {},
   "source": [
    "Q85. Write the NumPy program to convert a Python dictionary to a Numpy ndarray ?"
   ]
  },
  {
   "cell_type": "code",
   "execution_count": 65,
   "metadata": {},
   "outputs": [
    {
     "name": "stdout",
     "output_type": "stream",
     "text": [
      "\n",
      "Original dictionary:\n",
      "{'column0': {'a': 1, 'b': 0.0, 'c': 0.0, 'd': 2.0}, 'column1': {'a': 3.0, 'b': 1, 'c': 0.0, 'd': -1.0}, 'column2': {'a': 4, 'b': 1, 'c': 5.0, 'd': -1.0}, 'column3': {'a': 3.0, 'b': -1.0, 'c': -1.0, 'd': -1.0}}\n",
      "Type:  <class 'dict'>\n",
      "\n",
      "ndarray:\n",
      "[[ 1.  0.  0.  2.]\n",
      " [ 3.  1.  0. -1.]\n",
      " [ 4.  1.  5. -1.]\n",
      " [ 3. -1. -1. -1.]]\n",
      "Type:  <class 'numpy.ndarray'>\n"
     ]
    }
   ],
   "source": [
    "import numpy as np \n",
    "from ast import literal_eval \n",
    "udict = \"\"\"{\"column0\":{\"a\":1,\"b\":0.0,\"c\":0.0,\"d\":2.0},\n",
    "\"column1\":{\"a\":3.0,\"b\":1,\"c\":0.0,\"d\":-1.0},\n",
    "\"column2\":{\"a\":4,\"b\":1,\"c\":5.0,\"d\":-1.0},\n",
    "\"column3\":{\"a\":3.0,\"b\":-1.0,\"c\":-1.0,\"d\":-1.0}\n",
    "}\"\"\" \n",
    "t = literal_eval(udict)\n",
    "print(\"\\nOriginal dictionary:\") \n",
    "print(t) \n",
    "print(\"Type: \",type(t)) \n",
    "result_nparra = np.array([[v[j] for j in ['a', 'b', 'c', 'd']] for k, v in t.items()])\n",
    "print(\"\\nndarray:\") \n",
    "print(result_nparra) \n",
    "print(\"Type: \",type(result_nparra))"
   ]
  },
  {
   "cell_type": "markdown",
   "metadata": {},
   "source": [
    "Q81. Write the NumPy program to copy data from a given array to another array?"
   ]
  },
  {
   "cell_type": "code",
   "execution_count": 1,
   "metadata": {},
   "outputs": [
    {
     "name": "stdout",
     "output_type": "stream",
     "text": [
      "original array is\n",
      "[12 15 16 18 38]\n",
      "\n",
      "copy of the array x is:\n",
      "[12 15 16 18 38]\n"
     ]
    }
   ],
   "source": [
    "import numpy as np \n",
    "\n",
    "x=np.array([12,15,16,18,38])\n",
    "\n",
    "print(\"original array is\")\n",
    "\n",
    "print(x)\n",
    "\n",
    "y=np.empty_like(x)\n",
    "\n",
    "y[:]=x\n",
    "\n",
    "print(\"\\ncopy of the array x is:\")\n",
    "print(y)"
   ]
  },
  {
   "cell_type": "markdown",
   "metadata": {},
   "source": [
    "Q82. Write the NumPy program to calculate the sum of all columns of the 2D numpy array?"
   ]
  },
  {
   "cell_type": "code",
   "execution_count": 4,
   "metadata": {},
   "outputs": [
    {
     "name": "stdout",
     "output_type": "stream",
     "text": [
      "Original array:\n",
      "[[ 0  1  2  3  4  5  6  7]\n",
      " [ 8  9 10 11 12 13 14 15]\n",
      " [16 17 18 19 20 21 22 23]\n",
      " [24 25 26 27 28 29 30 31]\n",
      " [32 33 34 35 36 37 38 39]\n",
      " [40 41 42 43 44 45 46 47]\n",
      " [48 49 50 51 52 53 54 55]]\n",
      "\n",
      "Sum of all columns:\n",
      "[168 175 182 189 196 203 210 217]\n"
     ]
    }
   ],
   "source": [
    "import numpy as np \n",
    "num = np.arange(56) \n",
    "arr1 = np.reshape(num, [7, 8]) \n",
    "print(\"Original array:\") \n",
    "print(arr1) \n",
    "sumofallcol = arr1.sum(axis=0) \n",
    "print(\"\\nSum of all columns:\") \n",
    "print(sumofallcol)"
   ]
  },
  {
   "cell_type": "markdown",
   "metadata": {},
   "source": [
    "Q83. Write the NumPy program to calculate averages without NaNs along the given array?"
   ]
  },
  {
   "cell_type": "code",
   "execution_count": 5,
   "metadata": {},
   "outputs": [
    {
     "name": "stdout",
     "output_type": "stream",
     "text": [
      "Original array:\n",
      "[[20. 80. 30.]\n",
      " [80. 70. nan]\n",
      " [nan  5. nan]\n",
      " [nan nan nan]]\n",
      "Averages without NaNs along the given array:\n",
      "[43.33333333 75.          5.                 nan]\n"
     ]
    }
   ],
   "source": [
    "import numpy as np \n",
    "arr1 = np.array([[20, 80 ,30], [80, 70, np.nan], [np.nan, 5, np.nan], [np.nan, np.nan, np.nan]])\n",
    "print(\"Original array:\")\n",
    "print(arr1) \n",
    "temp = np.ma.masked_array(arr1,np.isnan(arr1)) \n",
    "result = np.mean(temp, axis=1)\n",
    "print(\"Averages without NaNs along the given array:\") \n",
    "print(result.filled(np.nan))"
   ]
  },
  {
   "cell_type": "markdown",
   "metadata": {},
   "source": [
    "Q84. Create two arrays of six elements. Write the NumPy program to count the number of instances of a value occurring in one array on the condition of another array."
   ]
  },
  {
   "cell_type": "code",
   "execution_count": 6,
   "metadata": {},
   "outputs": [
    {
     "name": "stdout",
     "output_type": "stream",
     "text": [
      "Original arrays:\n",
      "[ 10 -10  10 -10 -10  10]\n",
      "[0.85 0.45 0.9  0.8  0.12 0.6 ]\n",
      "\n",
      "Number of instances of a value occurring in one aray on the condition of another array:\n",
      "3\n"
     ]
    }
   ],
   "source": [
    "import numpy as np \n",
    "x = np.array([10,-10,10,-10,-10,10]) \n",
    "y = np.array([.85,.45,.9,.8,.12,.6]) \n",
    "print(\"Original arrays:\") \n",
    "print(x) \n",
    "print(y) \n",
    "result = np.sum((x == 10) & (y > .5)) \n",
    "print(\"\\nNumber of instances of a value occurring in one aray on the condition of another array:\") \n",
    "print(result)"
   ]
  },
  {
   "cell_type": "markdown",
   "metadata": {},
   "source": [
    "Q85. Write the NumPy program to convert a Python dictionary to a Numpy ndarray ?"
   ]
  },
  {
   "cell_type": "code",
   "execution_count": 10,
   "metadata": {},
   "outputs": [
    {
     "name": "stdout",
     "output_type": "stream",
     "text": [
      "\n",
      "Original dictionary:\n",
      "{'column0': {'a': 1, 'b': 0.0, 'c': 0.0, 'd': 2.0}, 'column1': {'a': 3.0, 'b': 1, 'c': 0.0, 'd': -1.0}, 'column2': {'a': 4, 'b': 1, 'c': 5.0, 'd': -1.0}, 'column3': {'a': 3.0, 'b': -1.0, 'c': -1.0, 'd': -1.0}}\n",
      "Type:  <class 'dict'>\n",
      "\n",
      "ndarray:\n",
      "[[ 1.  0.  0.  2.]\n",
      " [ 3.  1.  0. -1.]\n",
      " [ 4.  1.  5. -1.]\n",
      " [ 3. -1. -1. -1.]]\n",
      "Type:  <class 'numpy.ndarray'>\n"
     ]
    }
   ],
   "source": [
    "import numpy as np \n",
    "from ast import literal_eval \n",
    "udict = \"\"\"{\"column0\":{\"a\":1,\"b\":0.0,\"c\":0.0,\"d\":2.0},\n",
    "\"column1\":{\"a\":3.0,\"b\":1,\"c\":0.0,\"d\":-1.0},\n",
    "\"column2\":{\"a\":4,\"b\":1,\"c\":5.0,\"d\":-1.0},\n",
    "\"column3\":{\"a\":3.0,\"b\":-1.0,\"c\":-1.0,\"d\":-1.0}\n",
    "}\"\"\" \n",
    "t = literal_eval(udict)\n",
    "print(\"\\nOriginal dictionary:\") \n",
    "print(t) \n",
    "print(\"Type: \",type(t)) \n",
    "result_nparra = np.array([[v[j] for j in ['a', 'b', 'c', 'd']] for k, v in t.items()])\n",
    "print(\"\\nndarray:\") \n",
    "print(result_nparra) \n",
    "print(\"Type: \",type(result_nparra))"
   ]
  },
  {
   "cell_type": "markdown",
   "metadata": {},
   "source": [
    "Q86. Write the Numpy program to find and store the non-zero unique rows in an array after comparing each row with other row in the given matrix?"
   ]
  },
  {
   "cell_type": "code",
   "execution_count": 11,
   "metadata": {},
   "outputs": [
    {
     "name": "stdout",
     "output_type": "stream",
     "text": [
      "Original array:\n",
      "[[ 1  1  0]\n",
      " [ 0  0  0]\n",
      " [ 0  2  3]\n",
      " [ 0  0  0]\n",
      " [ 0 -1  1]\n",
      " [ 0  0  0]]\n",
      "\n",
      "Non-zero unique rows:\n",
      "[[ 1  1  0]\n",
      " [ 0  2  3]\n",
      " [ 0 -1  1]]\n"
     ]
    }
   ],
   "source": [
    "import numpy as np \n",
    "\n",
    "arra = np.array([[ 1, 1, 0], [ 0, 0, 0], [ 0, 2, 3], [ 0, 0, 0], [ 0, -1, 1], [ 0, 0, 0]])\n",
    "print(\"Original array:\") \n",
    "print(arra) \n",
    "temp = {(0, 0, 0)} \n",
    "result = [] \n",
    "for idx, row in enumerate(map(tuple, arra)): \n",
    "    if row not in temp: result.append(idx)\n",
    "print(\"\\nNon-zero unique rows:\") \n",
    "print(arra[result])"
   ]
  },
  {
   "cell_type": "markdown",
   "metadata": {},
   "source": [
    "Q87. Write the NumPy program to multiply the matrix by another matrix of complex numbers and create a new matrix of complex numbers?"
   ]
  },
  {
   "cell_type": "code",
   "execution_count": 12,
   "metadata": {},
   "outputs": [
    {
     "name": "stdout",
     "output_type": "stream",
     "text": [
      "First array:\n",
      "[1.+2.j 3.+4.j]\n",
      "Second array:\n",
      "[5.+6.j 7.+8.j]\n",
      "Product of above two arrays:\n",
      "(70-8j)\n"
     ]
    }
   ],
   "source": [
    "import numpy as np \n",
    "x = np.array([1+2j,3+4j]) \n",
    "print(\"First array:\") \n",
    "print(x) \n",
    "y = np.array([5+6j,7+8j]) \n",
    "print(\"Second array:\") \n",
    "print(y) \n",
    "z = np.vdot(x, y) \n",
    "print(\"Product of above two arrays:\") \n",
    "print(z)"
   ]
  },
  {
   "cell_type": "markdown",
   "metadata": {},
   "source": [
    "Q88. Write a NumPy program to generate the matrix product of two Arrays?"
   ]
  },
  {
   "cell_type": "code",
   "execution_count": 14,
   "metadata": {},
   "outputs": [
    {
     "name": "stdout",
     "output_type": "stream",
     "text": [
      "Matrices and vectors.\n",
      "x:\n",
      "[[1, 0], [1, 1]]\n",
      "y:\n",
      "[[3, 1], [2, 2]]\n",
      "Matrix product of above two arrays:\n",
      "[[3 1]\n",
      " [5 3]]\n"
     ]
    }
   ],
   "source": [
    "import numpy as np \n",
    "x = [[1, 0], [1, 1]] \n",
    "y = [[3, 1], [2, 2]]\n",
    "print(\"Matrices and vectors.\")\n",
    "print(\"x:\") \n",
    "print(x)\n",
    "print(\"y:\") \n",
    "print(y)\n",
    "print(\"Matrix product of above two arrays:\") \n",
    "print(np.matmul(x, y))"
   ]
  },
  {
   "cell_type": "markdown",
   "metadata": {},
   "source": [
    "Q89. Write the NumPy program to find roots of the following Polynomials?"
   ]
  },
  {
   "cell_type": "code",
   "execution_count": 19,
   "metadata": {},
   "outputs": [
    {
     "name": "stdout",
     "output_type": "stream",
     "text": [
      "Roots of the first polynomial:\n",
      "[2.+1.73205081j 2.-1.73205081j]\n",
      "Roots of the second polynomial:\n",
      "[10.+0.0000000e+00j -1.+0.0000000e+00j  1.+9.6357437e-09j\n",
      "  1.-9.6357437e-09j]\n"
     ]
    }
   ],
   "source": [
    "import numpy as np \n",
    "print(\"Roots of the first polynomial:\") \n",
    "print(np.roots([1, -4, 7])) \n",
    "print(\"Roots of the second polynomial:\") \n",
    "print(np.roots([1, -11, 9, 11, -10]))\n"
   ]
  },
  {
   "cell_type": "markdown",
   "metadata": {},
   "source": [
    "Q90. Write the NumPy program to calculate inverse of sine, cosine, and inverse tangent for all elements in a given array?"
   ]
  },
  {
   "cell_type": "code",
   "execution_count": 20,
   "metadata": {},
   "outputs": [
    {
     "name": "stdout",
     "output_type": "stream",
     "text": [
      "Inverse sine: [-1.57079633  0.          1.57079633]\n",
      "Inverse cosine: [3.14159265 1.57079633 0.        ]\n",
      "Inverse tangent: [-0.78539816  0.          0.78539816]\n"
     ]
    }
   ],
   "source": [
    "import numpy as np\n",
    "x = np.array([-1., 0, 1.]) \n",
    "print(\"Inverse sine:\", np.arcsin(x)) \n",
    "print(\"Inverse cosine:\", np.arccos(x)) \n",
    "print(\"Inverse tangent:\", np.arctan(x))"
   ]
  },
  {
   "cell_type": "markdown",
   "metadata": {},
   "source": [
    "Q91. Write the NumPy program to calculate the difference between in neighbouring elements, element-wise of a given array?"
   ]
  },
  {
   "cell_type": "code",
   "execution_count": 21,
   "metadata": {},
   "outputs": [
    {
     "name": "stdout",
     "output_type": "stream",
     "text": [
      "Original array: \n",
      "[1 3 5 7 0]\n",
      "Difference between neighboring elements, element-wise of the said array.\n",
      "[ 2  2  2 -7]\n"
     ]
    }
   ],
   "source": [
    "import numpy as np \n",
    "x = np.array([1, 3, 5, 7, 0])\n",
    "print(\"Original array: \")\n",
    "print(x)\n",
    "print(\"Difference between neighboring elements, element-wise of the said array.\")\n",
    "print(np.diff(x))"
   ]
  },
  {
   "cell_type": "markdown",
   "metadata": {},
   "source": [
    "Q92. Write the Python program to find the maximum and the minimum value of a given flattened array?"
   ]
  },
  {
   "cell_type": "code",
   "execution_count": 22,
   "metadata": {},
   "outputs": [
    {
     "name": "stdout",
     "output_type": "stream",
     "text": [
      "Original flattened array:\n",
      "[[0 1]\n",
      " [2 3]]\n",
      "Maximum value of the above flattened array:\n",
      "3\n",
      "Minimum value of the above flattened array:\n",
      "0\n"
     ]
    }
   ],
   "source": [
    "import numpy as np \n",
    "a = np.arange(4).reshape((2,2)) \n",
    "print(\"Original flattened array:\") \n",
    "print(a) \n",
    "print(\"Maximum value of the above flattened array:\") \n",
    "print(np.amax(a)) \n",
    "print(\"Minimum value of the above flattened array:\") \n",
    "print(np.amin(a))"
   ]
  },
  {
   "cell_type": "markdown",
   "metadata": {},
   "source": [
    "Q93. Write the NumPy program to calculate the difference between in the maximum and the minimum values of a given array along the second axis ?"
   ]
  },
  {
   "cell_type": "code",
   "execution_count": 23,
   "metadata": {},
   "outputs": [
    {
     "name": "stdout",
     "output_type": "stream",
     "text": [
      "\n",
      "Original array:\n",
      "[[ 0  1  2  3  4  5]\n",
      " [ 6  7  8  9 10 11]]\n",
      "\n",
      "Difference between the maximum and the minimum values of the said array:\n",
      "[5 5]\n"
     ]
    }
   ],
   "source": [
    "import numpy as np \n",
    "x = np.arange(12).reshape((2, 6))\n",
    "print(\"\\nOriginal array:\") \n",
    "print(x) \n",
    "r1 = np.ptp(x, 1) \n",
    "r2 = np.amax(x, 1) - np.amin(x, 1) \n",
    "assert np.allclose(r1, r2)\n",
    "print(\"\\nDifference between the maximum and the minimum values of the said array:\") \n",
    "print(r1)"
   ]
  },
  {
   "cell_type": "markdown",
   "metadata": {},
   "source": [
    "Q94. Write the NumPy program to compute the weighted of the given array ?"
   ]
  },
  {
   "cell_type": "code",
   "execution_count": 24,
   "metadata": {},
   "outputs": [
    {
     "name": "stdout",
     "output_type": "stream",
     "text": [
      "\n",
      "Original array:\n",
      "[0 1 2 3 4]\n",
      "\n",
      "Weighted average of the said array:\n",
      "2.6666666666666665\n"
     ]
    }
   ],
   "source": [
    "import numpy as np \n",
    "x = np.arange(5)\n",
    "print(\"\\nOriginal array:\") \n",
    "print(x) \n",
    "weights = np.arange(1, 6) \n",
    "r1 = np.average(x, weights=weights) \n",
    "r2 = (x*(weights/weights.sum())).sum() \n",
    "assert np.allclose(r1, r2)\n",
    "print(\"\\nWeighted average of the said array:\")\n",
    "print(r1)"
   ]
  },
  {
   "cell_type": "markdown",
   "metadata": {},
   "source": [
    "Q95. Write the NumPy program to compute the mean, standard deviation, and the variance of a given array along the second axis?"
   ]
  },
  {
   "cell_type": "code",
   "execution_count": 26,
   "metadata": {},
   "outputs": [
    {
     "name": "stdout",
     "output_type": "stream",
     "text": [
      "\n",
      "Original array:\n",
      "[0 1 2 3 4 5]\n",
      "\n",
      "Mean:  2.5\n",
      "\n",
      "std:  1\n",
      "\n",
      "variance:  2.9166666666666665\n"
     ]
    }
   ],
   "source": [
    "import numpy as np \n",
    "x = np.arange(6)\n",
    "print(\"\\nOriginal array:\") \n",
    "print(x) \n",
    "r1 = np.mean(x) \n",
    "r2 = np.average(x) \n",
    "assert np.allclose(r1, r2) \n",
    "print(\"\\nMean: \", r1) \n",
    "r1 = np.std(x) \n",
    "r2 = np.sqrt(np.mean((x - np.mean(x)) ** 2 )) \n",
    "assert np.allclose(r1, r2) \n",
    "print(\"\\nstd: \", 1) \n",
    "r1= np.var(x) \n",
    "r2 = np.mean((x - np.mean(x)) ** 2 ) \n",
    "assert np.allclose(r1, r2) \n",
    "print(\"\\nvariance: \", r1)"
   ]
  },
  {
   "cell_type": "code",
   "execution_count": null,
   "metadata": {},
   "outputs": [],
   "source": [
    "Q96. Write the Numpy program to compute the covariance matrix of the two given arrays?"
   ]
  },
  {
   "cell_type": "code",
   "execution_count": 27,
   "metadata": {},
   "outputs": [
    {
     "name": "stdout",
     "output_type": "stream",
     "text": [
      "\n",
      "Original array1:\n",
      "[0 1 2]\n",
      "\n",
      "Original array1:\n",
      "[2 1 0]\n",
      "\n",
      "Covariance matrix of the said arrays:\n",
      " [[ 1. -1.]\n",
      " [-1.  1.]]\n"
     ]
    }
   ],
   "source": [
    "import numpy as np \n",
    "x = np.array([0, 1, 2]) \n",
    "y = np.array([2, 1, 0]) \n",
    "print(\"\\nOriginal array1:\") \n",
    "print(x) \n",
    "print(\"\\nOriginal array1:\") \n",
    "print(y) \n",
    "print(\"\\nCovariance matrix of the said arrays:\\n\",np.cov(x, y))"
   ]
  },
  {
   "cell_type": "markdown",
   "metadata": {},
   "source": [
    "Q97. Write a NumPy program to compute the cross-correlation of two given arrays ?"
   ]
  },
  {
   "cell_type": "code",
   "execution_count": 28,
   "metadata": {},
   "outputs": [
    {
     "name": "stdout",
     "output_type": "stream",
     "text": [
      "\n",
      "Original array1:\n",
      "[0 1 3]\n",
      "\n",
      "Original array1:\n",
      "[2 4 5]\n",
      "\n",
      "Cross-correlation of the said arrays:\n",
      " [[2.33333333 2.16666667]\n",
      " [2.16666667 2.33333333]]\n"
     ]
    }
   ],
   "source": [
    "import numpy as np \n",
    "x = np.array([0, 1, 3]) \n",
    "y = np.array([2, 4, 5])\n",
    "print(\"\\nOriginal array1:\") \n",
    "print(x)\n",
    "print(\"\\nOriginal array1:\") \n",
    "print(y) \n",
    "print(\"\\nCross-correlation of the said arrays:\\n\",np.cov(x, y))"
   ]
  },
  {
   "cell_type": "markdown",
   "metadata": {},
   "source": [
    "Q98. Write the NumPy program to compute Pearson product-moment correlation coefficients of two given arrays?"
   ]
  },
  {
   "cell_type": "code",
   "execution_count": 29,
   "metadata": {},
   "outputs": [
    {
     "name": "stdout",
     "output_type": "stream",
     "text": [
      "\n",
      "Original array1:\n",
      "[0 1 3]\n",
      "\n",
      "Original array1:\n",
      "[2 4 5]\n",
      "\n",
      "Pearson product-moment correlation coefficients of the said arrays:\n",
      " [[1.         0.92857143]\n",
      " [0.92857143 1.        ]]\n"
     ]
    }
   ],
   "source": [
    "import numpy as np \n",
    "x = np.array([0, 1, 3])\n",
    "y = np.array([2, 4, 5])\n",
    "print(\"\\nOriginal array1:\") \n",
    "print(x)\n",
    "print(\"\\nOriginal array1:\")\n",
    "print(y)\n",
    "print(\"\\nPearson product-moment correlation coefficients of the said arrays:\\n\",np.corrcoef(x, y))"
   ]
  },
  {
   "cell_type": "markdown",
   "metadata": {},
   "source": [
    "Q99. Write the python program to count the number of occurrences of each value in a given array of non-negative integers?"
   ]
  },
  {
   "cell_type": "code",
   "execution_count": 30,
   "metadata": {},
   "outputs": [
    {
     "name": "stdout",
     "output_type": "stream",
     "text": [
      "Original array:\n",
      "[0, 1, 6, 1, 4, 1, 2, 2, 7]\n",
      "Number of occurrences of each value in array: \n",
      "[1 3 2 0 1 0 1 1]\n"
     ]
    }
   ],
   "source": [
    "import numpy as np \n",
    "array1 = [0, 1, 6, 1, 4, 1, 2, 2, 7] \n",
    "print(\"Original array:\") \n",
    "print(array1) \n",
    "print(\"Number of occurrences of each value in array: \") \n",
    "print(np.bincount(array1))"
   ]
  },
  {
   "cell_type": "markdown",
   "metadata": {},
   "source": [
    "Q100. Write a Numpy program to compute the histogram of nums against the bins?"
   ]
  },
  {
   "cell_type": "code",
   "execution_count": 31,
   "metadata": {},
   "outputs": [
    {
     "name": "stdout",
     "output_type": "stream",
     "text": [
      "nums:  [0.5 0.7 1.  1.2 1.3 2.1]\n",
      "bins:  [0 1 2 3]\n",
      "Result: (array([2, 3, 1], dtype=int64), array([0, 1, 2, 3]))\n"
     ]
    },
    {
     "data": {
      "text/plain": [
       "<Figure size 640x480 with 1 Axes>"
      ]
     },
     "metadata": {},
     "output_type": "display_data"
    }
   ],
   "source": [
    "import numpy as np \n",
    "import matplotlib.pyplot as plt \n",
    "nums = np.array([0.5, 0.7, 1.0, 1.2, 1.3, 2.1]) \n",
    "bins = np.array([0, 1, 2, 3]) \n",
    "print(\"nums: \",nums) \n",
    "print(\"bins: \",bins) \n",
    "print(\"Result:\", np.histogram(nums, bins)) \n",
    "plt.hist(nums, bins=bins)\n",
    "plt.show()"
   ]
  },
  {
   "cell_type": "raw",
   "metadata": {},
   "source": [
    "Q101. Write the Python program to add, subtract, multiply and divide two pandas series ?"
   ]
  },
  {
   "cell_type": "code",
   "execution_count": 4,
   "metadata": {},
   "outputs": [
    {
     "name": "stdout",
     "output_type": "stream",
     "text": [
      "Add two Series:\n",
      "0     3\n",
      "1     7\n",
      "2    11\n",
      "3    15\n",
      "4    19\n",
      "dtype: int64\n",
      "Subtract two Series:\n",
      "0    1\n",
      "1    1\n",
      "2    1\n",
      "3    1\n",
      "4    1\n",
      "dtype: int64\n",
      "Multiply two Series:\n",
      "0     2\n",
      "1    12\n",
      "2    30\n",
      "3    56\n",
      "4    90\n",
      "dtype: int64\n",
      "Divide Series1 by Series2:\n",
      "0    2.000000\n",
      "1    1.333333\n",
      "2    1.200000\n",
      "3    1.142857\n",
      "4    1.111111\n",
      "dtype: float64\n"
     ]
    }
   ],
   "source": [
    "import pandas as pd \n",
    "ds1 = pd.Series([2, 4, 6, 8, 10]) \n",
    "ds2 = pd.Series([1, 3, 5, 7, 9]) \n",
    "ds = ds1 + ds2\n",
    "print(\"Add two Series:\") \n",
    "print(ds)\n",
    "print(\"Subtract two Series:\") \n",
    "ds = ds1 - ds2 \n",
    "print(ds)\n",
    "print(\"Multiply two Series:\") \n",
    "ds = ds1 * ds2 \n",
    "print(ds)\n",
    "print(\"Divide Series1 by Series2:\") \n",
    "ds = ds1 / ds2 \n",
    "print(ds)"
   ]
  },
  {
   "cell_type": "markdown",
   "metadata": {},
   "source": [
    "Q102. Write a Python program to convert a dictionary to the Pandas Series?"
   ]
  },
  {
   "cell_type": "code",
   "execution_count": 8,
   "metadata": {},
   "outputs": [
    {
     "name": "stdout",
     "output_type": "stream",
     "text": [
      "Original dictionary:\n",
      "{'a': 100, 'b': 200, 'c': 300, 'd': 400, 'e': 800}\n",
      "Converted series:\n",
      "a    100\n",
      "b    200\n",
      "c    300\n",
      "d    400\n",
      "e    800\n",
      "dtype: int64\n"
     ]
    }
   ],
   "source": [
    "import pandas as pd \n",
    "dictn = {'a': 100, 'b': 200, 'c':300, 'd':400, 'e':800}\n",
    "print(\"Original dictionary:\") \n",
    "print(dictn) \n",
    "newpandaser = pd.Series(dictn)\n",
    "print(\"Converted series:\") \n",
    "print(newpandaser)\n",
    "\n"
   ]
  },
  {
   "cell_type": "markdown",
   "metadata": {},
   "source": [
    "Q103. Write a python program to change the data type of given a column or a Series?"
   ]
  },
  {
   "cell_type": "code",
   "execution_count": 7,
   "metadata": {},
   "outputs": [
    {
     "name": "stdout",
     "output_type": "stream",
     "text": [
      "Original Data Series:\n",
      "0       100\n",
      "1       200\n",
      "2    python\n",
      "3    300.12\n",
      "4       400\n",
      "dtype: object\n",
      "Change the given data type to numeric:\n",
      "0    100.00\n",
      "1    200.00\n",
      "2       NaN\n",
      "3    300.12\n",
      "4    400.00\n",
      "dtype: float64\n"
     ]
    }
   ],
   "source": [
    "import pandas as pd \n",
    "series1 = pd.Series(['100', '200', 'python', '300.12', '400'])\n",
    "print(\"Original Data Series:\") \n",
    "print(series1)\n",
    "print(\"Change the given data type to numeric:\") \n",
    "series2 = pd.to_numeric(series1, errors='coerce') \n",
    "print(series2)"
   ]
  },
  {
   "cell_type": "markdown",
   "metadata": {},
   "source": [
    "Q104. Write the python pandas program to convert the first column of a DataFrame as a Series?"
   ]
  },
  {
   "cell_type": "code",
   "execution_count": 11,
   "metadata": {},
   "outputs": [
    {
     "name": "stdout",
     "output_type": "stream",
     "text": [
      "Original DataFrame\n",
      "   col1  col2  col3\n",
      "0     1     4     7\n",
      "1     2     5     5\n",
      "2     3     6     8\n",
      "3     4     9    12\n",
      "4     7     5     1\n",
      "5    11     0    11\n",
      "\n",
      "1st column as a Series:\n",
      "0     1\n",
      "1     2\n",
      "2     3\n",
      "3     4\n",
      "4     7\n",
      "5    11\n",
      "Name: col1, dtype: int64\n",
      "<class 'pandas.core.series.Series'>\n"
     ]
    }
   ],
   "source": [
    "import pandas as pd \n",
    "d = {'col1': [1, 2, 3, 4, 7, 11], 'col2': [4, 5, 6, 9, 5, 0], 'col3': [7, 5, 8, 12, 1,11]} \n",
    "df = pd.DataFrame(data=d)\n",
    "print(\"Original DataFrame\") \n",
    "print(df) \n",
    "s1 = df.iloc[:,0]\n",
    "print(\"\\n1st column as a Series:\") \n",
    "print(s1) \n",
    "print(type(s1))"
   ]
  },
  {
   "cell_type": "markdown",
   "metadata": {},
   "source": [
    "Q105. Write a pandas program to create the mean and standard deviation of the data of a given Series?"
   ]
  },
  {
   "cell_type": "code",
   "execution_count": 12,
   "metadata": {},
   "outputs": [
    {
     "name": "stdout",
     "output_type": "stream",
     "text": [
      "Original Data Series:\n",
      "0     1\n",
      "1     2\n",
      "2     3\n",
      "3     4\n",
      "4     5\n",
      "5     6\n",
      "6     7\n",
      "7     8\n",
      "8     9\n",
      "9     5\n",
      "10    3\n",
      "dtype: int64\n",
      "Mean of the said Data Series:\n",
      "4.818181818181818\n",
      "Standard deviation of the said Data Series:\n",
      "2.522624895547565\n"
     ]
    }
   ],
   "source": [
    "import pandas as pd \n",
    "s = pd.Series(data = [1,2,3,4,5,6,7,8,9,5,3])\n",
    "print(\"Original Data Series:\")\n",
    "print(s)\n",
    "print(\"Mean of the said Data Series:\") \n",
    "print(s.mean())\n",
    "print(\"Standard deviation of the said Data Series:\") \n",
    "print(s.std())"
   ]
  },
  {
   "cell_type": "markdown",
   "metadata": {},
   "source": [
    "Q106. Write a pandas program to get powers of an array values element-wise?"
   ]
  },
  {
   "cell_type": "code",
   "execution_count": 13,
   "metadata": {},
   "outputs": [
    {
     "name": "stdout",
     "output_type": "stream",
     "text": [
      "    X   Y   Z\n",
      "0  78  84  86\n",
      "1  85  94  97\n",
      "2  96  89  96\n",
      "3  80  83  72\n",
      "4  86  86  83\n"
     ]
    }
   ],
   "source": [
    "import pandas as pd \n",
    "df = pd.DataFrame({'X':[78,85,96,80,86], 'Y':[84,94,89,83,86],'Z':[86,97,96,72,83]}); \n",
    "print(df)"
   ]
  },
  {
   "cell_type": "markdown",
   "metadata": {},
   "source": [
    "Q107. Write the pandas program to get the first 3 rows of a given DataFrame?"
   ]
  },
  {
   "cell_type": "code",
   "execution_count": 15,
   "metadata": {},
   "outputs": [
    {
     "name": "stdout",
     "output_type": "stream",
     "text": [
      "First three rows of the data frame:\n",
      "        name  score  attempts qualify\n",
      "a  Anastasia   12.5         1     yes\n",
      "b       Dima    9.0         3      no\n",
      "c  Katherine   16.5         2     yes\n"
     ]
    }
   ],
   "source": [
    "import pandas as pd \n",
    "import numpy as np\n",
    "exam_data = {'name': ['Anastasia', 'Dima', 'Katherine', 'James', 'Emily', 'Michael', 'Matthew', 'Laura', 'Kevin', 'Jonas'], 'score': [12.5, 9, 16.5, np.nan, 9, 20, 14.5, np.nan, 8, 19], 'attempts': [1, 3, 2, 3, 2, 3, 1, 1, 2, 1], 'qualify': ['yes', 'no', 'yes', 'no', 'no', 'yes', 'yes', 'no', 'no', 'yes']} \n",
    "labels = ['a', 'b', 'c', 'd', 'e', 'f', 'g', 'h', 'i', 'j']\n",
    "df = pd.DataFrame(exam_data , index=labels)\n",
    "print(\"First three rows of the data frame:\") \n",
    "print(df.iloc[:3])"
   ]
  },
  {
   "cell_type": "markdown",
   "metadata": {},
   "source": [
    "Q108: Write the pandas program to select the specified columns and the rows from a given data frame?"
   ]
  },
  {
   "cell_type": "code",
   "execution_count": 16,
   "metadata": {},
   "outputs": [
    {
     "name": "stdout",
     "output_type": "stream",
     "text": [
      "Select specific columns and rows:\n",
      "   score qualify\n",
      "b    9.0      no\n",
      "d    NaN      no\n",
      "f   20.0     yes\n",
      "g   14.5     yes\n"
     ]
    }
   ],
   "source": [
    "import pandas as pd \n",
    "import numpy as np\n",
    "exam_data = {'name': ['Anastasia', 'Dima', 'Katherine', 'James', 'Emily', 'Michael', 'Matthew', 'Laura', 'Kevin', 'Jonas'], 'score': [12.5, 9, 16.5, np.nan, 9, 20, 14.5, np.nan, 8, 19], 'attempts': [1, 3, 2, 3, 2, 3, 1, 1, 2, 1], 'qualify': ['yes', 'no', 'yes', 'no', 'no', 'yes', 'yes', 'no', 'no', 'yes']} \n",
    "labels = ['a', 'b', 'c', 'd', 'e', 'f', 'g', 'h', 'i', 'j'] \n",
    "df = pd.DataFrame(exam_data , index=labels) \n",
    "print(\"Select specific columns and rows:\") \n",
    "print(df.iloc[[1, 3, 5, 6], [1, 3]])"
   ]
  },
  {
   "cell_type": "markdown",
   "metadata": {},
   "source": [
    "Q109. Write the pandas program to calculate mean score for each different student in DataFrame?"
   ]
  },
  {
   "cell_type": "code",
   "execution_count": 17,
   "metadata": {},
   "outputs": [
    {
     "name": "stdout",
     "output_type": "stream",
     "text": [
      "\n",
      "Mean score for each different student in data frame:\n",
      "13.5625\n"
     ]
    }
   ],
   "source": [
    "import pandas as pd \n",
    "import numpy as np \n",
    "exam_data = {'name': ['Anastasia', 'Dima', 'Katherine', 'James', 'Emily', 'Michael', 'Matthew', 'Laura', 'Kevin', 'Jonas'], 'score': [12.5, 9, 16.5, np.nan, 9, 20, 14.5, np.nan, 8, 19], 'attempts': [1, 3, 2, 3, 2, 3, 1, 1, 2, 1], 'qualify': ['yes', 'no', 'yes', 'no', 'no', 'yes', 'yes', 'no', 'no', 'yes']} \n",
    "labels = ['a', 'b', 'c', 'd', 'e', 'f', 'g', 'h', 'i', 'j']\n",
    "df = pd.DataFrame(exam_data , index=labels)\n",
    "print(\"\\nMean score for each different student in data frame:\")\n",
    "print(df['score'].mean())"
   ]
  },
  {
   "cell_type": "markdown",
   "metadata": {},
   "source": [
    "Q110. Write the Pandas program to rename columns of a given DataFrame ?"
   ]
  },
  {
   "cell_type": "code",
   "execution_count": 19,
   "metadata": {},
   "outputs": [
    {
     "name": "stdout",
     "output_type": "stream",
     "text": [
      "Original DataFrame\n",
      "   col1  col2  col3\n",
      "0     1     4     7\n",
      "1     2     5     8\n",
      "2     3     6     9\n",
      "New DataFrame after renaming columns:\n",
      "   Column1  Column2  Column3\n",
      "0        1        4        7\n",
      "1        2        5        8\n",
      "2        3        6        9\n"
     ]
    }
   ],
   "source": [
    "import pandas as pd \n",
    "d = {'col1': [1, 2, 3], 'col2': [4, 5, 6], 'col3': [7, 8, 9]} \n",
    "df = pd.DataFrame(data=d)\n",
    "print(\"Original DataFrame\") \n",
    "print(df) \n",
    "df.columns = ['Column1', 'Column2', 'Column3'] \n",
    "df = df.rename(columns={'col1': 'Column1', 'col2': 'Column2', 'col3': 'Column3'})\n",
    "print(\"New DataFrame after renaming columns:\")\n",
    "print(df)"
   ]
  },
  {
   "cell_type": "markdown",
   "metadata": {},
   "source": [
    "Q111. Write a pandas program to count city-wise number of people from a given of data set (city, name of the person)?"
   ]
  },
  {
   "cell_type": "code",
   "execution_count": 20,
   "metadata": {},
   "outputs": [
    {
     "name": "stdout",
     "output_type": "stream",
     "text": [
      "          city  Number of people\n",
      "0   California                 4\n",
      "1      Georgia                 2\n",
      "2  Los Angeles                 4\n"
     ]
    }
   ],
   "source": [
    "import pandas as pd \n",
    "df1 = pd.DataFrame({'name': ['Anastasia', 'Dima', 'Katherine', 'James', 'Emily', 'Michael', 'Matthew', 'Laura', 'Kevin', 'Jonas'], 'city': ['California', 'Los Angeles', 'California', 'California', 'California', 'Los Angeles', 'Los Angeles', 'Georgia', 'Georgia', 'Los Angeles']}) \n",
    "g1 = df1.groupby([\"city\"]).size().reset_index(name='Number of people') \n",
    "print(g1)"
   ]
  },
  {
   "cell_type": "markdown",
   "metadata": {},
   "source": [
    "Q112. Write a pandas program to widen output display to see more columns?"
   ]
  },
  {
   "cell_type": "code",
   "execution_count": 23,
   "metadata": {},
   "outputs": [
    {
     "name": "stdout",
     "output_type": "stream",
     "text": [
      "Original DataFrame\n",
      "   col1  col2  col3\n",
      "0     1     4     7\n",
      "1     4     5     8\n",
      "2     3     6     9\n",
      "3     4     7     0\n",
      "4     5     8     1\n"
     ]
    }
   ],
   "source": [
    "import pandas as pd \n",
    "import numpy as np \n",
    "d = {'col1': [1, 4, 3, 4, 5], 'col2': [4, 5, 6, 7, 8], 'col3': [7, 8, 9, 0, 1]} \n",
    "df = pd.DataFrame(data=d) \n",
    "pd.set_option('display.max_rows', 500) \n",
    "pd.set_option('display.max_columns', 500) \n",
    "pd.set_option('display.width', 1000)\n",
    "print(\"Original DataFrame\") \n",
    "print(df)"
   ]
  },
  {
   "cell_type": "markdown",
   "metadata": {},
   "source": [
    "Q113. Write a pandas program to convert the data frame column type from string to DateTime?"
   ]
  },
  {
   "cell_type": "code",
   "execution_count": 24,
   "metadata": {},
   "outputs": [
    {
     "name": "stdout",
     "output_type": "stream",
     "text": [
      "String Date:\n",
      "0    3/11/2000\n",
      "1    3/12/2000\n",
      "2    3/13/2000\n",
      "dtype: object\n",
      "Original DataFrame (string to datetime):\n",
      "           0\n",
      "0 2000-03-11\n",
      "1 2000-03-12\n",
      "2 2000-03-13\n"
     ]
    }
   ],
   "source": [
    "import pandas as pd\n",
    "import numpy as np \n",
    "s = pd.Series(['3/11/2000', '3/12/2000', '3/13/2000'])\n",
    "print(\"String Date:\") \n",
    "print(s) \n",
    "r = pd.to_datetime(pd.Series(s)) \n",
    "df = pd.DataFrame(r)\n",
    "print(\"Original DataFrame (string to datetime):\")\n",
    "print(df)"
   ]
  },
  {
   "cell_type": "markdown",
   "metadata": {},
   "source": [
    "Q114. Write a pandas program to append the data to an empty DataFrame?"
   ]
  },
  {
   "cell_type": "code",
   "execution_count": 25,
   "metadata": {},
   "outputs": [
    {
     "name": "stdout",
     "output_type": "stream",
     "text": [
      "After appending some data:\n",
      "   col1  col2\n",
      "0     0     0\n",
      "1     1     1\n",
      "2     2     2\n"
     ]
    }
   ],
   "source": [
    "import pandas as pd \n",
    "import numpy as np \n",
    "df = pd.DataFrame() \n",
    "data = pd.DataFrame({\"col1\": range(3),\"col2\": range(3)})\n",
    "print(\"After appending some data:\") \n",
    "df = df.append(data) \n",
    "print(df)"
   ]
  },
  {
   "cell_type": "markdown",
   "metadata": {},
   "source": [
    "Q115. Write a pandas program to count the number of columns of a DataFrame?"
   ]
  },
  {
   "cell_type": "code",
   "execution_count": 26,
   "metadata": {},
   "outputs": [
    {
     "name": "stdout",
     "output_type": "stream",
     "text": [
      "Original DataFrame\n",
      "   col1  col2  col3\n",
      "0     1     4     7\n",
      "1     2     5     8\n",
      "2     3     6    12\n",
      "3     4     9     1\n",
      "4     7     5    11\n",
      "\n",
      "Number of columns:\n",
      "3\n"
     ]
    }
   ],
   "source": [
    "import pandas as pd \n",
    "d = {'col1': [1, 2, 3, 4, 7], 'col2': [4, 5, 6, 9, 5], 'col3': [7, 8, 12, 1, 11]} \n",
    "df = pd.DataFrame(data=d) \n",
    "print(\"Original DataFrame\") \n",
    "print(df) \n",
    "print(\"\\nNumber of columns:\") \n",
    "print(len(df.columns))"
   ]
  },
  {
   "cell_type": "markdown",
   "metadata": {},
   "source": [
    "Q116. Write a Pandas program to remove the last n rows of a given DataFrame ?"
   ]
  },
  {
   "cell_type": "code",
   "execution_count": 28,
   "metadata": {},
   "outputs": [
    {
     "name": "stdout",
     "output_type": "stream",
     "text": [
      "Original DataFrame\n",
      "   col1  col2  col3\n",
      "0     1     4     7\n",
      "1     2     5     5\n",
      "2     3     6     8\n",
      "3     4     9    12\n",
      "4     7     5     1\n",
      "5    11     0    11\n",
      "\n",
      "After removing last 3 rows of the said DataFrame:\n",
      "   col1  col2  col3\n",
      "0     1     4     7\n",
      "1     2     5     5\n",
      "2     3     6     8\n"
     ]
    }
   ],
   "source": [
    "import pandas as pd \n",
    "d = {'col1': [1, 2, 3, 4, 7, 11], 'col2': [4, 5, 6, 9, 5, 0], 'col3': [7, 5, 8, 12, 1,11]} \n",
    "df = pd.DataFrame(data=d)\n",
    "print(\"Original DataFrame\") \n",
    "print(df)\n",
    "print(\"\\nAfter removing last 3 rows of the said DataFrame:\") \n",
    "df1 = df.iloc[:3] \n",
    "print(df1)"
   ]
  },
  {
   "cell_type": "code",
   "execution_count": null,
   "metadata": {},
   "outputs": [],
   "source": [
    "Q117. Write a Pandas program to import excel data (coalpublic2013.xlsx ) into a Pandas data frame."
   ]
  },
  {
   "cell_type": "code",
   "execution_count": 30,
   "metadata": {},
   "outputs": [
    {
     "name": "stdout",
     "output_type": "stream",
     "text": [
      "<bound method NDFrame.head of     Year  MSHA ID                       Mine_Name  Production  Labor_Hours\n",
      "0   2013   103381            Tacoa Highwall Miner       56004        22392\n",
      "1   2013   103404                Reid School Mine       28807        28447\n",
      "2   2013   100759  North River #1 Underground Min     1440115       474784\n",
      "3   2013   103246                      Bear Creek       87587        29193\n",
      "4   2013   103451                     Knight Mine      147499        46393\n",
      "5   2013   103433              Crane Central Mine       69339        47195\n",
      "6   2013   100329                    Concord Mine           0       144002\n",
      "7   2013   100851                  Oak Grove Mine     2269014      1001809\n",
      "8   2013   102901                Shoal Creek Mine           0        12396\n",
      "9   2013   102901                Shoal Creek Mine     1453024      1237415\n",
      "10  2013   103180             Sloan Mountain Mine      327780       196963\n",
      "11  2013   103182                        Fishtrap      175058        87314\n",
      "12  2013   103285                     Narley Mine      154861        90584\n",
      "13  2013   103332                   Powhatan Mine      140521        61394\n",
      "14  2013   103375                    Johnson Mine         580         1900\n",
      "15  2013   103419               Maxine-Pratt Mine      125824       107469\n",
      "16  2013   103432                   Skelton Creek        8252          220\n",
      "17  2013   103437         Black Warrior Mine No 1      145924        70926\n",
      "18  2013   102976   Piney Woods Preparation Plant           0        14828\n",
      "19  2013   102976   Piney Woods Preparation Plant           0        23193\n",
      "20  2013   103380                          Calera           0        12621\n",
      "21  2013   103380                          Calera           0         1402\n",
      "22  2013   103422                 Clark No 1 Mine      122727       140250\n",
      "23  2013   103467             Helena Surface Mine       59664        30539\n",
      "24  2013   101247                       No 4 Mine     2622528      1551141\n",
      "25  2013   101401                       No 7 Mine     5405412      2464719\n",
      "26  2013   103172  Searles Mine No. 2, 3, 4, 5, 6      258078       119542\n",
      "27  2013   103179             Fleetwood Mine No 1       75937        63745\n",
      "28  2013   103303                    Shannon Mine      317491       164388\n",
      "29  2013   103323                   Deerlick Mine      133452        46381\n",
      "30  2013   103364           Brc Alabama No. 7 Llc           0        14324\n",
      "31  2013   103436                Swann's Crossing      137511        77190\n",
      "32  2013   100347                    Choctaw Mine      537429       215295\n",
      "33  2013   101362                 Manchester Mine      219457       116914\n",
      "34  2013   102996                  Jap Creek Mine      375715       164093\n",
      "35  2013   103155              Corinth Prep Plant           0        27996\n",
      "36  2013   103155              Corinth Prep Plant           0        51994\n",
      "37  2013   103195     Mccollum/Sparks Branch Mine       71910        17411\n",
      "38  2013   103342             Reese's Branch Mine      263888       115123\n",
      "39  2013   103370             Cresent Valley Mine        2860          621\n",
      "40  2013   103372                 Cane Creek Mine       66258        32401\n",
      "41  2013   103376                      Town Creek      299167       176499\n",
      "42  2013   103389                Carbon Hill Mine       76241        84966\n",
      "43  2013   103410                Coal Valley Mine      407841       158591\n",
      "44  2013   103423                Dutton Hill Mine       37275         9162\n",
      "45  2013  1519322                         Ghm #25       25054         3108\n",
      "46  2013   103321                  Poplar Springs      189370        76366\n",
      "47  2013   103358                       Old Union      284563       161805\n",
      "48  2013  5000030                        Usibelli     1631584       286079\n",
      "49  2013   201195                    Kayenta Mine     7602722      1015333>\n"
     ]
    }
   ],
   "source": [
    "import pandas as pd \n",
    "import numpy as np \n",
    "df = pd.read_excel('D:\\Ineuron\\Data sets-20200216T084411Z-001\\Data sets\\coalpublic2013.xlsx') \n",
    "print(df.head)"
   ]
  },
  {
   "cell_type": "markdown",
   "metadata": {},
   "source": [
    "Q118. Write a Pandas program to import excel data (coalpublic2013.xlsx ) into a data frame and find details where \"Mine Name\" starts with \"P."
   ]
  },
  {
   "cell_type": "code",
   "execution_count": 31,
   "metadata": {},
   "outputs": [
    {
     "data": {
      "text/html": [
       "<div>\n",
       "<style scoped>\n",
       "    .dataframe tbody tr th:only-of-type {\n",
       "        vertical-align: middle;\n",
       "    }\n",
       "\n",
       "    .dataframe tbody tr th {\n",
       "        vertical-align: top;\n",
       "    }\n",
       "\n",
       "    .dataframe thead th {\n",
       "        text-align: right;\n",
       "    }\n",
       "</style>\n",
       "<table border=\"1\" class=\"dataframe\">\n",
       "  <thead>\n",
       "    <tr style=\"text-align: right;\">\n",
       "      <th></th>\n",
       "      <th>Year</th>\n",
       "      <th>MSHA ID</th>\n",
       "      <th>Mine_Name</th>\n",
       "      <th>Production</th>\n",
       "      <th>Labor_Hours</th>\n",
       "    </tr>\n",
       "  </thead>\n",
       "  <tbody>\n",
       "    <tr>\n",
       "      <th>13</th>\n",
       "      <td>2013</td>\n",
       "      <td>103332</td>\n",
       "      <td>Powhatan Mine</td>\n",
       "      <td>140521</td>\n",
       "      <td>61394</td>\n",
       "    </tr>\n",
       "    <tr>\n",
       "      <th>18</th>\n",
       "      <td>2013</td>\n",
       "      <td>102976</td>\n",
       "      <td>Piney Woods Preparation Plant</td>\n",
       "      <td>0</td>\n",
       "      <td>14828</td>\n",
       "    </tr>\n",
       "    <tr>\n",
       "      <th>19</th>\n",
       "      <td>2013</td>\n",
       "      <td>102976</td>\n",
       "      <td>Piney Woods Preparation Plant</td>\n",
       "      <td>0</td>\n",
       "      <td>23193</td>\n",
       "    </tr>\n",
       "    <tr>\n",
       "      <th>46</th>\n",
       "      <td>2013</td>\n",
       "      <td>103321</td>\n",
       "      <td>Poplar Springs</td>\n",
       "      <td>189370</td>\n",
       "      <td>76366</td>\n",
       "    </tr>\n",
       "  </tbody>\n",
       "</table>\n",
       "</div>"
      ],
      "text/plain": [
       "    Year  MSHA ID                      Mine_Name  Production  Labor_Hours\n",
       "13  2013   103332                  Powhatan Mine      140521        61394\n",
       "18  2013   102976  Piney Woods Preparation Plant           0        14828\n",
       "19  2013   102976  Piney Woods Preparation Plant           0        23193\n",
       "46  2013   103321                 Poplar Springs      189370        76366"
      ]
     },
     "execution_count": 31,
     "metadata": {},
     "output_type": "execute_result"
    }
   ],
   "source": [
    "import pandas as pd \n",
    "import numpy as np \n",
    "df = pd.read_excel('D:\\Ineuron\\Data sets-20200216T084411Z-001\\Data sets\\coalpublic2013.xlsx') \n",
    "df[df[\"Mine_Name\"].map(lambda x: x.startswith('P'))].head()"
   ]
  },
  {
   "cell_type": "markdown",
   "metadata": {},
   "source": [
    "Q119. Write a Pandas program to import excel data (employee.xlsx ) into a Pandas dataframe and find the list of employees where hire_date> 01-01-07."
   ]
  },
  {
   "cell_type": "code",
   "execution_count": 32,
   "metadata": {},
   "outputs": [
    {
     "data": {
      "text/html": [
       "<div>\n",
       "<style scoped>\n",
       "    .dataframe tbody tr th:only-of-type {\n",
       "        vertical-align: middle;\n",
       "    }\n",
       "\n",
       "    .dataframe tbody tr th {\n",
       "        vertical-align: top;\n",
       "    }\n",
       "\n",
       "    .dataframe thead th {\n",
       "        text-align: right;\n",
       "    }\n",
       "</style>\n",
       "<table border=\"1\" class=\"dataframe\">\n",
       "  <thead>\n",
       "    <tr style=\"text-align: right;\">\n",
       "      <th></th>\n",
       "      <th>emp_id</th>\n",
       "      <th>first_name</th>\n",
       "      <th>last_name</th>\n",
       "      <th>hire_date</th>\n",
       "    </tr>\n",
       "  </thead>\n",
       "  <tbody>\n",
       "    <tr>\n",
       "      <th>4</th>\n",
       "      <td>104</td>\n",
       "      <td>Bruce</td>\n",
       "      <td>Ernst</td>\n",
       "      <td>2007-05-21</td>\n",
       "    </tr>\n",
       "    <tr>\n",
       "      <th>7</th>\n",
       "      <td>107</td>\n",
       "      <td>Diana</td>\n",
       "      <td>Lorentz</td>\n",
       "      <td>2007-02-07</td>\n",
       "    </tr>\n",
       "    <tr>\n",
       "      <th>13</th>\n",
       "      <td>113</td>\n",
       "      <td>Luis</td>\n",
       "      <td>Popp</td>\n",
       "      <td>2007-12-07</td>\n",
       "    </tr>\n",
       "    <tr>\n",
       "      <th>19</th>\n",
       "      <td>119</td>\n",
       "      <td>Karen</td>\n",
       "      <td>Colmenares</td>\n",
       "      <td>2007-08-10</td>\n",
       "    </tr>\n",
       "  </tbody>\n",
       "</table>\n",
       "</div>"
      ],
      "text/plain": [
       "    emp_id first_name   last_name  hire_date\n",
       "4      104      Bruce       Ernst 2007-05-21\n",
       "7      107      Diana     Lorentz 2007-02-07\n",
       "13     113       Luis        Popp 2007-12-07\n",
       "19     119      Karen  Colmenares 2007-08-10"
      ]
     },
     "execution_count": 32,
     "metadata": {},
     "output_type": "execute_result"
    }
   ],
   "source": [
    "import pandas as pd \n",
    "import numpy as np \n",
    "df = pd.read_excel('D:\\Ineuron\\Data sets-20200216T084411Z-001\\Data sets\\employee.xlsx') \n",
    "df[df['hire_date'] >='20070101']"
   ]
  },
  {
   "cell_type": "markdown",
   "metadata": {},
   "source": [
    "Q120. Write a Pandas program to import excel data (employee.xlsx ) into a Pandas dataframe and find a list of the employees of a specified year"
   ]
  },
  {
   "cell_type": "code",
   "execution_count": 33,
   "metadata": {},
   "outputs": [
    {
     "data": {
      "text/html": [
       "<div>\n",
       "<style scoped>\n",
       "    .dataframe tbody tr th:only-of-type {\n",
       "        vertical-align: middle;\n",
       "    }\n",
       "\n",
       "    .dataframe tbody tr th {\n",
       "        vertical-align: top;\n",
       "    }\n",
       "\n",
       "    .dataframe thead th {\n",
       "        text-align: right;\n",
       "    }\n",
       "</style>\n",
       "<table border=\"1\" class=\"dataframe\">\n",
       "  <thead>\n",
       "    <tr style=\"text-align: right;\">\n",
       "      <th></th>\n",
       "      <th>emp_id</th>\n",
       "      <th>first_name</th>\n",
       "      <th>last_name</th>\n",
       "    </tr>\n",
       "    <tr>\n",
       "      <th>hire_date</th>\n",
       "      <th></th>\n",
       "      <th></th>\n",
       "      <th></th>\n",
       "    </tr>\n",
       "  </thead>\n",
       "  <tbody>\n",
       "    <tr>\n",
       "      <th>2005-09-21</th>\n",
       "      <td>101</td>\n",
       "      <td>Neena</td>\n",
       "      <td>Kochhar</td>\n",
       "    </tr>\n",
       "    <tr>\n",
       "      <th>2005-06-25</th>\n",
       "      <td>105</td>\n",
       "      <td>David</td>\n",
       "      <td>Austin</td>\n",
       "    </tr>\n",
       "    <tr>\n",
       "      <th>2005-09-28</th>\n",
       "      <td>110</td>\n",
       "      <td>John</td>\n",
       "      <td>Chen</td>\n",
       "    </tr>\n",
       "    <tr>\n",
       "      <th>2005-09-30</th>\n",
       "      <td>111</td>\n",
       "      <td>Ismael</td>\n",
       "      <td>Sciarra</td>\n",
       "    </tr>\n",
       "    <tr>\n",
       "      <th>2005-12-24</th>\n",
       "      <td>116</td>\n",
       "      <td>Shelli</td>\n",
       "      <td>Baida</td>\n",
       "    </tr>\n",
       "    <tr>\n",
       "      <th>2005-07-24</th>\n",
       "      <td>117</td>\n",
       "      <td>Sigal</td>\n",
       "      <td>Tobias</td>\n",
       "    </tr>\n",
       "  </tbody>\n",
       "</table>\n",
       "</div>"
      ],
      "text/plain": [
       "            emp_id first_name last_name\n",
       "hire_date                              \n",
       "2005-09-21     101      Neena   Kochhar\n",
       "2005-06-25     105      David    Austin\n",
       "2005-09-28     110       John      Chen\n",
       "2005-09-30     111     Ismael   Sciarra\n",
       "2005-12-24     116     Shelli     Baida\n",
       "2005-07-24     117      Sigal    Tobias"
      ]
     },
     "execution_count": 33,
     "metadata": {},
     "output_type": "execute_result"
    }
   ],
   "source": [
    "import pandas as pd \n",
    "import numpy as np \n",
    "df = pd.read_excel('D:\\Ineuron\\Data sets-20200216T084411Z-001\\Data sets\\employee.xlsx') \n",
    "df2 = df.set_index(['hire_date']) \n",
    "result = df2[\"2005\"] \n",
    "result"
   ]
  },
  {
   "cell_type": "markdown",
   "metadata": {},
   "source": [
    "Q121. Write a pandas program to import three datasheets from a given excel data (coalpublic2013.xlsx ) in to a single dataframe."
   ]
  },
  {
   "cell_type": "code",
   "execution_count": 34,
   "metadata": {},
   "outputs": [
    {
     "name": "stdout",
     "output_type": "stream",
     "text": [
      "    emp_id   first_name    last_name  hire_date\n",
      "0      100       Steven         King 2003-06-17\n",
      "1      101        Neena      Kochhar 2005-09-21\n",
      "2      102          Lex      De Haan 2001-01-13\n",
      "3      103    Alexander       Hunold 2006-01-03\n",
      "4      104        Bruce        Ernst 2007-05-21\n",
      "5      105        David       Austin 2005-06-25\n",
      "6      106        Valli    Pataballa 2006-02-05\n",
      "7      107        Diana      Lorentz 2007-02-07\n",
      "8      108        Nancy    Greenberg 2002-08-17\n",
      "9      109       Daniel       Faviet 2002-08-16\n",
      "10     110         John         Chen 2005-09-28\n",
      "11     111       Ismael      Sciarra 2005-09-30\n",
      "12     112  Jose Manuel        Urman 2006-03-07\n",
      "13     113         Luis         Popp 2007-12-07\n",
      "14     114          Den     Raphaely 2002-12-07\n",
      "15     115    Alexander         Khoo 2003-05-18\n",
      "16     116       Shelli        Baida 2005-12-24\n",
      "17     117        Sigal       Tobias 2005-07-24\n",
      "18     118          Guy       Himuro 2006-11-15\n",
      "19     119        Karen   Colmenares 2007-08-10\n",
      "0      120      Matthew        Weiss 2004-07-18\n",
      "1      121         Adam        Fripp 2005-04-10\n",
      "2      122        Payam     Kaufling 2003-05-01\n",
      "3      123       Shanta      Vollman 2005-10-10\n",
      "4      124        Kevin      Mourgos 2007-11-16\n",
      "5      125        Julia        Nayer 2005-07-16\n",
      "6      126        Irene  Mikkilineni 2006-09-28\n",
      "7      127        James       Landry 2007-01-14\n",
      "8      128       Steven       Markle 2008-03-08\n",
      "9      129        Laura       Bissot 2005-08-20\n",
      "10     130        Mozhe     Atkinson 2005-10-30\n",
      "11     131        James       Marlow 2005-02-16\n",
      "12     132           TJ        Olson 2007-04-10\n",
      "13     133        Jason       Mallin 2004-06-14\n",
      "14     134      Michael       Rogers 2006-08-26\n",
      "15     135           Ki          Gee 2007-12-12\n",
      "16     136        Hazel   Philtanker 2008-02-06\n",
      "17     137       Renske       Ladwig 2003-07-14\n",
      "18     138      Stephen       Stiles 2005-10-26\n",
      "0      141       Trenna         Rajs 2003-10-17\n",
      "1      142       Curtis       Davies 2005-01-29\n",
      "2      143      Randall        Matos 2006-03-15\n",
      "3      144        Peter       Vargas 2006-07-09\n",
      "4      145         John      Russell 2004-10-01\n",
      "5      146        Karen     Partners 2005-01-05\n",
      "6      147      Alberto    Errazuriz 2005-03-10\n",
      "7      148       Gerald    Cambrault 2007-10-15\n",
      "8      149        Eleni      Zlotkey 2008-01-29\n"
     ]
    }
   ],
   "source": [
    "import pandas as pd \n",
    "import numpy as np \n",
    "df1 = pd.read_excel('D:\\Ineuron\\Data sets-20200216T084411Z-001\\Data sets\\employee.xlsx',sheet_name=0) \n",
    "df2 = pd.read_excel('D:\\Ineuron\\Data sets-20200216T084411Z-001\\Data sets\\employee.xlsx',sheet_name=1) \n",
    "df3 = pd.read_excel('D:\\Ineuron\\Data sets-20200216T084411Z-001\\Data sets\\employee.xlsx',sheet_name=2) \n",
    "df = pd.concat([df1, df2, df3]) \n",
    "print(df)"
   ]
  },
  {
   "cell_type": "markdown",
   "metadata": {},
   "source": [
    "Q 122. Write a pandas program to import three datasheets from a given excel data (employee.xlsx ) into a single data frame and export the result into new Excel file."
   ]
  },
  {
   "cell_type": "code",
   "execution_count": 35,
   "metadata": {},
   "outputs": [],
   "source": [
    "import pandas as pd \n",
    "import numpy as np \n",
    "df1 = pd.read_excel('D:\\Ineuron\\Data sets-20200216T084411Z-001\\Data sets\\employee.xlsx',sheet_name=0) \n",
    "df2 = pd.read_excel('D:\\Ineuron\\Data sets-20200216T084411Z-001\\Data sets\\employee.xlsx',sheet_name=1) \n",
    "df3 = pd.read_excel('D:\\Ineuron\\Data sets-20200216T084411Z-001\\Data sets\\employee.xlsx',sheet_name=2) \n",
    "df = pd.concat([df1, df2, df3]) \n",
    "df.to_excel('D:\\Ineuron\\Data sets-20200216T084411Z-001\\Data sets\\output.xlsx', index=False)"
   ]
  },
  {
   "cell_type": "markdown",
   "metadata": {},
   "source": [
    "Q123. Write a pandas program to create the Pivot table with multiple indexes from the data set of the titanic.csv."
   ]
  },
  {
   "cell_type": "code",
   "execution_count": 39,
   "metadata": {},
   "outputs": [
    {
     "name": "stdout",
     "output_type": "stream",
     "text": [
      "              Unnamed: 15  adult_male  alone      fare  parch  pclass  sibsp  survived\n",
      "sex    age                                                                            \n",
      "female 0.75           0.0         0.0    0.0   38.5166      2       6      4         2\n",
      "       1.00           0.0         0.0    0.0   26.8750      3       6      1         2\n",
      "       2.00           0.0         0.0    0.0  259.4750      9      15      9         2\n",
      "       3.00           0.0         0.0    0.0   62.6542      3       5      4         1\n",
      "       4.00           0.0         0.0    0.0  114.1417      6      13      4         5\n",
      "       5.00           0.0         0.0    1.0   90.8708      5      11      7         4\n",
      "       6.00           0.0         0.0    0.0   64.2750      3       5      4         1\n",
      "       7.00           0.0         0.0    0.0   26.2500      2       2      0         1\n",
      "       8.00           0.0         0.0    0.0   47.3250      3       5      3         1\n",
      "       9.00           0.0         0.0    0.0  108.7958      7      12     10         0\n",
      "       10.00          0.0         0.0    0.0   24.1500      2       3      0         0\n",
      "       11.00          0.0         0.0    0.0   31.2750      2       3      4         0\n",
      "       13.00          0.0         0.0    1.0   26.7292      1       5      0         2\n",
      "       14.00          0.0         0.0    1.0  169.1667      2       9      3         3\n",
      "       14.50          0.0         0.0    0.0   14.4542      0       3      1         0\n",
      "       15.00          0.0         0.0    2.0  241.0459      1      10      1         4\n",
      "       16.00          0.0         0.0    3.0  246.2625      4      12      5         5\n",
      "       17.00          0.0         0.0    3.0  210.7833      2      12      6         5\n",
      "       18.00          0.0         0.0    4.0  697.0167      9      31      6         8\n",
      "       19.00          0.0         0.0    3.0  215.0959      2      13      3         7\n",
      "       20.00          0.0         0.0    1.0   18.4875      0       6      1         0\n",
      "       21.00          0.0         0.0    4.0  410.4333      4      16      5         4\n",
      "       22.00          0.0         0.0    7.0  444.1084      6      26      3        10\n",
      "       23.00          0.0         0.0    3.0  405.5417      2      10      4         4\n",
      "       24.00          0.0         0.0    7.0  772.1708     15      31     10        14\n",
      "       25.00          0.0         0.0    1.0  223.2500      4      11      3         2\n",
      "       26.00          0.0         0.0    3.0  136.7292      1      12      2         3\n",
      "       27.00          0.0         0.0    2.0   76.8916      3      15      2         5\n",
      "       28.00          0.0         0.0    4.0  110.9458      1      16      3         5\n",
      "       29.00          0.0         0.0    2.0  320.6208      7      16      3         5\n",
      "       30.00          0.0         0.0    9.0  465.9917      1      20      4         9\n",
      "       30.50          0.0         0.0    1.0    7.7500      0       3      0         0\n",
      "       31.00          0.0         0.0    2.0  359.4542      4      16      4         5\n",
      "       32.00          0.0         0.0    2.0  104.7917      1       6      1         2\n",
      "       32.50          0.0         0.0    1.0   13.0000      0       2      0         1\n",
      "       33.00          0.0         0.0    1.0  299.2000      4      10      6         6\n",
      "       34.00          0.0         0.0    2.0   79.0000      2       8      1         4\n",
      "       35.00          0.0         0.0    3.0  967.7875      1      11      5         8\n",
      "       36.00          0.0         0.0    3.0  396.0333      4      12      3         7\n",
      "       37.00          0.0         0.0    1.0    9.5875      0       3      0         0\n",
      "       38.00          0.0         0.0    3.0  423.1958      5       8      2         4\n",
      "       39.00          0.0         0.0    0.0  389.9916     13      10      5         4\n",
      "       40.00          0.0         0.0    3.0  365.1875      2      11      3         5\n",
      "       41.00          0.0         0.0    1.0  213.9000      8       9      0         2\n",
      "       42.00          0.0         0.0    2.0  266.5250      0       5      1         3\n",
      "       43.00          0.0         0.0    0.0  258.2375      7       4      1         1\n",
      "       44.00          0.0         0.0    1.0  111.7000      1       4      1         2\n",
      "       45.00          0.0         0.0    2.0  254.7209      7      14      3         3\n",
      "       47.00          0.0         0.0    0.0   67.0542      1       4      2         1\n",
      "       48.00          0.0         0.0    1.0  164.9042      5       7      3         3\n",
      "       49.00          0.0         0.0    1.0  102.6584      0       2      1         2\n",
      "       50.00          0.0         0.0    3.0  323.2333      2       8      0         4\n",
      "       51.00          0.0         0.0    0.0   77.9583      0       1      1         1\n",
      "       52.00          0.0         0.0    0.0  171.7667      1       2      2         2\n",
      "       53.00          0.0         0.0    0.0   51.4792      0       1      2         1\n",
      "       54.00          0.0         0.0    0.0  160.6667      3       4      3         3\n",
      "       55.00          0.0         0.0    1.0   16.0000      0       2      0         1\n",
      "       56.00          0.0         0.0    0.0   83.1583      1       1      0         1\n",
      "       57.00          0.0         0.0    1.0   10.5000      0       2      0         0\n",
      "       58.00          0.0         0.0    2.0  326.5333      1       3      0         3\n",
      "       60.00          0.0         0.0    0.0   75.2500      0       1      1         1\n",
      "       62.00          0.0         0.0    1.0   80.0000      0       1      0         1\n",
      "       63.00          0.0         0.0    1.0   87.5458      0       4      1         2\n",
      "male   0.42           0.0         0.0    0.0    8.5167      1       3      0         1\n",
      "       0.67           0.0         0.0    0.0   14.5000      1       2      1         1\n",
      "       0.83           0.0         0.0    0.0   47.7500      3       4      1         2\n",
      "       0.92           0.0         0.0    0.0  151.5500      2       1      1         1\n",
      "       1.00           0.0         0.0    0.0  183.1667      8      13     12         3\n",
      "       2.00           0.0         0.0    0.0  115.8875      4      11     12         1\n",
      "       3.00           0.0         0.0    0.0   92.0375      5      10      7         4\n",
      "       4.00           0.0         0.0    0.0  181.2916      8      13     12         2\n",
      "       6.00           0.0         0.0    0.0   12.4750      1       3      0         1\n",
      "       7.00           0.0         0.0    0.0   68.8125      2       6      8         0\n",
      "       8.00           0.0         0.0    0.0   65.8750      2       5      5         1\n",
      "       9.00           0.0         0.0    0.0  114.7125      7      12     10         2\n",
      "       10.00          0.0         0.0    0.0   27.9000      2       3      3         0\n",
      "       11.00          0.0         0.0    1.0  185.6875      4       7      6         1\n",
      "       12.00          0.0         0.0    0.0   11.2417      0       3      1         1\n",
      "       14.00          0.0         0.0    0.0   86.5875      3       6      9         0\n",
      "       15.00          0.0         0.0    0.0    7.2292      1       3      1         0\n",
      "       16.00          0.0        11.0    7.0  191.4042      5      31      8         1\n",
      "       17.00          0.0         7.0    4.0  158.2792      3      19      2         1\n",
      "       18.00          0.0        13.0    9.0  292.6333      2      33      4         1\n",
      "       19.00          0.0        18.0   15.0  481.6415      3      46      5         2\n",
      "       20.00          0.0        13.0   11.0  110.8751      1      39      2         3\n",
      "       20.50          0.0         1.0    1.0    7.2500      0       3      0         0\n",
      "       21.00          0.0        17.0   14.0  347.1416      1      46      3         1\n",
      "       22.00          0.0        15.0   14.0  244.5207      0      43      1         1\n",
      "       23.00          0.0        10.0    8.0  164.3791      2      22      2         1\n",
      "       23.50          0.0         1.0    1.0    7.2292      0       3      0         0\n",
      "       24.00          0.0        14.0   10.0  518.8999      1      35      5         1\n",
      "       24.50          0.0         1.0    1.0    8.0500      0       3      0         0\n",
      "       25.00          0.0        18.0   11.0  338.3126      2      45      7         4\n",
      "       26.00          0.0        13.0    9.0  206.8333      2      36      5         3\n",
      "       27.00          0.0        12.0    9.0  469.6125      2      25      2         6\n",
      "       28.00          0.0        18.0   14.0  414.5582      1      42      4         2\n",
      "       28.50          0.0         2.0    2.0   23.3292      0       6      0         0\n",
      "       29.00          0.0        13.0    9.0  221.1957      0      32      4         3\n",
      "       30.00          0.0        14.0   12.0  172.5500      0      35      2         1\n",
      "       30.50          0.0         1.0    1.0    8.0500      0       3      0         0\n",
      "       31.00          0.0        10.0    6.0  269.7000      2      20      4         3\n",
      "       32.00          0.0        15.0   12.0  333.0291      0      40      4         7\n",
      "       32.50          0.0         1.0    0.0   30.0708      0       2      1         0\n",
      "       33.00          0.0         9.0    8.0   88.1833      1      24      1         0\n",
      "       34.00          0.0        11.0    7.0  170.5458      1      25      4         2\n",
      "       34.50          0.0         1.0    1.0    6.4375      0       3      0         0\n",
      "       35.00          0.0        10.0   10.0  639.8375      0      22      0         3\n",
      "       36.00          0.0        15.0    9.0  923.1958      6      29      5         4\n",
      "       36.50          0.0         1.0    0.0   26.0000      2       2      0         0\n",
      "       37.00          0.0         5.0    0.0  169.2792      2       8      5         1\n",
      "       38.00          0.0         6.0    4.0  267.0708      1      12      1         1\n",
      "       39.00          0.0         8.0    7.0  123.2750      5      19      1         1\n",
      "       40.00          0.0         7.0    5.0  117.2416      5      15      2         1\n",
      "       40.50          0.0         2.0    1.0   22.2500      2       6      0         0\n",
      "       41.00          0.0         2.0    1.0   21.2333      0       6      2         0\n",
      "       42.00          0.0        10.0    6.0  216.1084      1      21      3         3\n",
      "       43.00          0.0         3.0    2.0   40.7500      1       8      1         0\n",
      "       44.00          0.0         6.0    3.0  156.1250      1      15      3         1\n",
      "       45.00          0.0         6.0    5.0  187.1000      0      10      1         2\n",
      "       45.50          0.0         2.0    2.0   35.7250      0       4      0         0\n",
      "       46.00          0.0         3.0    2.0  166.3750      0       4      1         0\n",
      "       47.00          0.0         7.0    7.0  181.3583      0      12      0         0\n",
      "       48.00          0.0         5.0    3.0  176.1334      0       8      2         3\n",
      "       49.00          0.0         4.0    1.0  256.9167      1       6      3         2\n",
      "       50.00          0.0         5.0    2.0  317.0250      0       8      4         1\n",
      "       51.00          0.0         6.0    5.0  123.3084      1      13      0         1\n",
      "       52.00          0.0         4.0    3.0  136.6500      1       6      1         1\n",
      "       54.00          0.0         5.0    3.0  195.1500      1       8      1         0\n",
      "       55.00          0.0         1.0    1.0   30.5000      0       1      0         0\n",
      "       55.50          0.0         1.0    1.0    8.0500      0       3      0         0\n",
      "       56.00          0.0         3.0    3.0   92.7458      0       3      0         1\n",
      "       57.00          0.0         1.0    1.0   12.3500      0       2      0         0\n",
      "       58.00          0.0         2.0    1.0  142.9750      2       2      0         0\n",
      "       59.00          0.0         2.0    2.0   20.7500      0       5      0         0\n",
      "       60.00          0.0         3.0    1.0  144.7500      2       4      2         1\n",
      "       61.00          0.0         3.0    3.0   72.0583      0       5      0         0\n",
      "       62.00          0.0         3.0    3.0   63.6000      0       4      0         1\n",
      "       64.00          0.0         2.0    1.0  289.0000      4       2      1         0\n",
      "       65.00          0.0         3.0    2.0   96.2792      1       5      0         0\n",
      "       66.00          0.0         1.0    1.0   10.5000      0       2      0         0\n",
      "       70.00          0.0         2.0    1.0   81.5000      1       3      1         0\n",
      "       70.50          0.0         1.0    1.0    7.7500      0       3      0         0\n",
      "       71.00          0.0         2.0    2.0   84.1584      0       2      0         0\n",
      "       74.00          0.0         1.0    1.0    7.7750      0       3      0         0\n",
      "       80.00          0.0         1.0    1.0   30.0000      0       1      0         1\n"
     ]
    }
   ],
   "source": [
    "import pandas as pd \n",
    "import numpy as np \n",
    "df = pd.read_csv('D:\\\\Ineuron\\\\Data sets-20200216T084411Z-001\\\\Data sets\\\\titanic.csv') \n",
    "result = pd.pivot_table(df, index = [\"sex\",\"age\"], aggfunc=np.sum) \n",
    "print(result)"
   ]
  },
  {
   "cell_type": "markdown",
   "metadata": {},
   "source": [
    "Q124. Write a Pandas program to create the Pivot table and find survival rate by gender?"
   ]
  },
  {
   "cell_type": "code",
   "execution_count": 41,
   "metadata": {},
   "outputs": [
    {
     "name": "stdout",
     "output_type": "stream",
     "text": [
      "        survived\n",
      "sex             \n",
      "female  0.742038\n",
      "male    0.188908\n"
     ]
    }
   ],
   "source": [
    "import pandas as pd \n",
    "import numpy as np \n",
    "df = pd.read_csv('D:\\\\Ineuron\\\\Data sets-20200216T084411Z-001\\\\Data sets\\\\titanic.csv') \n",
    "result=df.groupby('sex')[['survived']].mean() \n",
    "print(result)"
   ]
  },
  {
   "cell_type": "markdown",
   "metadata": {},
   "source": [
    "Q125. Write a pandas program to make partition each of the passengers into 4 categories based on their age."
   ]
  },
  {
   "cell_type": "code",
   "execution_count": 42,
   "metadata": {},
   "outputs": [
    {
     "name": "stdout",
     "output_type": "stream",
     "text": [
      "0      (10.0, 30.0]\n",
      "1      (30.0, 60.0]\n",
      "2      (10.0, 30.0]\n",
      "3      (30.0, 60.0]\n",
      "4      (30.0, 60.0]\n",
      "5               NaN\n",
      "6      (30.0, 60.0]\n",
      "7       (0.0, 10.0]\n",
      "8      (10.0, 30.0]\n",
      "9      (10.0, 30.0]\n",
      "10      (0.0, 10.0]\n",
      "11     (30.0, 60.0]\n",
      "12     (10.0, 30.0]\n",
      "13     (30.0, 60.0]\n",
      "14     (10.0, 30.0]\n",
      "15     (30.0, 60.0]\n",
      "16      (0.0, 10.0]\n",
      "17              NaN\n",
      "18     (30.0, 60.0]\n",
      "19              NaN\n",
      "20     (30.0, 60.0]\n",
      "21     (30.0, 60.0]\n",
      "22     (10.0, 30.0]\n",
      "23     (10.0, 30.0]\n",
      "24      (0.0, 10.0]\n",
      "25     (30.0, 60.0]\n",
      "26              NaN\n",
      "27     (10.0, 30.0]\n",
      "28              NaN\n",
      "29              NaN\n",
      "30     (30.0, 60.0]\n",
      "31              NaN\n",
      "32              NaN\n",
      "33     (60.0, 80.0]\n",
      "34     (10.0, 30.0]\n",
      "35     (30.0, 60.0]\n",
      "36              NaN\n",
      "37     (10.0, 30.0]\n",
      "38     (10.0, 30.0]\n",
      "39     (10.0, 30.0]\n",
      "40     (30.0, 60.0]\n",
      "41     (10.0, 30.0]\n",
      "42              NaN\n",
      "43      (0.0, 10.0]\n",
      "44     (10.0, 30.0]\n",
      "45              NaN\n",
      "46              NaN\n",
      "47              NaN\n",
      "48              NaN\n",
      "49     (10.0, 30.0]\n",
      "50      (0.0, 10.0]\n",
      "51     (10.0, 30.0]\n",
      "52     (30.0, 60.0]\n",
      "53     (10.0, 30.0]\n",
      "54     (60.0, 80.0]\n",
      "55              NaN\n",
      "56     (10.0, 30.0]\n",
      "57     (10.0, 30.0]\n",
      "58      (0.0, 10.0]\n",
      "59     (10.0, 30.0]\n",
      "60     (10.0, 30.0]\n",
      "61     (30.0, 60.0]\n",
      "62     (30.0, 60.0]\n",
      "63      (0.0, 10.0]\n",
      "64              NaN\n",
      "65              NaN\n",
      "66     (10.0, 30.0]\n",
      "67     (10.0, 30.0]\n",
      "68     (10.0, 30.0]\n",
      "69     (10.0, 30.0]\n",
      "70     (30.0, 60.0]\n",
      "71     (10.0, 30.0]\n",
      "72     (10.0, 30.0]\n",
      "73     (10.0, 30.0]\n",
      "74     (30.0, 60.0]\n",
      "75     (10.0, 30.0]\n",
      "76              NaN\n",
      "77              NaN\n",
      "78      (0.0, 10.0]\n",
      "79     (10.0, 30.0]\n",
      "80     (10.0, 30.0]\n",
      "81     (10.0, 30.0]\n",
      "82              NaN\n",
      "83     (10.0, 30.0]\n",
      "84     (10.0, 30.0]\n",
      "85     (30.0, 60.0]\n",
      "86     (10.0, 30.0]\n",
      "87              NaN\n",
      "88     (10.0, 30.0]\n",
      "89     (10.0, 30.0]\n",
      "90     (10.0, 30.0]\n",
      "91     (10.0, 30.0]\n",
      "92     (30.0, 60.0]\n",
      "93     (10.0, 30.0]\n",
      "94     (30.0, 60.0]\n",
      "95              NaN\n",
      "96     (60.0, 80.0]\n",
      "97     (10.0, 30.0]\n",
      "98     (30.0, 60.0]\n",
      "99     (30.0, 60.0]\n",
      "100    (10.0, 30.0]\n",
      "101             NaN\n",
      "102    (10.0, 30.0]\n",
      "103    (30.0, 60.0]\n",
      "104    (30.0, 60.0]\n",
      "105    (10.0, 30.0]\n",
      "106    (10.0, 30.0]\n",
      "107             NaN\n",
      "108    (30.0, 60.0]\n",
      "109             NaN\n",
      "110    (30.0, 60.0]\n",
      "111    (10.0, 30.0]\n",
      "112    (10.0, 30.0]\n",
      "113    (10.0, 30.0]\n",
      "114    (10.0, 30.0]\n",
      "115    (10.0, 30.0]\n",
      "116    (60.0, 80.0]\n",
      "117    (10.0, 30.0]\n",
      "118    (10.0, 30.0]\n",
      "119     (0.0, 10.0]\n",
      "120    (10.0, 30.0]\n",
      "121             NaN\n",
      "122    (30.0, 60.0]\n",
      "123    (30.0, 60.0]\n",
      "124    (30.0, 60.0]\n",
      "125    (10.0, 30.0]\n",
      "126             NaN\n",
      "127    (10.0, 30.0]\n",
      "128             NaN\n",
      "129    (30.0, 60.0]\n",
      "130    (30.0, 60.0]\n",
      "131    (10.0, 30.0]\n",
      "132    (30.0, 60.0]\n",
      "133    (10.0, 30.0]\n",
      "134    (10.0, 30.0]\n",
      "135    (10.0, 30.0]\n",
      "136    (10.0, 30.0]\n",
      "137    (30.0, 60.0]\n",
      "138    (10.0, 30.0]\n",
      "139    (10.0, 30.0]\n",
      "140             NaN\n",
      "141    (10.0, 30.0]\n",
      "142    (10.0, 30.0]\n",
      "143    (10.0, 30.0]\n",
      "144    (10.0, 30.0]\n",
      "145    (10.0, 30.0]\n",
      "146    (10.0, 30.0]\n",
      "147     (0.0, 10.0]\n",
      "148    (30.0, 60.0]\n",
      "149    (30.0, 60.0]\n",
      "150    (30.0, 60.0]\n",
      "151    (10.0, 30.0]\n",
      "152    (30.0, 60.0]\n",
      "153    (30.0, 60.0]\n",
      "154             NaN\n",
      "155    (30.0, 60.0]\n",
      "156    (10.0, 30.0]\n",
      "157    (10.0, 30.0]\n",
      "158             NaN\n",
      "159             NaN\n",
      "160    (30.0, 60.0]\n",
      "161    (30.0, 60.0]\n",
      "162    (10.0, 30.0]\n",
      "163    (10.0, 30.0]\n",
      "164     (0.0, 10.0]\n",
      "165     (0.0, 10.0]\n",
      "166             NaN\n",
      "167    (30.0, 60.0]\n",
      "168             NaN\n",
      "169    (10.0, 30.0]\n",
      "170    (60.0, 80.0]\n",
      "171     (0.0, 10.0]\n",
      "172     (0.0, 10.0]\n",
      "173    (10.0, 30.0]\n",
      "174    (30.0, 60.0]\n",
      "175    (10.0, 30.0]\n",
      "176             NaN\n",
      "177    (30.0, 60.0]\n",
      "178    (10.0, 30.0]\n",
      "179    (30.0, 60.0]\n",
      "180             NaN\n",
      "181             NaN\n",
      "182     (0.0, 10.0]\n",
      "183     (0.0, 10.0]\n",
      "184     (0.0, 10.0]\n",
      "185             NaN\n",
      "186             NaN\n",
      "187    (30.0, 60.0]\n",
      "188    (30.0, 60.0]\n",
      "189    (30.0, 60.0]\n",
      "190    (30.0, 60.0]\n",
      "191    (10.0, 30.0]\n",
      "192    (10.0, 30.0]\n",
      "193     (0.0, 10.0]\n",
      "194    (30.0, 60.0]\n",
      "195    (30.0, 60.0]\n",
      "196             NaN\n",
      "197    (30.0, 60.0]\n",
      "198             NaN\n",
      "199    (10.0, 30.0]\n",
      "200    (10.0, 30.0]\n",
      "201             NaN\n",
      "202    (30.0, 60.0]\n",
      "203    (30.0, 60.0]\n",
      "204    (10.0, 30.0]\n",
      "205     (0.0, 10.0]\n",
      "206    (30.0, 60.0]\n",
      "207    (10.0, 30.0]\n",
      "208    (10.0, 30.0]\n",
      "209    (30.0, 60.0]\n",
      "210    (10.0, 30.0]\n",
      "211    (30.0, 60.0]\n",
      "212    (10.0, 30.0]\n",
      "213    (10.0, 30.0]\n",
      "214             NaN\n",
      "215    (30.0, 60.0]\n",
      "216    (10.0, 30.0]\n",
      "217    (30.0, 60.0]\n",
      "218    (30.0, 60.0]\n",
      "219    (10.0, 30.0]\n",
      "220    (10.0, 30.0]\n",
      "221    (10.0, 30.0]\n",
      "222    (30.0, 60.0]\n",
      "223             NaN\n",
      "224    (30.0, 60.0]\n",
      "225    (10.0, 30.0]\n",
      "226    (10.0, 30.0]\n",
      "227    (10.0, 30.0]\n",
      "228    (10.0, 30.0]\n",
      "229             NaN\n",
      "230    (30.0, 60.0]\n",
      "231    (10.0, 30.0]\n",
      "232    (30.0, 60.0]\n",
      "233     (0.0, 10.0]\n",
      "234    (10.0, 30.0]\n",
      "235             NaN\n",
      "236    (30.0, 60.0]\n",
      "237     (0.0, 10.0]\n",
      "238    (10.0, 30.0]\n",
      "239    (30.0, 60.0]\n",
      "240             NaN\n",
      "241             NaN\n",
      "242    (10.0, 30.0]\n",
      "243    (10.0, 30.0]\n",
      "244    (10.0, 30.0]\n",
      "245    (30.0, 60.0]\n",
      "246    (10.0, 30.0]\n",
      "247    (10.0, 30.0]\n",
      "248    (30.0, 60.0]\n",
      "249    (30.0, 60.0]\n",
      "           ...     \n",
      "641    (10.0, 30.0]\n",
      "642     (0.0, 10.0]\n",
      "643             NaN\n",
      "644     (0.0, 10.0]\n",
      "645    (30.0, 60.0]\n",
      "646    (10.0, 30.0]\n",
      "647    (30.0, 60.0]\n",
      "648             NaN\n",
      "649    (10.0, 30.0]\n",
      "650             NaN\n",
      "651    (10.0, 30.0]\n",
      "652    (10.0, 30.0]\n",
      "653             NaN\n",
      "654    (10.0, 30.0]\n",
      "655    (10.0, 30.0]\n",
      "656             NaN\n",
      "657    (30.0, 60.0]\n",
      "658    (10.0, 30.0]\n",
      "659    (30.0, 60.0]\n",
      "660    (30.0, 60.0]\n",
      "661    (30.0, 60.0]\n",
      "662    (30.0, 60.0]\n",
      "663    (30.0, 60.0]\n",
      "664    (10.0, 30.0]\n",
      "665    (30.0, 60.0]\n",
      "666    (10.0, 30.0]\n",
      "667             NaN\n",
      "668    (30.0, 60.0]\n",
      "669             NaN\n",
      "670    (30.0, 60.0]\n",
      "671    (30.0, 60.0]\n",
      "672    (60.0, 80.0]\n",
      "673    (30.0, 60.0]\n",
      "674             NaN\n",
      "675    (10.0, 30.0]\n",
      "676    (10.0, 30.0]\n",
      "677    (10.0, 30.0]\n",
      "678    (30.0, 60.0]\n",
      "679    (30.0, 60.0]\n",
      "680             NaN\n",
      "681    (10.0, 30.0]\n",
      "682    (10.0, 30.0]\n",
      "683    (10.0, 30.0]\n",
      "684    (30.0, 60.0]\n",
      "685    (10.0, 30.0]\n",
      "686    (10.0, 30.0]\n",
      "687    (10.0, 30.0]\n",
      "688    (10.0, 30.0]\n",
      "689    (10.0, 30.0]\n",
      "690    (30.0, 60.0]\n",
      "691     (0.0, 10.0]\n",
      "692             NaN\n",
      "693    (10.0, 30.0]\n",
      "694    (30.0, 60.0]\n",
      "695    (30.0, 60.0]\n",
      "696    (30.0, 60.0]\n",
      "697             NaN\n",
      "698    (30.0, 60.0]\n",
      "699    (30.0, 60.0]\n",
      "700    (10.0, 30.0]\n",
      "701    (30.0, 60.0]\n",
      "702    (10.0, 30.0]\n",
      "703    (10.0, 30.0]\n",
      "704    (10.0, 30.0]\n",
      "705    (30.0, 60.0]\n",
      "706    (30.0, 60.0]\n",
      "707    (30.0, 60.0]\n",
      "708    (10.0, 30.0]\n",
      "709             NaN\n",
      "710    (10.0, 30.0]\n",
      "711             NaN\n",
      "712    (30.0, 60.0]\n",
      "713    (10.0, 30.0]\n",
      "714    (30.0, 60.0]\n",
      "715    (10.0, 30.0]\n",
      "716    (30.0, 60.0]\n",
      "717    (10.0, 30.0]\n",
      "718             NaN\n",
      "719    (30.0, 60.0]\n",
      "720     (0.0, 10.0]\n",
      "721    (10.0, 30.0]\n",
      "722    (30.0, 60.0]\n",
      "723    (30.0, 60.0]\n",
      "724    (10.0, 30.0]\n",
      "725    (10.0, 30.0]\n",
      "726    (10.0, 30.0]\n",
      "727             NaN\n",
      "728    (10.0, 30.0]\n",
      "729    (10.0, 30.0]\n",
      "730    (10.0, 30.0]\n",
      "731    (10.0, 30.0]\n",
      "732             NaN\n",
      "733    (10.0, 30.0]\n",
      "734    (10.0, 30.0]\n",
      "735    (10.0, 30.0]\n",
      "736    (30.0, 60.0]\n",
      "737    (30.0, 60.0]\n",
      "738             NaN\n",
      "739             NaN\n",
      "740             NaN\n",
      "741    (30.0, 60.0]\n",
      "742    (10.0, 30.0]\n",
      "743    (10.0, 30.0]\n",
      "744    (30.0, 60.0]\n",
      "745    (60.0, 80.0]\n",
      "746    (10.0, 30.0]\n",
      "747    (10.0, 30.0]\n",
      "748    (10.0, 30.0]\n",
      "749    (30.0, 60.0]\n",
      "750     (0.0, 10.0]\n",
      "751     (0.0, 10.0]\n",
      "752    (30.0, 60.0]\n",
      "753    (10.0, 30.0]\n",
      "754    (30.0, 60.0]\n",
      "755     (0.0, 10.0]\n",
      "756    (10.0, 30.0]\n",
      "757    (10.0, 30.0]\n",
      "758    (30.0, 60.0]\n",
      "759    (30.0, 60.0]\n",
      "760             NaN\n",
      "761    (30.0, 60.0]\n",
      "762    (10.0, 30.0]\n",
      "763    (30.0, 60.0]\n",
      "764    (10.0, 30.0]\n",
      "765    (30.0, 60.0]\n",
      "766             NaN\n",
      "767    (30.0, 60.0]\n",
      "768             NaN\n",
      "769    (30.0, 60.0]\n",
      "770    (10.0, 30.0]\n",
      "771    (30.0, 60.0]\n",
      "772    (30.0, 60.0]\n",
      "773             NaN\n",
      "774    (30.0, 60.0]\n",
      "775    (10.0, 30.0]\n",
      "776             NaN\n",
      "777     (0.0, 10.0]\n",
      "778             NaN\n",
      "779    (30.0, 60.0]\n",
      "780    (10.0, 30.0]\n",
      "781    (10.0, 30.0]\n",
      "782    (10.0, 30.0]\n",
      "783             NaN\n",
      "784    (10.0, 30.0]\n",
      "785    (10.0, 30.0]\n",
      "786    (10.0, 30.0]\n",
      "787     (0.0, 10.0]\n",
      "788     (0.0, 10.0]\n",
      "789    (30.0, 60.0]\n",
      "790             NaN\n",
      "791    (10.0, 30.0]\n",
      "792             NaN\n",
      "793             NaN\n",
      "794    (10.0, 30.0]\n",
      "795    (30.0, 60.0]\n",
      "796    (30.0, 60.0]\n",
      "797    (30.0, 60.0]\n",
      "798    (10.0, 30.0]\n",
      "799    (10.0, 30.0]\n",
      "800    (30.0, 60.0]\n",
      "801    (30.0, 60.0]\n",
      "802    (10.0, 30.0]\n",
      "803     (0.0, 10.0]\n",
      "804    (10.0, 30.0]\n",
      "805    (30.0, 60.0]\n",
      "806    (30.0, 60.0]\n",
      "807    (10.0, 30.0]\n",
      "808    (30.0, 60.0]\n",
      "809    (30.0, 60.0]\n",
      "810    (10.0, 30.0]\n",
      "811    (30.0, 60.0]\n",
      "812    (30.0, 60.0]\n",
      "813     (0.0, 10.0]\n",
      "814    (30.0, 60.0]\n",
      "815             NaN\n",
      "816    (10.0, 30.0]\n",
      "817    (30.0, 60.0]\n",
      "818    (30.0, 60.0]\n",
      "819     (0.0, 10.0]\n",
      "820    (30.0, 60.0]\n",
      "821    (10.0, 30.0]\n",
      "822    (30.0, 60.0]\n",
      "823    (10.0, 30.0]\n",
      "824     (0.0, 10.0]\n",
      "825             NaN\n",
      "826             NaN\n",
      "827     (0.0, 10.0]\n",
      "828             NaN\n",
      "829    (60.0, 80.0]\n",
      "830    (10.0, 30.0]\n",
      "831     (0.0, 10.0]\n",
      "832             NaN\n",
      "833    (10.0, 30.0]\n",
      "834    (10.0, 30.0]\n",
      "835    (30.0, 60.0]\n",
      "836    (10.0, 30.0]\n",
      "837             NaN\n",
      "838    (30.0, 60.0]\n",
      "839             NaN\n",
      "840    (10.0, 30.0]\n",
      "841    (10.0, 30.0]\n",
      "842    (10.0, 30.0]\n",
      "843    (30.0, 60.0]\n",
      "844    (10.0, 30.0]\n",
      "845    (30.0, 60.0]\n",
      "846             NaN\n",
      "847    (30.0, 60.0]\n",
      "848    (10.0, 30.0]\n",
      "849             NaN\n",
      "850     (0.0, 10.0]\n",
      "851    (60.0, 80.0]\n",
      "852     (0.0, 10.0]\n",
      "853    (10.0, 30.0]\n",
      "854    (30.0, 60.0]\n",
      "855    (10.0, 30.0]\n",
      "856    (30.0, 60.0]\n",
      "857    (30.0, 60.0]\n",
      "858    (10.0, 30.0]\n",
      "859             NaN\n",
      "860    (30.0, 60.0]\n",
      "861    (10.0, 30.0]\n",
      "862    (30.0, 60.0]\n",
      "863             NaN\n",
      "864    (10.0, 30.0]\n",
      "865    (30.0, 60.0]\n",
      "866    (10.0, 30.0]\n",
      "867    (30.0, 60.0]\n",
      "868             NaN\n",
      "869     (0.0, 10.0]\n",
      "870    (10.0, 30.0]\n",
      "871    (30.0, 60.0]\n",
      "872    (30.0, 60.0]\n",
      "873    (30.0, 60.0]\n",
      "874    (10.0, 30.0]\n",
      "875    (10.0, 30.0]\n",
      "876    (10.0, 30.0]\n",
      "877    (10.0, 30.0]\n",
      "878             NaN\n",
      "879    (30.0, 60.0]\n",
      "880    (10.0, 30.0]\n",
      "881    (30.0, 60.0]\n",
      "882    (10.0, 30.0]\n",
      "883    (10.0, 30.0]\n",
      "884    (10.0, 30.0]\n",
      "885    (30.0, 60.0]\n",
      "886    (10.0, 30.0]\n",
      "887    (10.0, 30.0]\n",
      "888             NaN\n",
      "889    (10.0, 30.0]\n",
      "890    (30.0, 60.0]\n",
      "Name: age, Length: 891, dtype: category\n",
      "Categories (4, interval[int64]): [(0, 10] < (10, 30] < (30, 60] < (60, 80]]\n"
     ]
    }
   ],
   "source": [
    "import pandas as pd\n",
    "import numpy as np \n",
    "df = pd.read_csv('D:\\\\Ineuron\\\\Data sets-20200216T084411Z-001\\\\Data sets\\\\titanic.csv')\n",
    "result = pd.cut(df['age'], [0, 10, 30, 60, 80]) \n",
    "print(result)"
   ]
  },
  {
   "cell_type": "markdown",
   "metadata": {},
   "source": [
    "Q126. Write a pandas program to create the Pivot table and find survival rate by the gender, age of the different categories of various classes."
   ]
  },
  {
   "cell_type": "code",
   "execution_count": 44,
   "metadata": {},
   "outputs": [
    {
     "name": "stdout",
     "output_type": "stream",
     "text": [
      "class               First    Second     Third\n",
      "sex    age                                   \n",
      "female (0, 20]   0.928571  1.000000  0.510638\n",
      "       (20, 55]  0.968750  0.912281  0.407407\n",
      "male   (0, 20]   0.571429  0.526316  0.197368\n",
      "       (20, 55]  0.440000  0.054054  0.134503\n"
     ]
    }
   ],
   "source": [
    "import pandas as pd \n",
    "import numpy as np \n",
    "df = pd.read_csv('D:\\\\Ineuron\\\\Data sets-20200216T084411Z-001\\\\Data sets\\\\titanic.csv') \n",
    "age = pd.cut(df['age'], [0, 20, 55]) \n",
    "result = df.pivot_table('survived', index=['sex', age], columns='class') \n",
    "print(result)"
   ]
  },
  {
   "cell_type": "markdown",
   "metadata": {},
   "source": [
    "Q127. Write a pandas program to create the Pivot table and calculate number of women and men were in a particular cabin class."
   ]
  },
  {
   "cell_type": "code",
   "execution_count": 45,
   "metadata": {},
   "outputs": [
    {
     "name": "stdout",
     "output_type": "stream",
     "text": [
      "       Unnamed: 15       adult_male            age          alive           alone           class           deck        embark_town           embarked           fare           parch           sibsp           survived            who          \n",
      "pclass           1  2  3          1    2    3    1   2    3     1    2    3     1    2    3     1    2    3    1   2  3           1    2    3        1    2    3    1    2    3     1    2    3     1    2    3        1    2    3    1    2    3\n",
      "sex                                                                                                                                                                                                                                              \n",
      "female           0  0  0         94   76  144   85  74  102    94   76  144    94   76  144    94   76  144   81  10  6          92   76  144       92   76  144   94   76  144    94   76  144    94   76  144       94   76  144   94   76  144\n",
      "male             0  0  0        122  108  347  101  99  253   122  108  347   122  108  347   122  108  347   94   6  6         122  108  347      122  108  347  122  108  347   122  108  347   122  108  347      122  108  347  122  108  347\n"
     ]
    }
   ],
   "source": [
    "import pandas as pd \n",
    "import numpy as np \n",
    "df = pd.read_csv('D:\\\\Ineuron\\\\Data sets-20200216T084411Z-001\\\\Data sets\\\\titanic.csv') \n",
    "result = df.pivot_table(index=['sex'], columns=['pclass'], aggfunc='count') \n",
    "print(result)"
   ]
  },
  {
   "cell_type": "markdown",
   "metadata": {},
   "source": [
    "Q128. Write a pandas program to create the Pivot table and separate the gender according to whether they travelled alone or not to get the probability of survival"
   ]
  },
  {
   "cell_type": "code",
   "execution_count": 46,
   "metadata": {},
   "outputs": [
    {
     "name": "stdout",
     "output_type": "stream",
     "text": [
      "class            First    Second     Third\n",
      "sex    alone                              \n",
      "female False  0.966667  0.931818  0.416667\n",
      "       True   0.970588  0.906250  0.616667\n",
      "male   False  0.425532  0.277778  0.180723\n",
      "       True   0.333333  0.097222  0.121212\n"
     ]
    }
   ],
   "source": [
    "import pandas as pd \n",
    "import numpy as np \n",
    "df = pd.read_csv('D:\\\\Ineuron\\\\Data sets-20200216T084411Z-001\\\\Data sets\\\\titanic.csv') \n",
    "result = df.pivot_table( 'survived' , [ 'sex' , 'alone' ] , 'class' ) \n",
    "print(result)"
   ]
  },
  {
   "cell_type": "markdown",
   "metadata": {},
   "source": [
    "Q129. Write a pandas program to create the Pivot table and find the probability of survival by class, gender, solo boarding, and the port of embarkation."
   ]
  },
  {
   "cell_type": "code",
   "execution_count": 47,
   "metadata": {},
   "outputs": [
    {
     "name": "stdout",
     "output_type": "stream",
     "text": [
      "embark_town  Cherbourg                     Queenstown                  Southampton                    \n",
      "class            First    Second     Third      First Second     Third       First    Second     Third\n",
      "sex    alone                                                                                          \n",
      "female False  1.000000  1.000000  0.611111        1.0    NaN  0.625000    0.941176  0.923077  0.327586\n",
      "       True   0.944444  1.000000  0.800000        NaN    1.0  0.760000    1.000000  0.892857  0.466667\n",
      "male   False  0.473684  0.166667  0.500000        0.0    NaN  0.100000    0.407407  0.300000  0.142857\n",
      "       True   0.347826  0.250000  0.151515        NaN    0.0  0.068966    0.326923  0.089552  0.123762\n"
     ]
    }
   ],
   "source": [
    "import pandas as pd \n",
    "import numpy as np\n",
    "df = pd.read_csv('D:\\\\Ineuron\\\\Data sets-20200216T084411Z-001\\\\Data sets\\\\titanic.csv') \n",
    "result = df.pivot_table('survived', ['sex' , 'alone' ], [ 'embark_town', 'class' ])\n",
    "print(result)"
   ]
  },
  {
   "cell_type": "markdown",
   "metadata": {},
   "source": [
    "Q130. Write a pandas program to get current date, oldest date and number of days between Current date and the oldest date of Ufo dataset."
   ]
  },
  {
   "cell_type": "code",
   "execution_count": 2,
   "metadata": {},
   "outputs": [
    {
     "name": "stdout",
     "output_type": "stream",
     "text": [
      "Original Dataframe:\n",
      "            Date_time                  city state/province country UFO_shape  \\\n",
      "0 1910-06-01 15:00:00           wills point             tx      us     cigar   \n",
      "1 1920-06-11 21:00:00                cicero             in      us   unknown   \n",
      "2 1929-07-05 14:00:00  buchanan  (or burns)             or      us      disk   \n",
      "3 1931-06-01 13:00:00               abilene             ks      us      disk   \n",
      "4 1939-06-01 20:00:00              waterloo             al      us  fireball   \n",
      "\n",
      "   length_of_encounter_seconds described_duration_of_encounter  \\\n",
      "0                          120                       2 minutes   \n",
      "1                           60                        1 minute   \n",
      "2                           60                            1min   \n",
      "3                         1800                 30 min. approx.   \n",
      "4                          300                       5 minutes   \n",
      "\n",
      "                                         description date_documented  \\\n",
      "0       Cigar shaped object moving from West to East      04/16/2005   \n",
      "1  ((NUFORC Note:  Probable hoax.  Note date.  PD...      05/12/2009   \n",
      "2  we were traveling east of burns&#44clmbing up ...      08/16/2002   \n",
      "3  This is a what my mother related to me regardi...      02/14/2006   \n",
      "4  4 high school students see bright&#44 ground-l...      02/21/2014   \n",
      "\n",
      "    latitude   longitude  \n",
      "0  32.709167  -96.008056  \n",
      "1  40.123889  -86.013333  \n",
      "2  43.642500 -118.627500  \n",
      "3  38.917222  -97.213611  \n",
      "4  34.918056  -88.064167  \n",
      "\n",
      "Current date of Ufo dataset:\n",
      "2004-12-08 05:30:00\n",
      "\n",
      "Oldest date of Ufo dataset:\n",
      "1910-06-01 15:00:00\n",
      "\n",
      "Number of days between Current date and oldest date of Ufo dataset:\n",
      "34523\n"
     ]
    }
   ],
   "source": [
    "import pandas as pd \n",
    "df = pd.read_csv('D:\\\\Ineuron\\\\ufo.csv') \n",
    "df['Date_time'] = df['Date_time'].astype('datetime64[ns]',errors='ignore')\n",
    "print(\"Original Dataframe:\") \n",
    "print(df.head())\n",
    "print(\"\\nCurrent date of Ufo dataset:\") \n",
    "print(df.Date_time.max())\n",
    "print(\"\\nOldest date of Ufo dataset:\") \n",
    "print(df.Date_time.min())\n",
    "print(\"\\nNumber of days between Current date and oldest date of Ufo dataset:\") \n",
    "print((df.Date_time.max() - df.Date_time.min()).days)"
   ]
  },
  {
   "cell_type": "markdown",
   "metadata": {},
   "source": [
    "Q131. Write a pandas program to get all sighting days of the unidentified flying object (ufo) between 1950-10-10 and 1960-10- 10."
   ]
  },
  {
   "cell_type": "code",
   "execution_count": 3,
   "metadata": {},
   "outputs": [
    {
     "name": "stdout",
     "output_type": "stream",
     "text": [
      "Original Dataframe:\n",
      "            Date_time                  city state/province country UFO_shape  \\\n",
      "0 1910-06-01 15:00:00           wills point             tx      us     cigar   \n",
      "1 1920-06-11 21:00:00                cicero             in      us   unknown   \n",
      "2 1929-07-05 14:00:00  buchanan  (or burns)             or      us      disk   \n",
      "3 1931-06-01 13:00:00               abilene             ks      us      disk   \n",
      "4 1939-06-01 20:00:00              waterloo             al      us  fireball   \n",
      "\n",
      "   length_of_encounter_seconds described_duration_of_encounter  \\\n",
      "0                          120                       2 minutes   \n",
      "1                           60                        1 minute   \n",
      "2                           60                            1min   \n",
      "3                         1800                 30 min. approx.   \n",
      "4                          300                       5 minutes   \n",
      "\n",
      "                                         description date_documented  \\\n",
      "0       Cigar shaped object moving from West to East      04/16/2005   \n",
      "1  ((NUFORC Note:  Probable hoax.  Note date.  PD...      05/12/2009   \n",
      "2  we were traveling east of burns&#44clmbing up ...      08/16/2002   \n",
      "3  This is a what my mother related to me regardi...      02/14/2006   \n",
      "4  4 high school students see bright&#44 ground-l...      02/21/2014   \n",
      "\n",
      "    latitude   longitude  \n",
      "0  32.709167  -96.008056  \n",
      "1  40.123889  -86.013333  \n",
      "2  43.642500 -118.627500  \n",
      "3  38.917222  -97.213611  \n",
      "4  34.918056  -88.064167  \n",
      "\n",
      "Sighting days of the unidentified flying object (ufo) between 1949-10-10 and 1960-10-10:\n",
      "             Date_time                           city state/province country  \\\n",
      "29 1950-06-01 16:00:00                   philadelphia             ms      us   \n",
      "30 1950-06-01 20:00:00                     pittsburgh             pa      us   \n",
      "31 1950-08-01 04:00:00                     louisville             ky      us   \n",
      "32 1950-10-01 11:00:00                      pikeville             ky      us   \n",
      "33 1951-06-01 07:00:00               brandon (canada)             mb      ca   \n",
      "34 1951-07-01 03:00:00                  otis orchards             wa      us   \n",
      "35 1951-02-03 22:00:00                  thompsonville             ct      us   \n",
      "36 1951-06-03 13:00:00                         jasper             nc      us   \n",
      "37 1952-07-01 15:00:00                         sebeka             mn      us   \n",
      "38 1952-07-01 22:00:00                        detroit             mi      us   \n",
      "39 1952-08-01 21:30:00                          tampa             fl      us   \n",
      "40 1952-10-01 12:00:00                    kansas city             mo      us   \n",
      "41 1953-04-01 15:00:00                      haverhill             ma      us   \n",
      "42 1953-04-01 18:00:00                      cambridge             ma      us   \n",
      "43 1953-07-01 05:30:00  colorado springs (mtsn nw of)             co      us   \n",
      "44 1953-08-01 12:00:00                       berkeley             mo      us   \n",
      "45 1954-02-01 02:00:00                      fairbanks             ak      us   \n",
      "46 1954-06-01 00:00:00                        houston             tx      us   \n",
      "47 1954-06-01 06:00:00                           ovid             ny      us   \n",
      "48 1954-06-01 08:00:00  springfield (rural area near)             il      us   \n",
      "49 1955-05-01 15:00:00                       holbrook             ma      us   \n",
      "50 1955-06-01 02:00:00                         bagley             mn      us   \n",
      "51 1955-06-01 15:29:00                     cincinnati             oh      us   \n",
      "52 1955-06-01 17:00:00           martinez (outskirts)             ca      us   \n",
      "53 1956-01-01 05:30:00                        weirton             wv      us   \n",
      "54 1956-03-01 13:00:00                       petaluma             ca      us   \n",
      "55 1956-05-01 12:00:00                         canton             oh      us   \n",
      "56 1956-06-01 19:00:00                         belton             mo      us   \n",
      "57 1957-01-01 21:00:00                         dallas             tx      us   \n",
      "58 1957-05-01 12:00:00                         canton             oh      us   \n",
      "59 1957-06-01 10:00:00                        el paso             tx      us   \n",
      "60 1957-06-01 20:00:00                    glens falls             ny      us   \n",
      "61 1958-01-01 22:00:00                            pep             tx      us   \n",
      "62 1958-06-01 02:00:00                      middlesex             nc      us   \n",
      "63 1958-06-01 19:00:00                  san francisco             ca      us   \n",
      "64 1958-06-01 21:00:00          new york city (bronx)             ny      us   \n",
      "65 1959-04-01 01:00:00                          miami             fl      us   \n",
      "66 1959-05-01 18:30:00                       columbus             oh      us   \n",
      "67 1959-06-01 12:00:00                         orange             ct      us   \n",
      "68 1959-06-01 18:30:00                         sidney             oh      us   \n",
      "69 1960-02-01 22:15:00                       st. paul             mn      us   \n",
      "70 1960-02-01 23:00:00                       hartwell             ga      us   \n",
      "71 1960-04-01 21:00:00                        houston             tx      us   \n",
      "72 1960-05-01 20:00:00                         tucson             az      us   \n",
      "\n",
      "   UFO_shape  length_of_encounter_seconds described_duration_of_encounter  \\\n",
      "29      disk                          600             ten minutes or less   \n",
      "30      oval                         1500                   20/25 minutes   \n",
      "31     other                           60                        1 minute   \n",
      "32      disk                          600                              hr   \n",
      "33      disk                         1800                      30 minutes   \n",
      "34      disk                          120                      ~2 minutes   \n",
      "35      disk                           30                      30 seconds   \n",
      "36      oval                          300                       5 minutes   \n",
      "37     other                         1800                          30 min   \n",
      "38    sphere                          300                       5 minutes   \n",
      "39      oval                         9000                  2 hrs. 30 min.   \n",
      "40      disk                           90                         90 sec.   \n",
      "41   chevron                            2                         seconds   \n",
      "42    sphere                          180                       3 minutes   \n",
      "43      disk                           10                      10 seconds   \n",
      "44  fireball                          300                       5 minutes   \n",
      "45   unknown                         1140                         19 min.   \n",
      "46      disk                          180                     2-3 minutes   \n",
      "47      disk                          600                         10 min.   \n",
      "48  cylinder                          600                      5-10 mins.   \n",
      "49       egg                           60                        1 minute   \n",
      "50    circle                         7200                         2 hours   \n",
      "51      disk                          120               approx. 1-1/2 min   \n",
      "52    circle                         1800                      30 minutes   \n",
      "53      disk                           10                      10 seconds   \n",
      "54      oval                         1800                      30 minutes   \n",
      "55     cigar                          120                       2 minutes   \n",
      "56     other                          600                          10min.   \n",
      "57   unknown                           20                      20 seconds   \n",
      "58     cigar                          180                       3 minutes   \n",
      "59      disk                            7                  5 to 7 seconds   \n",
      "60      disk                          240                         3or4min   \n",
      "61  fireball                            2                            2sec   \n",
      "62    circle                         3600                          1 hour   \n",
      "63      oval                          120                       2 minutes   \n",
      "64      oval                           10                      10 seconds   \n",
      "65    sphere                         2700                   30-45 minutes   \n",
      "66     light                          180                         2-3 min   \n",
      "67  cylinder                         3600                         1 hour?   \n",
      "68     light                          300                       5 minutes   \n",
      "69     cigar                            3                       3 seconds   \n",
      "70     cigar                           45         approx 30 to 45 seconds   \n",
      "71     other                          300                      <5 minutes   \n",
      "72     light                          300                     4-5 minutes   \n",
      "\n",
      "                                          description date_documented  \\\n",
      "29  Childhood sighting of disk witnessed by mother...      03/12/2008   \n",
      "30  One larger white object &amp; 2 smaller round ...      02/14/2006   \n",
      "31  In 1953&#44 at the age of 3 years old I was Co...      10/19/2011   \n",
      "32        SEVENTY SOME  FLYING DISK OBSERVED IN  1950      04/16/2005   \n",
      "33  Circular Craft and Man in Black Sighted in Sum...      02/18/2001   \n",
      "34  Cigar shaped Disc darting back and forth (East...      12/23/2013   \n",
      "35  A golden-orange glowing bowl&#44 flat on top&#...      07/25/2004   \n",
      "36  MIDDAY OVAL SHAPE&#44 ANITQUE COLOR OBJECT SIT...      06/20/2005   \n",
      "37  Silver donut shape object sighted over rural M...      12/12/2011   \n",
      "38  object sits stationary for 5 minutes and then ...      10/31/2003   \n",
      "39  Triangulation radar fix (USAF&#44 civil&#44 Na...      12/02/2000   \n",
      "40  1952 daylight sighting of multiple discs in fo...      10/31/2008   \n",
      "41                Historical account&#44 Haverhill MA      09/02/2005   \n",
      "42  Two red-orange lights skirted Boston rooftops ...      07/14/2013   \n",
      "43  Absolutely huge UFO hovered 40 feet above hous...      07/25/2004   \n",
      "44    Early 50&#39s sighting in Berkeley&#44 Missouri      01/22/2004   \n",
      "45  RADAR INTERCEPT OF UFO BY USAF PILOT IN ALASKA...      01/10/2009   \n",
      "46  I fulfilled my duty by passing on an unusual a...      06/12/2008   \n",
      "47  I saw two silver/gray objects of different sha...      12/05/2001   \n",
      "48  This happened many years ago when I was a chil...      12/02/2000   \n",
      "49  I turned around and over the trees was a large...      04/16/2005   \n",
      "50  I was 5 years old at the time&#44 family of 4 ...      05/24/1999   \n",
      "51  June 1955.  Bronze saucer/cylindrical craft; a...      06/18/2003   \n",
      "52  We observed a large object aprox.size &quot;fo...      02/16/2000   \n",
      "53  My Uncle Sam was driving to work very early on...      01/07/2000   \n",
      "54  Objects were several thousand feet in altitude...      01/28/1999   \n",
      "55  At first the silver disc was stationary. As it...      09/15/2005   \n",
      "56  THE EVENT WAS A PERSONAL CONTACT WITH AN ALIEN...      01/28/1999   \n",
      "57  I was flying the first of 4 USAF aircraft on a...      08/24/2004   \n",
      "58  Cigar shaped object is motionless for more tha...      04/27/2004   \n",
      "59  The UFO did not make any sounds.  The craft&#3...      07/26/2002   \n",
      "60  there was no mistakeing what i was looking at ...      12/02/2000   \n",
      "61  Green fire balls&#44 Texas Panhandle&#44 late ...      12/12/2009   \n",
      "62                               white glowing lights      03/11/2006   \n",
      "63  A low flying huge silver flying saucer positio...      10/31/2003   \n",
      "64  7 brightly illuminated elliptical discs racing...      04/16/2005   \n",
      "65  1959 childhood encounter with a spherical&#44 ...      02/14/2008   \n",
      "66  Red-orange lights over seen motionless over Lo...      02/22/2002   \n",
      "67  Sighted craft and transport of object to the g...      03/19/2009   \n",
      "68  Saw a bright light shining down.  Pulled over ...      04/27/2007   \n",
      "69  A cigar-shaped UFO glided down towards the ear...      03/16/2000   \n",
      "70  My father explained an event of a large cigar-...      04/16/2005   \n",
      "71  Sharp right angle turn in flight direction aft...      12/19/2003   \n",
      "72  Lights only&#44 no sound&#44 moving across the...      09/02/2005   \n",
      "\n",
      "     latitude   longitude  \n",
      "29  32.771389  -89.116667  \n",
      "30  40.440556  -79.996111  \n",
      "31  38.254167  -85.759444  \n",
      "32  37.479167  -82.518889  \n",
      "33  49.833333  -99.950000  \n",
      "34  47.700556 -117.105278  \n",
      "35  41.996944  -72.599444  \n",
      "36  35.201389  -77.206944  \n",
      "37  46.630000  -95.088611  \n",
      "38  42.331389  -83.045833  \n",
      "39  27.947222  -82.458611  \n",
      "40  39.099722  -94.578333  \n",
      "41  42.776111  -71.077778  \n",
      "42  42.375000  -71.106111  \n",
      "43  38.833889 -104.820833  \n",
      "44  38.754444  -90.331111  \n",
      "45  64.837778 -147.716389  \n",
      "46  29.763056  -95.363056  \n",
      "47  42.676389  -76.823333  \n",
      "48  39.801667  -89.643611  \n",
      "49  42.155000  -71.009167  \n",
      "50  47.521667  -95.398056  \n",
      "51  39.161944  -84.456944  \n",
      "52  38.019444 -122.133056  \n",
      "53  40.418889  -80.589722  \n",
      "54  38.232500 -122.635556  \n",
      "55  40.798889  -81.378611  \n",
      "56  38.811944  -94.531667  \n",
      "57  32.783333  -96.800000  \n",
      "58  40.798889  -81.378611  \n",
      "59  31.758611 -106.486389  \n",
      "60  43.309444  -73.644444  \n",
      "61  33.816111 -102.557778  \n",
      "62  35.790000  -78.204167  \n",
      "63  37.775000 -122.418333  \n",
      "64  40.714167  -74.006389  \n",
      "65  25.773889  -80.193889  \n",
      "66  39.961111  -82.998889  \n",
      "67  41.278333  -73.026111  \n",
      "68  40.284167  -84.155556  \n",
      "69  44.944444  -93.093056  \n",
      "70  34.352778  -82.932222  \n",
      "71  29.763056  -95.363056  \n",
      "72  32.221667 -110.925833  \n"
     ]
    }
   ],
   "source": [
    "import pandas as pd \n",
    "df = pd.read_csv('D:\\\\Ineuron\\\\ufo.csv') \n",
    "df['Date_time'] = df['Date_time'].astype('datetime64[ns]',errors='ignore')\n",
    "print(\"Original Dataframe:\") \n",
    "print(df.head())\n",
    "print(\"\\nSighting days of the unidentified flying object (ufo) between 1949-10-10 and 1960-10-10:\") \n",
    "selected_period = df[(df['Date_time'] >= '1950-01-01 00:00:00') & (df['Date_time'] <= '1960-12-31 23:59:59')] \n",
    "print(selected_period)"
   ]
  },
  {
   "cell_type": "markdown",
   "metadata": {},
   "source": [
    "Q132. Write a Pandas program to extract the year, month, day, hour, minute, second, and weekday from unidentified flying object (UFO) reporting date."
   ]
  },
  {
   "cell_type": "code",
   "execution_count": 4,
   "metadata": {},
   "outputs": [
    {
     "name": "stdout",
     "output_type": "stream",
     "text": [
      "Original Dataframe:\n",
      "            Date_time                  city state/province country UFO_shape  \\\n",
      "0 1910-06-01 15:00:00           wills point             tx      us     cigar   \n",
      "1 1920-06-11 21:00:00                cicero             in      us   unknown   \n",
      "2 1929-07-05 14:00:00  buchanan  (or burns)             or      us      disk   \n",
      "3 1931-06-01 13:00:00               abilene             ks      us      disk   \n",
      "4 1939-06-01 20:00:00              waterloo             al      us  fireball   \n",
      "\n",
      "   length_of_encounter_seconds described_duration_of_encounter  \\\n",
      "0                          120                       2 minutes   \n",
      "1                           60                        1 minute   \n",
      "2                           60                            1min   \n",
      "3                         1800                 30 min. approx.   \n",
      "4                          300                       5 minutes   \n",
      "\n",
      "                                         description date_documented  \\\n",
      "0       Cigar shaped object moving from West to East      04/16/2005   \n",
      "1  ((NUFORC Note:  Probable hoax.  Note date.  PD...      05/12/2009   \n",
      "2  we were traveling east of burns&#44clmbing up ...      08/16/2002   \n",
      "3  This is a what my mother related to me regardi...      02/14/2006   \n",
      "4  4 high school students see bright&#44 ground-l...      02/21/2014   \n",
      "\n",
      "    latitude   longitude  \n",
      "0  32.709167  -96.008056  \n",
      "1  40.123889  -86.013333  \n",
      "2  43.642500 -118.627500  \n",
      "3  38.917222  -97.213611  \n",
      "4  34.918056  -88.064167  \n",
      "\n",
      "Year:\n",
      "0    1910\n",
      "1    1920\n",
      "2    1929\n",
      "3    1931\n",
      "4    1939\n",
      "Name: Date_time, dtype: int64\n",
      "\n",
      "Month:\n",
      "0    6\n",
      "1    6\n",
      "2    7\n",
      "3    6\n",
      "4    6\n",
      "Name: Date_time, dtype: int64\n",
      "\n",
      "Day:\n",
      "0     1\n",
      "1    11\n",
      "2     5\n",
      "3     1\n",
      "4     1\n",
      "Name: Date_time, dtype: int64\n",
      "\n",
      "Hour:\n",
      "0    15\n",
      "1    21\n",
      "2    14\n",
      "3    13\n",
      "4    20\n",
      "Name: Date_time, dtype: int64\n",
      "\n",
      "Minute:\n",
      "0    0\n",
      "1    0\n",
      "2    0\n",
      "3    0\n",
      "4    0\n",
      "Name: Date_time, dtype: int64\n",
      "\n",
      "Second:\n",
      "0    0\n",
      "1    0\n",
      "2    0\n",
      "3    0\n",
      "4    0\n",
      "Name: Date_time, dtype: int64\n",
      "\n",
      "Weekday:\n",
      "0    Wednesday\n",
      "1       Friday\n",
      "2       Friday\n",
      "3       Monday\n",
      "4     Thursday\n",
      "Name: Date_time, dtype: object\n"
     ]
    }
   ],
   "source": [
    "import pandas as pd \n",
    "df = pd.read_csv('D:\\\\Ineuron\\\\ufo.csv') \n",
    "df['Date_time'] = df['Date_time'].astype('datetime64[ns]')\n",
    "print(\"Original Dataframe:\") \n",
    "print(df.head())\n",
    "print(\"\\nYear:\") \n",
    "print(df.Date_time.dt.year.head())\n",
    "print(\"\\nMonth:\") \n",
    "print(df.Date_time.dt.month.head())\n",
    "print(\"\\nDay:\") \n",
    "print(df.Date_time.dt.day.head())\n",
    "print(\"\\nHour:\") \n",
    "print(df.Date_time.dt.hour.head())\n",
    "print(\"\\nMinute:\") \n",
    "print(df.Date_time.dt.minute.head())\n",
    "print(\"\\nSecond:\") \n",
    "print(df.Date_time.dt.second.head())\n",
    "print(\"\\nWeekday:\") \n",
    "print(df.Date_time.dt.weekday_name.head())"
   ]
  },
  {
   "cell_type": "markdown",
   "metadata": {},
   "source": [
    "Q133. Write a pandas program to count year-country wise frequency of reporting dates of the unidentified flying object(UFO)."
   ]
  },
  {
   "cell_type": "code",
   "execution_count": 5,
   "metadata": {},
   "outputs": [
    {
     "name": "stdout",
     "output_type": "stream",
     "text": [
      "Original Dataframe:\n",
      "            Date_time                  city state/province country UFO_shape  \\\n",
      "0 1910-06-01 15:00:00           wills point             tx      us     cigar   \n",
      "1 1920-06-11 21:00:00                cicero             in      us   unknown   \n",
      "2 1929-07-05 14:00:00  buchanan  (or burns)             or      us      disk   \n",
      "3 1931-06-01 13:00:00               abilene             ks      us      disk   \n",
      "4 1939-06-01 20:00:00              waterloo             al      us  fireball   \n",
      "\n",
      "   length_of_encounter_seconds described_duration_of_encounter  \\\n",
      "0                          120                       2 minutes   \n",
      "1                           60                        1 minute   \n",
      "2                           60                            1min   \n",
      "3                         1800                 30 min. approx.   \n",
      "4                          300                       5 minutes   \n",
      "\n",
      "                                         description date_documented  \\\n",
      "0       Cigar shaped object moving from West to East      04/16/2005   \n",
      "1  ((NUFORC Note:  Probable hoax.  Note date.  PD...      05/12/2009   \n",
      "2  we were traveling east of burns&#44clmbing up ...      08/16/2002   \n",
      "3  This is a what my mother related to me regardi...      02/14/2006   \n",
      "4  4 high school students see bright&#44 ground-l...      02/21/2014   \n",
      "\n",
      "    latitude   longitude  \n",
      "0  32.709167  -96.008056  \n",
      "1  40.123889  -86.013333  \n",
      "2  43.642500 -118.627500  \n",
      "3  38.917222  -97.213611  \n",
      "4  34.918056  -88.064167  \n",
      "\n",
      "Country-year wise frequency of reporting dates of UFO:\n",
      "Year  country\n",
      "1910  us          1\n",
      "1920  us          1\n",
      "1929  us          1\n",
      "1931  us          1\n",
      "1939  us          2\n",
      "1941  us          1\n",
      "1942  us          1\n",
      "1944  us          3\n",
      "1945  us          4\n",
      "1946  us          3\n",
      "1947  us          4\n",
      "1948  us          3\n",
      "1949  us          4\n",
      "1950  us          4\n",
      "1951  ca          1\n",
      "      us          3\n",
      "1952  us          4\n",
      "1953  us          4\n",
      "1954  us          4\n",
      "1955  us          4\n",
      "1956  us          4\n",
      "1957  us          4\n",
      "1958  us          4\n",
      "1959  us          4\n",
      "1960  us          4\n",
      "1961  us          4\n",
      "1962  us          4\n",
      "1963  us          4\n",
      "1964  us          4\n",
      "1965  us          4\n",
      "                 ..\n",
      "1984  us          4\n",
      "1985  us          4\n",
      "1986  us          4\n",
      "1987  us          4\n",
      "1988  us          4\n",
      "1989  ca          1\n",
      "      us          3\n",
      "1990  us          4\n",
      "1991  us          4\n",
      "1992  us          8\n",
      "1993  ca          1\n",
      "      us         11\n",
      "1994  ca          1\n",
      "      us         10\n",
      "1995  ca          1\n",
      "      us         11\n",
      "1996  us         12\n",
      "1997  ca          1\n",
      "      us         13\n",
      "1998  us         13\n",
      "1999  us         11\n",
      "2000  ca          1\n",
      "      us         11\n",
      "2001  ca          1\n",
      "      us         14\n",
      "2002  ca          1\n",
      "      us         13\n",
      "2003  us          9\n",
      "2004  ca          1\n",
      "      us          6\n",
      "Length: 79, dtype: int64\n"
     ]
    }
   ],
   "source": [
    "import pandas as pd \n",
    "df = pd.read_csv('D:\\\\Ineuron\\\\ufo.csv') \n",
    "df['Date_time'] = df['Date_time'].astype('datetime64[ns]')\n",
    "print(\"Original Dataframe:\") \n",
    "print(df.head()) \n",
    "df['Year'] = df['Date_time'].apply(lambda x: \"%d\" % (x.year)) \n",
    "result = df.groupby(['Year', 'country']).size() \n",
    "print(\"\\nCountry-year wise frequency of reporting dates of UFO:\")\n",
    "print(result)"
   ]
  },
  {
   "cell_type": "markdown",
   "metadata": {},
   "source": [
    "Q134. Write a pandas program to get the difference (in days) between documented date and reporting date of unidentified flying object (UFO)."
   ]
  },
  {
   "cell_type": "code",
   "execution_count": 6,
   "metadata": {},
   "outputs": [
    {
     "name": "stdout",
     "output_type": "stream",
     "text": [
      "Original Dataframe:\n",
      "            Date_time                  city state/province country UFO_shape  \\\n",
      "0 1910-06-01 15:00:00           wills point             tx      us     cigar   \n",
      "1 1920-06-11 21:00:00                cicero             in      us   unknown   \n",
      "2 1929-07-05 14:00:00  buchanan  (or burns)             or      us      disk   \n",
      "3 1931-06-01 13:00:00               abilene             ks      us      disk   \n",
      "4 1939-06-01 20:00:00              waterloo             al      us  fireball   \n",
      "\n",
      "   length_of_encounter_seconds described_duration_of_encounter  \\\n",
      "0                          120                       2 minutes   \n",
      "1                           60                        1 minute   \n",
      "2                           60                            1min   \n",
      "3                         1800                 30 min. approx.   \n",
      "4                          300                       5 minutes   \n",
      "\n",
      "                                         description date_documented  \\\n",
      "0       Cigar shaped object moving from West to East      2005-04-16   \n",
      "1  ((NUFORC Note:  Probable hoax.  Note date.  PD...      2009-05-12   \n",
      "2  we were traveling east of burns&#44clmbing up ...      2002-08-16   \n",
      "3  This is a what my mother related to me regardi...      2006-02-14   \n",
      "4  4 high school students see bright&#44 ground-l...      2014-02-21   \n",
      "\n",
      "    latitude   longitude  \n",
      "0  32.709167  -96.008056  \n",
      "1  40.123889  -86.013333  \n",
      "2  43.642500 -118.627500  \n",
      "3  38.917222  -97.213611  \n",
      "4  34.918056  -88.064167  \n",
      "\n",
      "Difference (in days) between documented date and reporting date of UFO:\n",
      "              Date_time                       city state/province country  \\\n",
      "0   1910-06-01 15:00:00                wills point             tx      us   \n",
      "1   1920-06-11 21:00:00                     cicero             in      us   \n",
      "2   1929-07-05 14:00:00       buchanan  (or burns)             or      us   \n",
      "3   1931-06-01 13:00:00                    abilene             ks      us   \n",
      "4   1939-06-01 20:00:00                   waterloo             al      us   \n",
      "5   1939-07-07 02:00:00                     keokuk             ia      us   \n",
      "6   1941-06-01 13:00:00    ludington (hamlin lake)             mi      us   \n",
      "7   1942-06-01 22:30:00                  hapeville             ga      us   \n",
      "8   1944-01-01 12:00:00                  san diego             ca      us   \n",
      "9   1944-06-01 12:00:00                 los alamos             nm      us   \n",
      "10  1944-04-02 11:00:00                     clovis             nm      us   \n",
      "11  1945-06-01 13:30:00                     jasper             fl      us   \n",
      "12  1945-06-07 07:00:00              winston-salem             nc      us   \n",
      "13  1945-08-08 12:00:00           huntington beach             ca      us   \n",
      "14  1945-07-10 01:30:00                 portsmouth             va      us   \n",
      "15  1946-02-01 17:00:00                     merced             ca      us   \n",
      "16  1946-07-01 13:30:00             south portland             me      us   \n",
      "17  1946-01-08 02:00:00   new york city (brooklyn)             ny      us   \n",
      "18  1947-06-01 02:30:00                  cleveland             oh      us   \n",
      "19  1947-06-01 17:00:00      espanola (outside of)             nm      us   \n",
      "20  1947-07-01 20:00:00                   cashmere             wa      us   \n",
      "21  1947-07-01 20:00:00                    maywood             ca      us   \n",
      "22  1948-08-01 02:00:00   new york city (brooklyn)             ny      us   \n",
      "23  1948-05-10 19:00:00                     scipio             in      us   \n",
      "24  1948-12-12 23:30:00                 sharpsburg             md      us   \n",
      "25  1949-05-01 14:00:00          oak ridge (drive)             wv      us   \n",
      "26  1949-07-01 11:00:00                  fairbanks             ak      us   \n",
      "27  1949-07-01 16:00:00                     marion             al      us   \n",
      "28  1949-04-10 15:00:00                    seattle             wa      us   \n",
      "29  1950-06-01 16:00:00               philadelphia             ms      us   \n",
      "..                  ...                        ...            ...     ...   \n",
      "317 2002-03-01 06:15:00                     naples             fl      us   \n",
      "318 2002-08-01 15:25:00                 south bend             in      us   \n",
      "319 2002-01-02 17:30:00                osage beach             mo      us   \n",
      "320 2002-07-03 01:00:00                      akron             oh      us   \n",
      "321 2002-07-04 20:23:00             san bernardino             ca      us   \n",
      "322 2002-09-05 23:00:00                    houston             tx      us   \n",
      "323 2002-10-05 23:00:00                    alameda             ca      us   \n",
      "324 2002-05-06 15:50:00       st. louis (kirkwood)             mo      us   \n",
      "325 2002-01-07 18:00:00            fort washington             md      us   \n",
      "326 2002-09-08 16:00:00  new york city (manhattan)             ny      us   \n",
      "327 2002-05-09 18:00:00          winnipeg (canada)             mb      ca   \n",
      "328 2002-05-10 23:30:00                  san diego             ca      us   \n",
      "329 2002-01-11 18:45:00              daytona beach             fl      us   \n",
      "330 2002-02-12 20:00:00                     lorain             oh      us   \n",
      "331 2003-04-01 01:00:00                    holmdel             nj      us   \n",
      "332 2003-10-02 02:45:00                  kerrville             tx      us   \n",
      "333 2003-11-04 20:00:00                  belvidere             nc      us   \n",
      "334 2003-01-06 10:10:00                  montclair             ca      us   \n",
      "335 2003-05-07 02:00:00                  jonesboro             ar      us   \n",
      "336 2003-07-08 00:30:00             grand junction             co      us   \n",
      "337 2003-04-09 21:00:00                 santa rosa             ca      us   \n",
      "338 2003-03-10 20:52:00             warner springs             ca      us   \n",
      "339 2003-07-11 20:50:00                     golden             co      us   \n",
      "340 2004-02-01 01:00:00                 south bend             in      us   \n",
      "341 2004-10-02 18:20:00                west covina             ca      us   \n",
      "342 2004-04-05 20:35:00                      miami             fl      us   \n",
      "343 2004-10-06 23:00:00                placerville             ca      us   \n",
      "344 2004-11-07 20:30:00              lavina (near)             mt      us   \n",
      "345 2004-12-08 05:30:00          montreal (canada)             qc      ca   \n",
      "346 2004-02-10 05:15:00                  mansfield             oh      us   \n",
      "\n",
      "     UFO_shape  length_of_encounter_seconds described_duration_of_encounter  \\\n",
      "0        cigar                          120                       2 minutes   \n",
      "1      unknown                           60                        1 minute   \n",
      "2         disk                           60                            1min   \n",
      "3         disk                         1800                 30 min. approx.   \n",
      "4     fireball                          300                       5 minutes   \n",
      "5         oval                          600                      10 minutes   \n",
      "6         disk                           30                      30 seconds   \n",
      "7      unknown                          180                         2-3 min   \n",
      "8        cigar                          180                       3 minutes   \n",
      "9         disk                         3600                         1+ hour   \n",
      "10        disk                           90                           01:30   \n",
      "11    fireball                          300                         5minute   \n",
      "12        disk                            2                         seconds   \n",
      "13        disk                          300                       5 minutes   \n",
      "14   formation                          180                           3 min   \n",
      "15      sphere                           10                      10 seconds   \n",
      "16        oval                           10                  10 seconds +/-   \n",
      "17        disk                          300                           5 min   \n",
      "18       light                          300               about three hours   \n",
      "19      circle                          300                       5 minutes   \n",
      "20   formation                          120                       2 minutes   \n",
      "21        disk                          120                      2  minutes   \n",
      "22      circle                          600                      10 minutes   \n",
      "23      sphere                           10                      10 seconds   \n",
      "24      circle                          180                       3 minutes   \n",
      "25       other                           40                       40seconds   \n",
      "26        disk                          120                       2 minutes   \n",
      "27   formation                           60                  under 1 minute   \n",
      "28        disk                          600                     ten minutes   \n",
      "29        disk                          600             ten minutes or less   \n",
      "..         ...                          ...                             ...   \n",
      "317   triangle                          180                       3 minutes   \n",
      "318       oval                          600                      10 minutes   \n",
      "319      cigar                          600                      10 minutes   \n",
      "320       oval                           20                      20 seconds   \n",
      "321    unknown                           15                      15 sec&#44   \n",
      "322       disk                          120                          2 mins   \n",
      "323      light                            7                       7 seconds   \n",
      "324       disk                          180                  2 or 3 minutes   \n",
      "325   teardrop                            2                         seconds   \n",
      "326     sphere                         7200                           1-2hr   \n",
      "327  formation                         2400                     30to40 mins   \n",
      "328   triangle                          300                       5 minutes   \n",
      "329      light                         3600                more than 1 hour   \n",
      "330       disk                          120                     1-2 minutes   \n",
      "331   fireball                            1                        1 second   \n",
      "332     circle                           15                      15 seconds   \n",
      "333      other                          600                      10 minutes   \n",
      "334   fireball                           10                         10 sec.   \n",
      "335    diamond                           30                      30 seconds   \n",
      "336     sphere                           60                        1 minute   \n",
      "337      other                           40                          40 sec   \n",
      "338      light                          600                         10 min.   \n",
      "339    unknown                          480                     6-8 minutes   \n",
      "340    unknown                         3600                         >1 hour   \n",
      "341    unknown                          600                      10 minutes   \n",
      "342    unknown                           60                        1 minute   \n",
      "343       disk                         3600                          1 hour   \n",
      "344       disk                         3600                    over an hour   \n",
      "345       oval                           30                about 30 seconds   \n",
      "346      other                            3                       3 seconds   \n",
      "\n",
      "                                           description date_documented  \\\n",
      "0         Cigar shaped object moving from West to East      2005-04-16   \n",
      "1    ((NUFORC Note:  Probable hoax.  Note date.  PD...      2009-05-12   \n",
      "2    we were traveling east of burns&#44clmbing up ...      2002-08-16   \n",
      "3    This is a what my mother related to me regardi...      2006-02-14   \n",
      "4    4 high school students see bright&#44 ground-l...      2014-02-21   \n",
      "5       Mother sees UFO above railroad tracks in 1939.      2005-09-02   \n",
      "6    As a boy some 60 plus years ago I saw a round ...      2003-10-07   \n",
      "7         bright object approchjng Venus&#44 1940&#39s      2007-08-07   \n",
      "8    A sighting of one silver or white enlongated c...      2004-07-25   \n",
      "9    Disk hovers over Los Alamos during the develop...      2009-05-12   \n",
      "10   Saw UFO in 1944 over an airbase in New Mexico&...      2005-04-16   \n",
      "11   I belived it would be to our best Intrest to c...      2010-11-21   \n",
      "12   I always thought this sighting should be on an...      2005-09-02   \n",
      "13   MY DAD SAYS HIS AUNT AND UNCLE SAW THIS CRAFT ...      2004-01-17   \n",
      "14   1945  RED  FLICKERING  V FORMATION  CRAFTS  MO...      2003-11-26   \n",
      "15   Three luminescent chartreusse spheres moving &...      2005-10-11   \n",
      "16   motionless&#44 dark oblong&#44 noon sky over o...      2008-06-12   \n",
      "17   Huge round silver disk hovering over neighbors...      2008-03-04   \n",
      "18   It was about 2:15 in the morning when my wife ...      2001-04-28   \n",
      "19      Saucer shaped object  about  ten feet in diam.      2013-08-30   \n",
      "20   THE SIGHTING.&#9;It was a clear&#44 summer&#82...      2005-04-16   \n",
      "21   1947 UFO sighting Date: ? sometime in early su...      2005-04-16   \n",
      "22   A round overing craft over neighbors roof&#44 ...      2005-09-15   \n",
      "23   Round red glowing ball going west in Northern ...      2005-04-16   \n",
      "24   Small UFO at 100&#39&#44  airspeed less than 2...      2009-03-19   \n",
      "25   log shape whooshing object observed near charl...      2002-03-19   \n",
      "26      Enormous metallic disc in Alaska sky&#44 1949.      2013-12-23   \n",
      "27   GEORGIA UFO GROUP Report/Tom Sheets:  Witness ...      2004-08-24   \n",
      "28                         UFO Hovers over Seattle sky      2004-04-27   \n",
      "29   Childhood sighting of disk witnessed by mother...      2008-03-12   \n",
      "..                                                 ...             ...   \n",
      "317  Black Triangle&#44 clearly seen slowly moving ...      2002-03-19   \n",
      "318  A red oval-like object flew at constant speed ...      2002-08-16   \n",
      "319  Cigar shaped object seen near Lake of the Ozar...      2002-01-11   \n",
      "320  white oval object seemed to move out of our si...      2002-08-16   \n",
      "321  Flash of halogen-quality light on fast moving ...      2002-07-26   \n",
      "322  Extreme large&#44 very bright orb gave off no ...      2007-04-27   \n",
      "323                              stationary star moves      2002-10-15   \n",
      "324  A saucer that glowed like the moon and was the...      2002-05-14   \n",
      "325  Luminous green&#44 white outlined tear shaped ...      2002-01-11   \n",
      "326  Eleven objects over Manhatten for nearly 2 hours.      2002-09-13   \n",
      "327  they were flashing orbes of light&#44consistin...      2002-05-14   \n",
      "328  Huge Triangle shaped object with amber lights ...      2002-12-23   \n",
      "329  Bright lights seen over ocean in Daytona Beach...      2002-01-29   \n",
      "330    UFO near Cleveland Ohio&#44 evening of 2/12/02.      2002-02-22   \n",
      "331  High speed  blue white streak across the sky t...      2003-06-03   \n",
      "332  first i saw 8 white lights in a V formation of...      2003-10-07   \n",
      "333  My family saw strange flying object making wil...      2003-11-08   \n",
      "334  burning or bright object not falling to earth ...      2003-03-11   \n",
      "335  Diamond shaped fuselage with multiple red ligh...      2003-05-09   \n",
      "336                                   orbs in Colorado      2003-07-16   \n",
      "337  STAR LIKE OBJECT FLYING .GENTLEY ACROSS SKY AN...      2003-04-22   \n",
      "338  In the eastern sky (over head&#44 not near the...      2003-03-21   \n",
      "339  3 lights triangular shaped&#44 AAA fire&#44 li...      2003-09-24   \n",
      "340  We saw some object in the sky move very slowly...      2004-02-12   \n",
      "341  white&#44 caterpillar contrails over Los Angel...      2004-10-27   \n",
      "342  It looked like a star and moved in a circular ...      2004-04-09   \n",
      "343  I saw 5 saucers above Placerville CA.  ((NUFOR...      2004-10-27   \n",
      "344  Many unusual lights on one object.  ((NUFORC N...      2004-11-09   \n",
      "345  Bright yellow light at the horizon in the East...      2007-08-07   \n",
      "346         THE OBJECT WAS STREAKING&#44 THEN VANISHED      2004-02-12   \n",
      "\n",
      "      latitude   longitude  Difference  \n",
      "0    32.709167  -96.008056       34652  \n",
      "1    40.123889  -86.013333       32476  \n",
      "2    43.642500 -118.627500       26704  \n",
      "3    38.917222  -97.213611       27286  \n",
      "4    34.918056  -88.064167       27293  \n",
      "5    40.397222  -91.384722       24163  \n",
      "6    43.955278  -86.452500       22772  \n",
      "7    33.660000  -84.410278       23807  \n",
      "8    32.715278 -117.156389       22120  \n",
      "9    35.888056 -106.306389       23720  \n",
      "10   34.404722 -103.204722       22293  \n",
      "11   30.518056  -82.948333       23913  \n",
      "12   36.099722  -80.244444       22001  \n",
      "13   33.660278 -117.998333       21345  \n",
      "14   36.835278  -76.298611       21322  \n",
      "15   37.302222 -120.481944       21801  \n",
      "16   43.641389  -70.241389       22626  \n",
      "17   40.714167  -74.006389       22700  \n",
      "18   41.499444  -81.695556       19689  \n",
      "19   35.991111 -106.080000       24196  \n",
      "20   47.522500 -120.468611       21108  \n",
      "21   33.986667 -118.184444       21108  \n",
      "22   40.714167  -74.006389       20863  \n",
      "23   39.079167  -85.717500       20794  \n",
      "24   39.457500  -77.749167       22011  \n",
      "25   38.075000  -81.109722       19314  \n",
      "26   64.837778 -147.716389       23550  \n",
      "27   32.632222  -87.319167       20142  \n",
      "28   47.606389 -122.330833       20105  \n",
      "29   32.771389  -89.116667       21103  \n",
      "..         ...         ...         ...  \n",
      "317  26.141667  -81.795000          17  \n",
      "318  41.683333  -86.250000          14  \n",
      "319  38.150278  -92.617778           8  \n",
      "320  41.081389  -81.519167          43  \n",
      "321  34.108333 -117.288889          21  \n",
      "322  29.763056  -95.363056        1694  \n",
      "323  37.765278 -122.240556           9  \n",
      "324  38.627222  -90.197778           7  \n",
      "325  38.707222  -77.023333           3  \n",
      "326  40.714167  -74.006389           4  \n",
      "327  49.883333  -97.166667           4  \n",
      "328  32.715278 -117.156389         226  \n",
      "329  29.210556  -81.023056          17  \n",
      "330  41.452778  -82.182500           9  \n",
      "331  40.345000  -74.184444          62  \n",
      "332  30.047222  -99.140000           4  \n",
      "333  36.268611  -76.536111           3  \n",
      "334  34.077500 -117.688889          63  \n",
      "335  35.842222  -90.704167           1  \n",
      "336  39.063889 -108.550000           7  \n",
      "337  38.440556 -122.713333          12  \n",
      "338  33.282222 -116.632778          10  \n",
      "339  39.755556 -105.220556          74  \n",
      "340  41.683333  -86.250000          10  \n",
      "341  34.090000 -117.889444          24  \n",
      "342  25.773889  -80.193889           3  \n",
      "343  38.729722 -120.797500          20  \n",
      "344  46.294722 -108.937222           1  \n",
      "345  45.500000  -73.583333         971  \n",
      "346  40.758333  -82.515556           1  \n",
      "\n",
      "[347 rows x 12 columns]\n"
     ]
    }
   ],
   "source": [
    "import pandas as pd \n",
    "df = pd.read_csv('D:\\\\Ineuron\\\\ufo.csv')\n",
    "df['Date_time'] = df['Date_time'].astype('datetime64[ns]') \n",
    "df['date_documented'] = df['date_documented'].astype('datetime64[ns]')\n",
    "print(\"Original Dataframe:\") \n",
    "print(df.head())\n",
    "print(\"\\nDifference (in days) between documented date and reporting date of UFO:\") \n",
    "df['Difference'] = (df['date_documented'] - df['Date_time']).dt.days \n",
    "print(df)"
   ]
  },
  {
   "cell_type": "code",
   "execution_count": null,
   "metadata": {},
   "outputs": [],
   "source": [
    "Q135. Write a pandas program to generate sequences of fixed- frequency dates and time spans."
   ]
  },
  {
   "cell_type": "code",
   "execution_count": 8,
   "metadata": {},
   "outputs": [
    {
     "name": "stdout",
     "output_type": "stream",
     "text": [
      "Hourly frequency:\n",
      "DatetimeIndex(['2018-01-01 00:00:00', '2018-01-01 01:00:00',\n",
      "               '2018-01-01 02:00:00', '2018-01-01 03:00:00',\n",
      "               '2018-01-01 04:00:00', '2018-01-01 05:00:00',\n",
      "               '2018-01-01 06:00:00', '2018-01-01 07:00:00',\n",
      "               '2018-01-01 08:00:00', '2018-01-01 09:00:00',\n",
      "               '2018-01-01 10:00:00', '2018-01-01 11:00:00'],\n",
      "              dtype='datetime64[ns]', freq='H')\n",
      "\n",
      "Minutely frequency:\n",
      "DatetimeIndex(['2018-01-01 00:00:00', '2018-01-01 00:01:00',\n",
      "               '2018-01-01 00:02:00', '2018-01-01 00:03:00',\n",
      "               '2018-01-01 00:04:00', '2018-01-01 00:05:00',\n",
      "               '2018-01-01 00:06:00', '2018-01-01 00:07:00',\n",
      "               '2018-01-01 00:08:00', '2018-01-01 00:09:00',\n",
      "               '2018-01-01 00:10:00', '2018-01-01 00:11:00'],\n",
      "              dtype='datetime64[ns]', freq='T')\n",
      "\n",
      "Secondly frequency:\n",
      "DatetimeIndex(['2018-01-01 00:00:00', '2018-01-01 00:00:01',\n",
      "               '2018-01-01 00:00:02', '2018-01-01 00:00:03',\n",
      "               '2018-01-01 00:00:04', '2018-01-01 00:00:05',\n",
      "               '2018-01-01 00:00:06', '2018-01-01 00:00:07',\n",
      "               '2018-01-01 00:00:08', '2018-01-01 00:00:09',\n",
      "               '2018-01-01 00:00:10', '2018-01-01 00:00:11'],\n",
      "              dtype='datetime64[ns]', freq='S')\n",
      "nMultiple Hourly frequency:\n",
      "DatetimeIndex(['2018-01-01 00:00:00', '2018-01-01 02:00:00',\n",
      "               '2018-01-01 04:00:00', '2018-01-01 06:00:00',\n",
      "               '2018-01-01 08:00:00', '2018-01-01 10:00:00',\n",
      "               '2018-01-01 12:00:00', '2018-01-01 14:00:00',\n",
      "               '2018-01-01 16:00:00', '2018-01-01 18:00:00',\n",
      "               '2018-01-01 20:00:00', '2018-01-01 22:00:00'],\n",
      "              dtype='datetime64[ns]', freq='2H')\n",
      "\n",
      "Multiple Minutely frequency:\n",
      "DatetimeIndex(['2018-01-01 00:00:00', '2018-01-01 00:05:00',\n",
      "               '2018-01-01 00:10:00', '2018-01-01 00:15:00',\n",
      "               '2018-01-01 00:20:00', '2018-01-01 00:25:00',\n",
      "               '2018-01-01 00:30:00', '2018-01-01 00:35:00',\n",
      "               '2018-01-01 00:40:00', '2018-01-01 00:45:00',\n",
      "               '2018-01-01 00:50:00', '2018-01-01 00:55:00'],\n",
      "              dtype='datetime64[ns]', freq='5T')\n",
      "\n",
      "Multiple Secondly frequency:\n",
      "DatetimeIndex(['2018-03-30', '2018-06-29', '2018-09-28', '2018-12-31',\n",
      "               '2019-03-29', '2019-06-28', '2019-09-30', '2019-12-31',\n",
      "               '2020-03-31', '2020-06-30', '2020-09-30', '2020-12-31'],\n",
      "              dtype='datetime64[ns]', freq='BQ-DEC')\n",
      "\n",
      "Weekly frequency:\n",
      "DatetimeIndex(['2018-01-07', '2018-01-14', '2018-01-21', '2018-01-28',\n",
      "               '2018-02-04', '2018-02-11', '2018-02-18', '2018-02-25',\n",
      "               '2018-03-04', '2018-03-11', '2018-03-18', '2018-03-25'],\n",
      "              dtype='datetime64[ns]', freq='W-SUN')\n",
      "\n",
      "Combine together day and intraday offsets-1:\n",
      "DatetimeIndex(['2018-01-01 00:00:00', '2018-01-01 02:20:00',\n",
      "               '2018-01-01 04:40:00', '2018-01-01 07:00:00',\n",
      "               '2018-01-01 09:20:00', '2018-01-01 11:40:00',\n",
      "               '2018-01-01 14:00:00', '2018-01-01 16:20:00',\n",
      "               '2018-01-01 18:40:00', '2018-01-01 21:00:00',\n",
      "               '2018-01-01 23:20:00', '2018-01-02 01:40:00'],\n",
      "              dtype='datetime64[ns]', freq='140T')\n",
      "\n",
      "Combine together day and intraday offsets-2:\n",
      "DatetimeIndex([       '2018-01-01 00:00:00', '2018-01-02 00:00:00.000010',\n",
      "               '2018-01-03 00:00:00.000020', '2018-01-04 00:00:00.000030',\n",
      "               '2018-01-05 00:00:00.000040', '2018-01-06 00:00:00.000050',\n",
      "               '2018-01-07 00:00:00.000060', '2018-01-08 00:00:00.000070',\n",
      "               '2018-01-09 00:00:00.000080', '2018-01-10 00:00:00.000090',\n",
      "               '2018-01-11 00:00:00.000100', '2018-01-12 00:00:00.000110'],\n",
      "              dtype='datetime64[ns]', freq='86400000010U')\n"
     ]
    }
   ],
   "source": [
    "import pandas as pd\n",
    "dtr = pd.date_range('2018-01-01', periods=12, freq='H')\n",
    "print(\"Hourly frequency:\") \n",
    "print(dtr) \n",
    "dtr = pd.date_range('2018-01-01', periods=12, freq='min')\n",
    "print(\"\\nMinutely frequency:\")\n",
    "print(dtr) \n",
    "dtr = pd.date_range('2018-01-01', periods=12, freq='S')\n",
    "print(\"\\nSecondly frequency:\") \n",
    "print(dtr) \n",
    "dtr = pd.date_range('2018-01-01', periods=12, freq='2H')\n",
    "print(\"nMultiple Hourly frequency:\") \n",
    "print(dtr) \n",
    "dtr = pd.date_range('2018-01-01', periods=12, freq='5min')\n",
    "print(\"\\nMultiple Minutely frequency:\") \n",
    "print(dtr) \n",
    "dtr = pd.date_range('2018-01-01', periods=12, freq='BQ')\n",
    "print(\"\\nMultiple Secondly frequency:\") \n",
    "print(dtr) \n",
    "dtr = pd.date_range('2018-01-01', periods=12, freq='w')\n",
    "print(\"\\nWeekly frequency:\") \n",
    "print(dtr) \n",
    "dtr = pd.date_range('2018-01-01', periods=12, freq='2h20min')\n",
    "print(\"\\nCombine together day and intraday offsets-1:\")\n",
    "print(dtr) \n",
    "dtr = pd.date_range('2018-01-01', periods=12, freq='1D10U')\n",
    "print(\"\\nCombine together day and intraday offsets-2:\") \n",
    "print(dtr)"
   ]
  },
  {
   "cell_type": "markdown",
   "metadata": {},
   "source": [
    "Q136. Write a pandas program to manipulate and convert date times with timezone information."
   ]
  },
  {
   "cell_type": "code",
   "execution_count": 11,
   "metadata": {},
   "outputs": [
    {
     "name": "stdout",
     "output_type": "stream",
     "text": [
      "DatetimeIndex(['2018-01-01 00:00:00+00:00', '2018-01-01 01:00:00+00:00',\n",
      "               '2018-01-01 02:00:00+00:00'],\n",
      "              dtype='datetime64[ns, GMT]', freq='H')\n",
      "\n",
      "From UTC to America/Los_Angeles:\n",
      "DatetimeIndex(['2017-12-31 16:00:00-08:00', '2017-12-31 17:00:00-08:00',\n",
      "               '2017-12-31 18:00:00-08:00'],\n",
      "              dtype='datetime64[ns, America/Los_Angeles]', freq='H')\n"
     ]
    }
   ],
   "source": [
    "import pandas as pd\n",
    "dtt = pd.date_range('2018-01-01', periods=3, freq='H') \n",
    "dtt = dtt.tz_localize('GMT') \n",
    "print(dtt)\n",
    "print(\"\\nFrom UTC to America/Los_Angeles:\") \n",
    "dtt = dtt.tz_convert('America/Los_Angeles') \n",
    "print(dtt)"
   ]
  },
  {
   "cell_type": "markdown",
   "metadata": {},
   "source": [
    "Q137. Write a pandas program to create the graphical analysis of UFO (unidentified flying object) Sightings year."
   ]
  },
  {
   "cell_type": "code",
   "execution_count": 13,
   "metadata": {},
   "outputs": [
    {
     "data": {
      "image/png": "[encoded data removed]",
      "text/plain": [
       "<Figure size 1080x576 with 1 Axes>"
      ]
     },
     "metadata": {
      "needs_background": "light"
     },
     "output_type": "display_data"
    }
   ],
   "source": [
    "import pandas as pd \n",
    "import matplotlib.pyplot as plt \n",
    "import seaborn as sns\n",
    "df = pd.read_csv('D:\\\\Ineuron\\\\ufo.csv') \n",
    "df['Date_time'] = df['Date_time'].astype('datetime64[ns]') \n",
    "df[\"ufo_yr\"] = df.Date_time.dt.year \n",
    "years_data = df.ufo_yr.value_counts() \n",
    "years_index = years_data.index # x ticks \n",
    "years_values = years_data.get_values() \n",
    "plt.figure(figsize=(15,8)) \n",
    "plt.xticks(rotation = 60) \n",
    "plt.title('UFO Sightings by Year')\n",
    "plt.xlabel(\"Year\") \n",
    "plt.ylabel(\"Number of reports\")\n",
    "years_plot = sns.barplot(x=years_index[:60],y=years_values[:60], palette = \"Reds\")"
   ]
  },
  {
   "cell_type": "code",
   "execution_count": null,
   "metadata": {},
   "outputs": [],
   "source": [
    "Q138. Write a pandas program to create a comparison of the top 10 years in which the (UFO) was sighted VS each Month."
   ]
  },
  {
   "cell_type": "code",
   "execution_count": 15,
   "metadata": {},
   "outputs": [
    {
     "name": "stdout",
     "output_type": "stream",
     "text": [
      "\n",
      "Comparison of the top 10 years in which the UFO was sighted vs each month:\n",
      "Date_time   1    2    3    4    5    6    7    8    9    10   11   12\n",
      "Date_time                                                            \n",
      "1993       NaN  NaN  1.0  1.0  NaN  1.0  3.0  2.0  3.0  NaN  1.0  NaN\n",
      "1994       2.0  NaN  3.0  2.0  2.0  NaN  NaN  1.0  NaN  NaN  NaN  1.0\n",
      "1995       2.0  1.0  NaN  1.0  1.0  1.0  3.0  NaN  1.0  NaN  2.0  NaN\n",
      "1996       NaN  1.0  NaN  1.0  1.0  1.0  3.0  3.0  1.0  NaN  1.0  NaN\n",
      "1997       NaN  2.0  1.0  NaN  2.0  1.0  3.0  1.0  1.0  1.0  1.0  1.0\n",
      "1998       1.0  2.0  1.0  3.0  NaN  2.0  1.0  NaN  NaN  1.0  NaN  2.0\n",
      "1999       NaN  NaN  2.0  NaN  1.0  2.0  4.0  NaN  NaN  1.0  NaN  1.0\n",
      "2000       NaN  3.0  2.0  NaN  2.0  1.0  1.0  NaN  NaN  NaN  1.0  2.0\n",
      "2001       2.0  1.0  2.0  2.0  1.0  2.0  NaN  1.0  2.0  NaN  1.0  1.0\n",
      "2002       3.0  1.0  1.0  NaN  3.0  NaN  2.0  1.0  2.0  1.0  NaN  NaN\n"
     ]
    }
   ],
   "source": [
    "import pandas as pd\n",
    "df = pd.read_csv('D:\\\\Ineuron\\\\ufo.csv')\n",
    "df['Date_time'] = df['Date_time'].astype('datetime64[ns]') \n",
    "most_sightings_years = df['Date_time'].dt.year.value_counts().head(10)\n",
    "def is_top_years(year): \n",
    "    if year in most_sightings_years.index: \n",
    "        return year \n",
    "month_vs_year = df.pivot_table(columns=df['Date_time'].dt.month,index=df['Date_time'].dt.year.apply(is_top_years),aggfunc='count',values='city') \n",
    "month_vs_year.index = month_vs_year.index.astype(int) \n",
    "month_vs_year.columns = month_vs_year.columns.astype(int)\n",
    "print(\"\\nComparison of the top 10 years in which the UFO was sighted vs each month:\") \n",
    "print(month_vs_year.head(10))"
   ]
  },
  {
   "cell_type": "code",
   "execution_count": null,
   "metadata": {},
   "outputs": [],
   "source": [
    "Q139. Write a pandas program to create a heatmap (rectangular data as a colour-encoded matrix) for comparison of top 10 years in which (UFO ) was sighted VS each Month."
   ]
  },
  {
   "cell_type": "code",
   "execution_count": 18,
   "metadata": {},
   "outputs": [
    {
     "name": "stdout",
     "output_type": "stream",
     "text": [
      "\n",
      "Heatmap for comparison of the top 10 years in which the UFO was sighted vs each month:\n"
     ]
    },
    {
     "data": {
      "image/png": "[encoded data removed]",
      "text/plain": [
       "<Figure size 720x576 with 2 Axes>"
      ]
     },
     "metadata": {
      "needs_background": "light"
     },
     "output_type": "display_data"
    }
   ],
   "source": [
    "import pandas as pd \n",
    "import matplotlib.pyplot as plt \n",
    "import seaborn as sns\n",
    "df = pd.read_csv('D:\\\\Ineuron\\\\ufo.csv') \n",
    "df['Date_time'] = df['Date_time'].astype('datetime64[ns]') \n",
    "most_sightings_years = df['Date_time'].dt.year.value_counts().head(10)\n",
    "def is_top_years(year): \n",
    "    if year in most_sightings_years.index:\n",
    "        return year \n",
    "month_vs_year = df.pivot_table(columns=df['Date_time'].dt.month,index=df['Date_time'].dt.year.apply(is_top_years),aggfunc='count',values='city') \n",
    "month_vs_year.columns = month_vs_year.columns.astype(int)\n",
    "print(\"\\nHeatmap for comparison of the top 10 years in which the UFO was sighted vs each month:\") \n",
    "plt.figure(figsize=(10,8)) \n",
    "ax = sns.heatmap(month_vs_year, vmin=0, vmax=4) \n",
    "ax.set_xlabel('Month').set_size(20) \n",
    "ax.set_ylabel('Year').set_size(20)"
   ]
  },
  {
   "cell_type": "markdown",
   "metadata": {},
   "source": [
    "Q140. Write a pandas program to create a Timewheel of Hour VS Year comparison of the top 10 years in which the (UFO) was sighted."
   ]
  },
  {
   "cell_type": "code",
   "execution_count": 25,
   "metadata": {},
   "outputs": [
    {
     "name": "stdout",
     "output_type": "stream",
     "text": [
      "\n",
      "Comparison of the top 10 years in which the UFO was sighted vs each month:\n"
     ]
    },
    {
     "name": "stderr",
     "output_type": "stream",
     "text": [
      "C:\\Users\\subba\\Anaconda3\\lib\\site-packages\\matplotlib\\colors.py:512: RuntimeWarning: invalid value encountered in less\n",
      "  xa[xa < 0] = -1\n"
     ]
    },
    {
     "data": {
      "image/png": "[encoded data removed]",
      "text/plain": [
       "<Figure size 576x576 with 1 Axes>"
      ]
     },
     "metadata": {},
     "output_type": "display_data"
    }
   ],
   "source": [
    "import pandas as pd \n",
    "import matplotlib.pyplot as plt \n",
    "import matplotlib as mpl \n",
    "import matplotlib.cm as cm\n",
    "df = pd.read_csv('D:\\\\Ineuron\\\\ufo.csv') \n",
    "df['Date_time'] = df['Date_time'].astype('datetime64[ns]') \n",
    "most_sightings_years = df['Date_time'].dt.year.value_counts().head(10) \n",
    "def is_top_years(year): \n",
    "    if year in most_sightings_years.index: \n",
    "        return year \n",
    "month_vs_year = df.pivot_table(columns=df['Date_time'].dt.month,index=df['Date_time'].dt.year.apply(is_top_years),aggfunc='count',values='city') \n",
    "month_vs_year.index = month_vs_year.index.astype(int) \n",
    "month_vs_year.columns = month_vs_year.columns.astype(int)\n",
    "print(\"\\nComparison of the top 10 years in which the UFO was sighted vs each month:\") \n",
    "def pie_heatmap(table, cmap='coolwarm_r', vmin=None, vmax=None,inner_r=0.25, pie_args={}): \n",
    "    n, m = table.shape \n",
    "    vmin= table.min().min() if vmin is None else vmin\n",
    "    vmax= table.max().max() if vmax is None else vmax\n",
    "    centre_circle = plt.Circle((0,0),inner_r,edgecolor='black',facecolor='white',fill=True,linewidth=0.25) \n",
    "    plt.gcf().gca().add_artist(centre_circle) \n",
    "    norm = mpl.colors.Normalize(vmin=vmin, vmax=vmax)\n",
    "    cmapper = cm.ScalarMappable(norm=norm, cmap=cmap)\n",
    "    for i, (row_name, row) in enumerate(table.iterrows()): \n",
    "        labels = None if i > 0 else table.columns\n",
    "        wedges = plt.pie([1] * m,radius=inner_r+float(n-i)/n, colors=[cmapper.to_rgba(x) for x in row.values],labels=labels, startangle=90, counterclock=False, wedgeprops={'linewidth':-1}, **pie_args) \n",
    "        plt.setp(wedges[0], edgecolor='grey',linewidth=1.5) \n",
    "        wedges = plt.pie([1], radius=inner_r+float(n-i-1)/n, colors=['w'], labels=[row_name], startangle=-90, wedgeprops={'linewidth':0}) \n",
    "        plt.setp(wedges[0], edgecolor='grey',linewidth=1.5) \n",
    "plt.figure(figsize=(8,8))\n",
    "plt.title(\"Timewheel of Hour Vs Year\",y=1.08,fontsize=30) \n",
    "pie_heatmap(month_vs_year, vmin=-20,vmax=80,inner_r=0.2)"
   ]
  },
  {
   "cell_type": "markdown",
   "metadata": {},
   "source": [
    "Q141. Write a python program to draw the line using given axis values with the suitable label in the x-axis, y-axis, and a title."
   ]
  },
  {
   "cell_type": "code",
   "execution_count": 28,
   "metadata": {},
   "outputs": [
    {
     "data": {
      "image/png": "[encoded data removed]",
      "text/plain": [
       "<Figure size 432x288 with 1 Axes>"
      ]
     },
     "metadata": {
      "needs_background": "light"
     },
     "output_type": "display_data"
    }
   ],
   "source": [
    "import matplotlib.pyplot as plt\n",
    "x = [1,2,3]\n",
    "y = [2,4,1]\n",
    "plt.plot(x, y)\n",
    "plt.xlabel('x - axis')\n",
    "plt.ylabel('y - axis')\n",
    "plt.title('Sample graph!')\n",
    "plt.show()"
   ]
  },
  {
   "cell_type": "markdown",
   "metadata": {},
   "source": [
    "Q142. Write a python program to draw the line charts of the financial data of the Alphabet Inc., between October."
   ]
  },
  {
   "cell_type": "code",
   "execution_count": 31,
   "metadata": {},
   "outputs": [
    {
     "data": {
      "image/png": "[encoded data removed]",
      "text/plain": [
       "<Figure size 432x288 with 1 Axes>"
      ]
     },
     "metadata": {
      "needs_background": "light"
     },
     "output_type": "display_data"
    }
   ],
   "source": [
    "import matplotlib.pyplot as plt \n",
    "import pandas as pd \n",
    "df = pd.read_csv('D:\\\\Ineuron\\\\fdata.csv', sep=',', parse_dates=True, index_col=0) \n",
    "df.plot() \n",
    "plt.show()"
   ]
  },
  {
   "cell_type": "markdown",
   "metadata": {},
   "source": [
    "Q143. Write a Python program to plot two or more lines on same plot with the suitable legends of each line."
   ]
  },
  {
   "cell_type": "code",
   "execution_count": 37,
   "metadata": {},
   "outputs": [
    {
     "data": {
      "image/png": "[encoded data removed]",
      "text/plain": [
       "<Figure size 432x288 with 1 Axes>"
      ]
     },
     "metadata": {
      "needs_background": "light"
     },
     "output_type": "display_data"
    }
   ],
   "source": [
    "import matplotlib.pyplot as plt\n",
    "x1 = [10,20,30]\n",
    "y1 = [20,40,10]\n",
    "plt.plot(x1, y1, label = \"line 1\")\n",
    "x2 = [10,20,30] \n",
    "y2 = [40,10,30]\n",
    "plt.plot(x2, y2, label = \"line 2\")\n",
    "plt.xlabel('x - axis')\n",
    "plt.ylabel('y - axis')\n",
    "plt.title('Two or more lines on same plot with suitable legends ')\n",
    "plt.legend()\n",
    "plt.show()"
   ]
  },
  {
   "cell_type": "markdown",
   "metadata": {},
   "source": [
    "Q144. Write a python programming to display a bar chart of the popularity of programming languages."
   ]
  },
  {
   "cell_type": "code",
   "execution_count": 39,
   "metadata": {},
   "outputs": [
    {
     "data": {
      "image/png": "[encoded data removed]",
      "text/plain": [
       "<Figure size 432x288 with 1 Axes>"
      ]
     },
     "metadata": {
      "needs_background": "light"
     },
     "output_type": "display_data"
    }
   ],
   "source": [
    "import matplotlib.pyplot as plt \n",
    "x = ['Java', 'Python', 'SCALA', 'R', 'C#', 'C++'] \n",
    "popularity = [22.2, 17.6, 8.8, 8, 7.7, 6.7] \n",
    "x_pos = [i for i, _ in enumerate(x)] \n",
    "plt.bar(x_pos, popularity, color='blue') \n",
    "plt.xlabel(\"Languages\") \n",
    "plt.ylabel(\"Popularity\") \n",
    "plt.title(\"PopularitY of Programming Language\\n\" + \"Worldwide, Oct 2017 compared to a year ago\") \n",
    "plt.xticks(x_pos, x)\n",
    "plt.minorticks_on() \n",
    "plt.grid(which='major', linestyle='-', linewidth='0.5', color='red')\n",
    "plt.grid(which='minor', linestyle=':', linewidth='0.5', color='black')\n",
    "plt.show()"
   ]
  },
  {
   "cell_type": "code",
   "execution_count": null,
   "metadata": {},
   "outputs": [],
   "source": []
  },
  {
   "cell_type": "code",
   "execution_count": 40,
   "metadata": {},
   "outputs": [
    {
     "data": {
      "image/png": "[encoded data removed]",
      "text/plain": [
       "<Figure size 432x288 with 1 Axes>"
      ]
     },
     "metadata": {
      "needs_background": "light"
     },
     "output_type": "display_data"
    }
   ],
   "source": [
    "import matplotlib.pyplot as plt \n",
    "x = ['Java', 'Python', 'PHP', 'JS', 'C#', 'C++'] \n",
    "popularity = [22.2, 17.6, 8.8, 8, 7.7, 6.7] \n",
    "x_pos = [i for i, _ in enumerate(x)] \n",
    "plt.barh(x_pos, popularity, color='green') \n",
    "plt.xlabel(\"Popularity\") \n",
    "plt.ylabel(\"Languages\") \n",
    "plt.title(\"PopularitY of Programming Language\\n\" + \"Worldwide, Oct 2017 compared to a year ago\") \n",
    "plt.yticks(x_pos, x)\n",
    "plt.minorticks_on() \n",
    "plt.grid(which='major', linestyle='-', linewidth='0.5', color='red')\n",
    "plt.grid(which='minor', linestyle=':', linewidth='0.5', color='black') \n",
    "plt.show()"
   ]
  },
  {
   "cell_type": "markdown",
   "metadata": {},
   "source": [
    "Q146. Write a python programming to display a bar chart of the Popularity of programming languages. Increase bottom margin."
   ]
  },
  {
   "cell_type": "code",
   "execution_count": 41,
   "metadata": {},
   "outputs": [
    {
     "data": {
      "image/png": "[encoded data removed]",
      "text/plain": [
       "<Figure size 432x288 with 1 Axes>"
      ]
     },
     "metadata": {
      "needs_background": "light"
     },
     "output_type": "display_data"
    }
   ],
   "source": [
    "import matplotlib.pyplot as plt \n",
    "x = ['Java', 'Python', 'PHP', 'JavaScript', 'C#', 'C++'] \n",
    "popularity = [22.2, 17.6, 8.8, 8, 7.7, 6.7] \n",
    "x_pos = [i for i, _ in enumerate(x)] \n",
    "plt.bar(x_pos, popularity, color=(0.4, 0.6, 0.8, 1.0)) \n",
    "plt.xlabel(\"Languages\") \n",
    "plt.ylabel(\"Popularity\") \n",
    "plt.title(\"PopularitY of Programming Language\\n\" + \"Worldwide, Oct 2017 compared to a year ago\")\n",
    "plt.xticks(x_pos, x, rotation=90)\n",
    "plt.subplots_adjust(bottom=0.4, top=.8)\n",
    "plt.minorticks_on() \n",
    "plt.grid(which='major', linestyle='-', linewidth='0.5', color='red')\n",
    "plt.grid(which='minor', linestyle=':', linewidth='0.5', color='black') \n",
    "plt.show()\n"
   ]
  },
  {
   "cell_type": "markdown",
   "metadata": {},
   "source": [
    "Q147. Write a python program to create the bar plot from a DataFrame"
   ]
  },
  {
   "cell_type": "code",
   "execution_count": 42,
   "metadata": {},
   "outputs": [
    {
     "data": {
      "image/png": "[encoded data removed]",
      "text/plain": [
       "<Figure size 432x288 with 1 Axes>"
      ]
     },
     "metadata": {
      "needs_background": "light"
     },
     "output_type": "display_data"
    }
   ],
   "source": [
    "from pandas import DataFrame \n",
    "import matplotlib.pyplot as plt \n",
    "import numpy as np\n",
    "a=np.array([[4,8,5,7,6],[2,3,4,2,6],[4,7,4,7,8],[2,6,4,8,6],[2,4,3,3,2]])\n",
    "df=DataFrame(a, columns=['a','b','c','d','e'], index=[2,4,6,8,10])\n",
    "df.plot(kind='bar')\n",
    "plt.grid(which='major', linestyle='-', linewidth='0.5', color='green') \n",
    "plt.grid(which='minor', linestyle=':', linewidth='0.5', color='black')\n",
    "plt.show()"
   ]
  },
  {
   "cell_type": "code",
   "execution_count": null,
   "metadata": {},
   "outputs": [],
   "source": [
    "Q148. Write a python program to draw the scatter plot comparing two subject marks of Mathematics and Science. Use marks of 10 students."
   ]
  },
  {
   "cell_type": "code",
   "execution_count": 43,
   "metadata": {},
   "outputs": [
    {
     "data": {
      "image/png": "[encoded data removed]",
      "text/plain": [
       "<Figure size 432x288 with 1 Axes>"
      ]
     },
     "metadata": {
      "needs_background": "light"
     },
     "output_type": "display_data"
    }
   ],
   "source": [
    "import matplotlib.pyplot as plt \n",
    "import pandas as pd \n",
    "math_marks = [88, 92, 80, 89, 100, 80, 60, 100, 80, 34] \n",
    "science_marks = [35, 79, 79, 48, 100, 88, 32, 45, 20, 30] \n",
    "marks_range = [10, 20, 30, 40, 50, 60, 70, 80, 90, 100] \n",
    "plt.scatter(marks_range, math_marks, label='Math marks', color='r') \n",
    "plt.scatter(marks_range, science_marks, label='Science marks', color='g')\n",
    "plt.title('Scatter Plot') \n",
    "plt.xlabel('Marks Range') \n",
    "plt.ylabel('Marks Scored') \n",
    "plt.legend()\n",
    "plt.show()"
   ]
  },
  {
   "cell_type": "markdown",
   "metadata": {},
   "source": [
    "Q149. Write a python program to draw the scatter plot for three different groups comparing weights and heights."
   ]
  },
  {
   "cell_type": "code",
   "execution_count": 50,
   "metadata": {},
   "outputs": [
    {
     "data": {
      "image/png": "[encoded data removed]",
      "text/plain": [
       "<Figure size 432x288 with 1 Axes>"
      ]
     },
     "metadata": {
      "needs_background": "light"
     },
     "output_type": "display_data"
    }
   ],
   "source": [
    "import matplotlib.pyplot as plt\n",
    "import numpy as np \n",
    "weight1=[67,57.2,59.6,59.64,55.8,61.2,60.45,61,56.23,56]\n",
    "height1=[101.7,197.6,98.3,125.1,113.7,157.7,136,148.9,125.3,114.9] \n",
    "weight2=[61.9,64,62.1,64.2,62.3,65.4,62.4,61.4,62.5,63.6]\n",
    "height2=[152.8,155.3,135.1,125.2,151.3,135,182.2,195.9,165.1,125.1] \n",
    "weight3=[68.2,67.2,68.4,68.7,71,71.3,70.8,70,71.1,71.7]\n",
    "height3=[165.8,170.9,192.8,135.4,161.4,136.1,167.1,235.1,181.1,177.3]\n",
    "weight=np.concatenate((weight1,weight2,weight3))\n",
    "height=np.concatenate((height1,height2,height3))\n",
    "plt.scatter(weight, height, marker='*')\n",
    "plt.xlabel('weight', fontsize=16)\n",
    "plt.ylabel('height', fontsize=16)\n",
    "plt.title('Group wise Weight vs Height scatter plot',fontsize=20)\n",
    "plt.show()"
   ]
  },
  {
   "cell_type": "markdown",
   "metadata": {},
   "source": [
    "Q150. Write a python program to draw a scatter plot to find sea-level rise in past 100 years."
   ]
  },
  {
   "cell_type": "code",
   "execution_count": 46,
   "metadata": {},
   "outputs": [
    {
     "data": {
      "image/png": "[encoded data removed]",
      "text/plain": [
       "<Figure size 432x288 with 1 Axes>"
      ]
     },
     "metadata": {
      "needs_background": "light"
     },
     "output_type": "display_data"
    }
   ],
   "source": [
    "import matplotlib.pyplot as plt\n",
    "import pandas as pd \n",
    "data = pd.read_csv('D:\\\\Ineuron\\\\data.csv') \n",
    "year = data['year'] \n",
    "sea_levels = data['CSIRO_sea_level'] \n",
    "plt.scatter(year, sea_levels, edgecolors='g')\n",
    "plt.xlabel('Year') \n",
    "plt.ylabel('Sea Level (inches)') \n",
    "plt.title('Rise in Sealevel') \n",
    "plt.show()"
   ]
  },
  {
   "cell_type": "code",
   "execution_count": null,
   "metadata": {},
   "outputs": [],
   "source": []
  }
 ],
 "metadata": {
  "kernelspec": {
   "display_name": "Python 3",
   "language": "python",
   "name": "python3"
  },
  "language_info": {
   "codemirror_mode": {
    "name": "ipython",
    "version": 3
   },
   "file_extension": ".py",
   "mimetype": "text/x-python",
   "name": "python",
   "nbconvert_exporter": "python",
   "pygments_lexer": "ipython3",
   "version": "3.7.3"
  }
 },
 "nbformat": 4,
 "nbformat_minor": 2
}
