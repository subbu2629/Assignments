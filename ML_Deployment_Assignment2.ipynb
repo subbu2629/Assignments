{
 "cells": [
  {
   "cell_type": "markdown",
   "metadata": {},
   "source": [
    "# Task 1:   "
   ]
  },
  {
   "cell_type": "raw",
   "metadata": {},
   "source": [
    "1.1  Write a Python Program to implement your own myreduce() function which works exactly like Python's built-in function reduce() "
   ]
  },
  {
   "cell_type": "code",
   "execution_count": 38,
   "metadata": {},
   "outputs": [],
   "source": [
    "#Creating own reduce method which works exactly like built in reduce()\n",
    "def myreduce(myfunc,sequence):\n",
    "    output=sequence[0]\n",
    "    \n",
    "    for item in sequence[1:]:\n",
    "        output=myfunc(output,item)\n",
    "    \n",
    "    return output\n",
    "    "
   ]
  },
  {
   "cell_type": "code",
   "execution_count": 2,
   "metadata": {},
   "outputs": [],
   "source": [
    "#Creating the below method to test custom myreduce method\n",
    "\n",
    "def sum(x,y):\n",
    "    return x*y"
   ]
  },
  {
   "cell_type": "code",
   "execution_count": 4,
   "metadata": {},
   "outputs": [
    {
     "name": "stdout",
     "output_type": "stream",
     "text": [
      "I am going to test myreduce method by giving input list :216\n"
     ]
    }
   ],
   "source": [
    "print(\"I am going to test myreduce method by giving input list :\" + str(myreduce(sum,[2,6,2,9])))"
   ]
  },
  {
   "cell_type": "raw",
   "metadata": {},
   "source": [
    "1.2 Write a Python program to implement your own myfilter() function which works exactly like Python's built-in function filter() "
   ]
  },
  {
   "cell_type": "code",
   "execution_count": 44,
   "metadata": {},
   "outputs": [],
   "source": [
    "def myfilter(myfunc,sequence):\n",
    "    output=[]\n",
    "    for item in sequence:\n",
    "        if myfunc(item):\n",
    "            output.append(item)        \n",
    "    return output"
   ]
  },
  {
   "cell_type": "code",
   "execution_count": 23,
   "metadata": {},
   "outputs": [],
   "source": [
    "#Creating the below method to test custom myreduce method\n",
    "\n",
    "def ispositive(x):\n",
    "     if (x <= 0):\n",
    "            return False\n",
    "     else:\n",
    "        return True"
   ]
  },
  {
   "cell_type": "code",
   "execution_count": 26,
   "metadata": {},
   "outputs": [
    {
     "name": "stdout",
     "output_type": "stream",
     "text": [
      "Filtering only positive Integers which are on list [0,7,-2,3,8,4,-5] using custom filter function: [7, 3, 8, 4]\n"
     ]
    }
   ],
   "source": [
    "print (\"Filtering only positive Integers which are on list [0,7,-2,3,8,4,-5] using custom filter function: \"  + str(myfilter(ispositive, [0,7,-2,3,8,4,-5])))"
   ]
  },
  {
   "cell_type": "raw",
   "metadata": {},
   "source": [
    "2. Implement List comprehensions to produce the following lists. \n",
    " \n",
    "Write List comprehensions to produce the following Lists \n",
    " \n",
    "['A', 'C', 'A', 'D', 'G', 'I', ’L’, ‘ D’] \n",
    " \n",
    "['x', 'xx', 'xxx', 'xxxx', 'y', 'yy', 'yyy', 'yyyy', 'z', 'zz', 'zzz', 'zzzz'] \n",
    " \n",
    "['x', 'y', 'z', 'xx', 'yy', 'zz', 'xx', 'yy', 'zz', 'xxxx', 'yyyy', 'zzzz'] \n",
    " \n",
    "[[2], [3], [4], [3], [4], [5], [4], [5], [6]] \n",
    " \n",
    "[[2, 3, 4, 5], [3, 4, 5, 6], [4, 5, 6, 7], [5, 6, 7, 8]] \n",
    " \n",
    "[(1, 1), (2, 1), (3, 1), (1, 2), (2, 2), (3, 2), (1, 3), (2, 3), (3, 3)] "
   ]
  },
  {
   "cell_type": "code",
   "execution_count": 59,
   "metadata": {},
   "outputs": [
    {
     "name": "stdout",
     "output_type": "stream",
     "text": [
      "ACADGILD => ['A', 'C', 'A', 'D', 'G', 'I', 'L', 'D']\n"
     ]
    }
   ],
   "source": [
    "word = \"ACADGILD\"\n",
    "alphabet_list = [ alphabet for alphabet in word ]\n",
    "print (\"ACADGILD => \" + str(alphabet_list))"
   ]
  },
  {
   "cell_type": "code",
   "execution_count": 60,
   "metadata": {},
   "outputs": [
    {
     "name": "stdout",
     "output_type": "stream",
     "text": [
      "['x','y','z'] => ['x', 'xx', 'xxx', 'xxxx', 'y', 'yy', 'yyy', 'yyyy', 'z', 'zz', 'zzz', 'zzzz']\n"
     ]
    }
   ],
   "source": [
    "inputlist = ['x','y','z']\n",
    "output = [ item*num for item in inputlist for num in range(1,5)  ]\n",
    "print(\"['x','y','z'] => \" +   str(output))"
   ]
  },
  {
   "cell_type": "code",
   "execution_count": 61,
   "metadata": {},
   "outputs": [
    {
     "name": "stdout",
     "output_type": "stream",
     "text": [
      "['x','y','z'] => ['x', 'y', 'z', 'xx', 'yy', 'zz', 'xxx', 'yyy', 'zzz', 'xxxx', 'yyyy', 'zzzz']\n"
     ]
    }
   ],
   "source": [
    "inputlist = ['x','y','z']\n",
    "output = [ item*num for num in range(1,5) for item in inputlist  ]\n",
    "print(\"['x','y','z'] => \" +   str(output))\n"
   ]
  },
  {
   "cell_type": "code",
   "execution_count": 62,
   "metadata": {},
   "outputs": [
    {
     "name": "stdout",
     "output_type": "stream",
     "text": [
      "[2,3,4] =>[[2], [3], [4], [3], [4], [5], [4], [5], [6]]\n"
     ]
    }
   ],
   "source": [
    "inputlist = [2,3,4]\n",
    "output = [ [item+num] for item in inputlist for num in range(0,3)]\n",
    "print(\"[2,3,4] =>\" +  str(output))"
   ]
  },
  {
   "cell_type": "code",
   "execution_count": 63,
   "metadata": {},
   "outputs": [
    {
     "name": "stdout",
     "output_type": "stream",
     "text": [
      "[2,3,4,5] =>[[2, 3, 4, 5], [3, 4, 5, 6], [4, 5, 6, 7], [5, 6, 7, 8]]\n"
     ]
    }
   ],
   "source": [
    "inputlist = [2,3,4,5]\n",
    "output = [ [item+num for item in inputlist] for num in range(0,4)  ]\n",
    "print(\"[2,3,4,5] =>\" +  str(output))"
   ]
  },
  {
   "cell_type": "code",
   "execution_count": 58,
   "metadata": {},
   "outputs": [
    {
     "name": "stdout",
     "output_type": "stream",
     "text": [
      "[1,2,3] =>[(1, 1), (2, 1), (3, 1), (1, 2), (2, 2), (3, 2), (1, 3), (2, 3), (3, 3)]\n"
     ]
    }
   ],
   "source": [
    "inputlist=[1,2,3]\n",
    "result = [ (b,a) for a in inputlist for b in inputlist]\n",
    "print(\"[1,2,3] =>\" +  str(output))"
   ]
  },
  {
   "cell_type": "raw",
   "metadata": {},
   "source": [
    "3.Implement a function longestWord() that takes a list of words and returns the longest one. "
   ]
  },
  {
   "cell_type": "code",
   "execution_count": 45,
   "metadata": {},
   "outputs": [],
   "source": [
    "wordlist = [\"Yahoo\",\"Learning\",\"DS\",\"ML\",\"AI\"]\n",
    "def longestWord(wordlist):\n",
    "    return myreduce((lambda x,y:y if len(y) > len(x) else x), wordlist) \n",
    "\n",
    "#Used my reduce method created above. We can also use reduce built in function by using from functools import reduce\n",
    "\n",
    "        "
   ]
  },
  {
   "cell_type": "code",
   "execution_count": 46,
   "metadata": {},
   "outputs": [
    {
     "name": "stdout",
     "output_type": "stream",
     "text": [
      "Longest word in the given list is => Learning\n"
     ]
    }
   ],
   "source": [
    "print (\"Longest word in the given list is => \" + str(longestWord(wordlist)))"
   ]
  },
  {
   "cell_type": "markdown",
   "metadata": {},
   "source": [
    "# Task 2: "
   ]
  },
  {
   "cell_type": "raw",
   "metadata": {},
   "source": [
    "1.1 Write a Python Program(with class concepts) to find the area of the triangle using the below formula. \n",
    " \n",
    "area = (s*(s-a)*(s-b)*(s-c)) ** 0.5 \n",
    " \n",
    "Function to take the length of the sides of triangle from user should be defined in the parent class and function to calculate the area should be defined in subclass."
   ]
  },
  {
   "cell_type": "code",
   "execution_count": 69,
   "metadata": {},
   "outputs": [
    {
     "name": "stdout",
     "output_type": "stream",
     "text": [
      "This is Triangle sub class\n",
      "Triangle with sides are [6,8,5]\n",
      "9.5\n",
      "Area of triangle = 14.981238266578634\n"
     ]
    }
   ],
   "source": [
    "class Triangle:\n",
    " def __init__(self, side1, side2, side3):\n",
    "  self.side1 = side1\n",
    "  self.side2 = side2\n",
    "  self.side3 = side3\n",
    "  print (\"Triangle with sides are [\" +  str(side1) + \",\" + str(side2) + \",\" + str(side3) + \"]\")\n",
    "\n",
    "class Trianglesubcls(Triangle):\n",
    " \n",
    " def __init__(self, side1, side2, side3):\n",
    "  print (\"This is Triangle sub class\" )\n",
    "  super(Trianglesubcls, self).__init__(side1, side2, side3)\n",
    "\n",
    " def Trianglearea(self):\n",
    "  s = (self.side1 + self.side2 + self.side3)/2\n",
    "  print (\"The value of s is\" + str(s))\n",
    "  return (s*(s-self.side1)*(s-self.side2)*(s-self.side3))**0.5\n",
    "\n",
    "instance = Trianglesubcls(6,8,5)\n",
    "print (\"Area of triangle = \" + str(instance.Trianglearea()))"
   ]
  },
  {
   "cell_type": "raw",
   "metadata": {},
   "source": [
    "1.2 Write a function filter_long_words() that takes a list of words and an integer n and returns the list of words that are longer than n. "
   ]
  },
  {
   "cell_type": "code",
   "execution_count": 52,
   "metadata": {},
   "outputs": [],
   "source": [
    "wordlist = [\"Yahoo\",\"Learning\",\"DS\",\"ML\",\"AI\"]\n",
    "def filter_long_words(wordlist,n):\n",
    "    return list(filter(lambda x:len(x) > n, wordlist))\n",
    "\n",
    "#Used my reduce method created above. We can also use reduce() built in function by using the statement \n",
    "#from functools import reduce"
   ]
  },
  {
   "cell_type": "code",
   "execution_count": 53,
   "metadata": {},
   "outputs": [
    {
     "name": "stdout",
     "output_type": "stream",
     "text": [
      "Longest word in the given list is => ['Yahoo', 'Learning']\n"
     ]
    }
   ],
   "source": [
    "print (\"Longest word in the given list is => \" + str(filter_long_words(wordlist,2)))"
   ]
  },
  {
   "cell_type": "raw",
   "metadata": {},
   "source": [
    "2.1 Write a Python program using function concept that maps  list of words into a list of integers representing the lengths of the corresponding words​. \n",
    " Hint: ​If a list [ ab,cde,erty] is passed on to the python function output should come as [2,3,4] \n",
    " Here 2,3 and 4 are the lengths of the words in the list. "
   ]
  },
  {
   "cell_type": "code",
   "execution_count": 56,
   "metadata": {},
   "outputs": [],
   "source": [
    "wordlist = [\"Yahoo\",\"Learning\",\"DS\",\"ML\",\"AI\"]\n",
    "\n",
    "def wordlen(wordlist):\n",
    " return list(map(lambda x:len(x), wordlist))"
   ]
  },
  {
   "cell_type": "code",
   "execution_count": 57,
   "metadata": {},
   "outputs": [
    {
     "name": "stdout",
     "output_type": "stream",
     "text": [
      "Each word lengths in array => [5, 8, 2, 2, 2]\n"
     ]
    }
   ],
   "source": [
    "print (\"Each word lengths in array => \" + str(wordlen(wordlist)))"
   ]
  },
  {
   "cell_type": "raw",
   "metadata": {},
   "source": [
    "2.2 Write a Python function which takes a character (i.e. a string of length 1) and returns True if it is a vowel, False otherwise. "
   ]
  },
  {
   "cell_type": "code",
   "execution_count": 65,
   "metadata": {},
   "outputs": [],
   "source": [
    "def isvowel(x):\n",
    "    if(x.isalpha()==False):\n",
    "        return print(\"Please enter valid character and try\")\n",
    "    elif(x in \"aeiou\" or \"AEIOU\"):\n",
    "        return True\n",
    "    else:\n",
    "        return False"
   ]
  },
  {
   "cell_type": "code",
   "execution_count": 66,
   "metadata": {},
   "outputs": [
    {
     "data": {
      "text/plain": [
       "True"
      ]
     },
     "execution_count": 66,
     "metadata": {},
     "output_type": "execute_result"
    }
   ],
   "source": [
    "isvowel('a')"
   ]
  }
 ],
 "metadata": {
  "kernelspec": {
   "display_name": "Python 3",
   "language": "python",
   "name": "python3"
  },
  "language_info": {
   "codemirror_mode": {
    "name": "ipython",
    "version": 3
   },
   "file_extension": ".py",
   "mimetype": "text/x-python",
   "name": "python",
   "nbconvert_exporter": "python",
   "pygments_lexer": "ipython3",
   "version": "3.7.3"
  }
 },
 "nbformat": 4,
 "nbformat_minor": 2
}
